{
 "cells": [
  {
   "cell_type": "code",
   "execution_count": null,
   "id": "394e4e6b",
   "metadata": {},
   "outputs": [
    {
     "name": "stdout",
     "output_type": "stream",
     "text": [
      "<class 'pandas.core.frame.DataFrame'>\n",
      "RangeIndex: 206 entries, 0 to 205\n",
      "Data columns (total 41 columns):\n",
      " #   Column                 Non-Null Count  Dtype  \n",
      "---  ------                 --------------  -----  \n",
      " 0   Unnamed: 0             206 non-null    int64  \n",
      " 1   Country of Origin      206 non-null    object \n",
      " 2   Farm Name              204 non-null    object \n",
      " 3   Lot Number             205 non-null    object \n",
      " 4   Mill                   202 non-null    object \n",
      " 5   ICO Number             77 non-null     object \n",
      " 6   Company                206 non-null    object \n",
      " 7   Altitude               205 non-null    object \n",
      " 8   Region                 204 non-null    object \n",
      " 9   Producer               205 non-null    object \n",
      " 10  Number of Bags         206 non-null    int64  \n",
      " 11  Bag Weight             206 non-null    object \n",
      " 12  In-Country Partner     206 non-null    object \n",
      " 13  Harvest Year           206 non-null    object \n",
      " 14  Grading Date           206 non-null    object \n",
      " 15  Owner                  206 non-null    object \n",
      " 16  Variety                199 non-null    object \n",
      " 17  Status                 206 non-null    object \n",
      " 18  Processing Method      201 non-null    object \n",
      " 19  Aroma                  206 non-null    float64\n",
      " 20  Flavor                 206 non-null    float64\n",
      " 21  Aftertaste             206 non-null    float64\n",
      " 22  Acidity                206 non-null    float64\n",
      " 23  Body                   206 non-null    float64\n",
      " 24  Balance                206 non-null    float64\n",
      " 25  Uniformity             206 non-null    float64\n",
      " 26  Clean Cup              206 non-null    float64\n",
      " 27  Sweetness              206 non-null    float64\n",
      " 28  Overall                206 non-null    float64\n",
      " 29  Defects                206 non-null    float64\n",
      " 30  Total Cup Points       206 non-null    float64\n",
      " 31  Moisture               206 non-null    object \n",
      " 32  Category One Defects   206 non-null    object \n",
      " 33  Quakers                206 non-null    int64  \n",
      " 34  Color                  206 non-null    object \n",
      " 35  Category Two Defects   206 non-null    object \n",
      " 36  NA                     0 non-null      float64\n",
      " 37  Expiration             206 non-null    object \n",
      " 38  Certification Body     206 non-null    object \n",
      " 39  Certification Address  206 non-null    object \n",
      " 40  Certification Contact  206 non-null    object \n",
      "dtypes: float64(13), int64(3), object(25)\n",
      "memory usage: 66.1+ KB\n"
     ]
    }
   ],
   "source": [
    "import os\n",
    "\n",
    "import pandas as pd\n",
    "import numpy as np\n",
    "\n",
    "df = pd.read_csv('df_1_arabica.csv')\n",
    "df.info()"
   ]
  },
  {
   "cell_type": "code",
   "execution_count": null,
   "id": "fc151eee",
   "metadata": {},
   "outputs": [],
   "source": [
    "df.rename(columns={df.columns[0]: 'ID'}, inplace=True) # changing the uninformative first column to ID\n",
    "df['ID'] = pd.Series(range(df.shape[0])) # assigning the ID numbers\n",
    "\n",
    "df.drop('NA', axis='columns', inplace=True) # dropping the NA columns. It's just NA."
   ]
  },
  {
   "cell_type": "code",
   "execution_count": null,
   "id": "dc8969a2",
   "metadata": {},
   "outputs": [
    {
     "data": {
      "text/plain": [
       "(206, 40)"
      ]
     },
     "execution_count": null,
     "metadata": {},
     "output_type": "execute_result"
    }
   ],
   "source": [
    "df.shape"
   ]
  },
  {
   "cell_type": "code",
   "execution_count": null,
   "id": "ad7fc7c6",
   "metadata": {},
   "outputs": [],
   "source": [
    "df['Color'] = df['Color'].str.lower() # for consistent wording"
   ]
  },
  {
   "cell_type": "code",
   "execution_count": null,
   "id": "85b726fc",
   "metadata": {},
   "outputs": [
    {
     "data": {
      "text/plain": [
       "0             green\n",
       "1        blue-green\n",
       "2         yellowish\n",
       "3      yellow green\n",
       "4      yellow green\n",
       "           ...     \n",
       "201           green\n",
       "202           green\n",
       "203    bluish-green\n",
       "204           green\n",
       "205        greenish\n",
       "Name: Color, Length: 206, dtype: object"
      ]
     },
     "execution_count": null,
     "metadata": {},
     "output_type": "execute_result"
    }
   ],
   "source": [
    "df['Color']"
   ]
  },
  {
   "cell_type": "code",
   "execution_count": null,
   "id": "bb0a24d9",
   "metadata": {},
   "outputs": [
    {
     "name": "stderr",
     "output_type": "stream",
     "text": [
      "C:\\Users\\hh\\AppData\\Local\\Temp\\ipykernel_10464\\1204583644.py:1: FutureWarning: In a future version of pandas all arguments of StringMethods.split except for the argument 'pat' will be keyword-only.\n",
      "  df['Category One Defects'] = df['Category One Defects'].str.split(' ', 1, expand=True)[0] # only numeric values\n",
      "C:\\Users\\hh\\AppData\\Local\\Temp\\ipykernel_10464\\1204583644.py:5: FutureWarning: In a future version of pandas all arguments of StringMethods.split except for the argument 'pat' will be keyword-only.\n",
      "  df['Moisture Percentage'] = df['Moisture Percentage'].str.split(' ', 1, expand=True)[0] # only numeric values\n"
     ]
    }
   ],
   "source": [
    "df['Category One Defects'] = df['Category One Defects'].str.split(' ', 1, expand=True)[0] # only numeric values\n",
    "# df['Category Two Defects'] = df['Category Two Defects'].str.split(' ', 1, expand=True)[0] # only numeric values\n",
    "\n",
    "df.rename(columns={'Moisture': 'Moisture Percentage'}, inplace=True) # this variable is in percentage, changing the name\n",
    "df['Moisture Percentage'] = df['Moisture Percentage'].str.split(' ', 1, expand=True)[0] # only numeric values\n",
    "\n",
    "df.to_csv('df_arabica_clean.csv')"
   ]
  },
  {
   "cell_type": "code",
   "execution_count": null,
   "id": "6526eabf",
   "metadata": {},
   "outputs": [],
   "source": []
  }
 ],
 "metadata": {
  "kernelspec": {
   "display_name": "python3",
   "language": "python",
   "name": "python3"
  }
 },
 "nbformat": 4,
 "nbformat_minor": 5
}
