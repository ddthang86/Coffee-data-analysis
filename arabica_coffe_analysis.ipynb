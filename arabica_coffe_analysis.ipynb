{
 "cells": [
  {
   "cell_type": "markdown",
   "id": "2de60517",
   "metadata": {},
   "source": [
    "# <span style=\"color:#E888BB; font-size: 1%;\">INTRODUCTION</span>\n",
    "<div style=\"padding: 35px;color:white;margin:10;font-size:170%;text-align:left;display:fill;border-radius:10px;overflow:hidden;background-image: url(https://images.pexels.com/photos/942802/pexels-photo-942802.jpeg?auto=compress&cs=tinysrgb&w=1260&h=750&dpr=1)\"><b><span style='color:white'>INTRODUCTION </span></b> </div>\n",
    "\n",
    "### <b>I <span style='color:#16C2D5'>|</span> Preface</b> \n",
    "\n",
    "In this project, we aim to build a predictive model to estimate the total cup points, a comprehensive metric of coffee quality, based on these influencing factors. We utilize a dataset provided by the Coffee Quality Union, which includes coffee samples from Colombia, each characterized by a set of features such as the `country of origin`, `company`, `altitude`, `harvest year`, `processing method`, `sensory attributes`, `moisture percentage`, `category one and two defects`, `color`, `expiration`, `certification body`, and `coffee age`.\n",
    "\n",
    "Our approach involves preprocessing the data, exploring the data through visualizations, and then applying a machine learning model - specifically, a Random Forest Regressor - to predict the total cup points. We also evaluate the model's performance and visualize the results to gain insights into the model's accuracy and the importance of each feature in predicting coffee quality.\n",
    "\n",
    "![](https://images.pexels.com/photos/2067628/pexels-photo-2067628.jpeg?auto=compress&cs=tinysrgb&w=1260&h=750&dpr=1)\n",
    "\n",
    "\n",
    "### <b>II <span style='color:#16C2D5'>|</span> Import libraries</b> "
   ]
  },
  {
   "cell_type": "code",
   "execution_count": null,
   "id": "6c747ff2",
   "metadata": {},
   "outputs": [],
   "source": [
    "import pandas as pd\n",
    "import numpy as np\n",
    "import matplotlib.pyplot as plt\n",
    "import seaborn as sns\n",
    "import plotly.express as px\n",
    "import plotly.graph_objects as go\n",
    "from plotly.subplots import make_subplots\n",
    "import matplotlib.colors as mcolors\n",
    "from dateutil import parser\n",
    "\n",
    "# Import Scikit-learn for Machine Learning libraries\n",
    "from sklearn.preprocessing import LabelEncoder, StandardScaler, MinMaxScaler, OneHotEncoder\n",
    "from sklearn.model_selection import train_test_split, GridSearchCV, cross_val_score\n",
    "from sklearn.linear_model import LogisticRegression\n",
    "from sklearn.ensemble import RandomForestClassifier, GradientBoostingClassifier, RandomForestRegressor\n",
    "from sklearn.metrics import confusion_matrix, accuracy_score, classification_report, mean_squared_error\n",
    "from sklearn.pipeline import Pipeline\n",
    "from sklearn.compose import ColumnTransformer\n",
    "from sklearn.manifold import TSNE"
   ]
  },
  {
   "cell_type": "markdown",
   "id": "32d301ab",
   "metadata": {},
   "source": [
    "### <b>III <span style='color:#16C2D5'>|</span> Input the data</b> "
   ]
  },
  {
   "cell_type": "code",
   "execution_count": null,
   "id": "1728be7a",
   "metadata": {},
   "outputs": [],
   "source": [
    "df = pd.read_csv(\"df_arabica_clean.csv\")"
   ]
  },
  {
   "cell_type": "code",
   "execution_count": null,
   "id": "dff4836f",
   "metadata": {},
   "outputs": [
    {
     "data": {
      "text/html": [
       "<div>\n",
       "<style scoped>\n",
       "    .dataframe tbody tr th:only-of-type {\n",
       "        vertical-align: middle;\n",
       "    }\n",
       "\n",
       "    .dataframe tbody tr th {\n",
       "        vertical-align: top;\n",
       "    }\n",
       "\n",
       "    .dataframe thead th {\n",
       "        text-align: right;\n",
       "    }\n",
       "</style>\n",
       "<table border=\"1\" class=\"dataframe\">\n",
       "  <thead>\n",
       "    <tr style=\"text-align: right;\">\n",
       "      <th></th>\n",
       "      <th>Unnamed: 0</th>\n",
       "      <th>ID</th>\n",
       "      <th>Country of Origin</th>\n",
       "      <th>Farm Name</th>\n",
       "      <th>Lot Number</th>\n",
       "      <th>Mill</th>\n",
       "      <th>ICO Number</th>\n",
       "      <th>Company</th>\n",
       "      <th>Altitude</th>\n",
       "      <th>Region</th>\n",
       "      <th>...</th>\n",
       "      <th>Total Cup Points</th>\n",
       "      <th>Moisture Percentage</th>\n",
       "      <th>Category One Defects</th>\n",
       "      <th>Quakers</th>\n",
       "      <th>Color</th>\n",
       "      <th>Category Two Defects</th>\n",
       "      <th>Expiration</th>\n",
       "      <th>Certification Body</th>\n",
       "      <th>Certification Address</th>\n",
       "      <th>Certification Contact</th>\n",
       "    </tr>\n",
       "  </thead>\n",
       "  <tbody>\n",
       "    <tr>\n",
       "      <th>0</th>\n",
       "      <td>0</td>\n",
       "      <td>0</td>\n",
       "      <td>Colombia</td>\n",
       "      <td>Finca El Paraiso</td>\n",
       "      <td>CQU2022015</td>\n",
       "      <td>Finca El Paraiso</td>\n",
       "      <td>NaN</td>\n",
       "      <td>Coffee Quality Union</td>\n",
       "      <td>1700-1930</td>\n",
       "      <td>Piendamo,Cauca</td>\n",
       "      <td>...</td>\n",
       "      <td>89.33</td>\n",
       "      <td>11.8</td>\n",
       "      <td>0</td>\n",
       "      <td>0</td>\n",
       "      <td>green</td>\n",
       "      <td>3</td>\n",
       "      <td>September 21st, 2023</td>\n",
       "      <td>Japan Coffee Exchange</td>\n",
       "      <td>〒413-0002 静岡県熱海市伊豆山１１７３−５８ 1173-58 Izusan, Ata...</td>\n",
       "      <td>松澤　宏樹　Koju Matsuzawa - +81(0)9085642901</td>\n",
       "    </tr>\n",
       "    <tr>\n",
       "      <th>1</th>\n",
       "      <td>1</td>\n",
       "      <td>1</td>\n",
       "      <td>Taiwan</td>\n",
       "      <td>Royal Bean Geisha Estate</td>\n",
       "      <td>The 2022 Pacific Rim Coffee Summit,T037</td>\n",
       "      <td>Royal Bean Geisha Estate</td>\n",
       "      <td>NaN</td>\n",
       "      <td>Taiwan Coffee Laboratory</td>\n",
       "      <td>1200</td>\n",
       "      <td>Chiayi</td>\n",
       "      <td>...</td>\n",
       "      <td>87.58</td>\n",
       "      <td>10.5</td>\n",
       "      <td>0</td>\n",
       "      <td>0</td>\n",
       "      <td>blue-green</td>\n",
       "      <td>0</td>\n",
       "      <td>November 15th, 2023</td>\n",
       "      <td>Taiwan Coffee Laboratory 台灣咖啡研究室</td>\n",
       "      <td>QAHWAH CO., LTD 4F, No. 225, Sec. 3, Beixin Rd...</td>\n",
       "      <td>Lin, Jen-An Neil 林仁安 - 886-289116612</td>\n",
       "    </tr>\n",
       "    <tr>\n",
       "      <th>2</th>\n",
       "      <td>2</td>\n",
       "      <td>2</td>\n",
       "      <td>Laos</td>\n",
       "      <td>OKLAO coffee farms</td>\n",
       "      <td>The 2022 Pacific Rim Coffee Summit,LA01</td>\n",
       "      <td>oklao coffee processing plant</td>\n",
       "      <td>NaN</td>\n",
       "      <td>Taiwan Coffee Laboratory</td>\n",
       "      <td>1300</td>\n",
       "      <td>Laos Borofen Plateau</td>\n",
       "      <td>...</td>\n",
       "      <td>87.42</td>\n",
       "      <td>10.4</td>\n",
       "      <td>0</td>\n",
       "      <td>0</td>\n",
       "      <td>yellowish</td>\n",
       "      <td>2</td>\n",
       "      <td>November 15th, 2023</td>\n",
       "      <td>Taiwan Coffee Laboratory 台灣咖啡研究室</td>\n",
       "      <td>QAHWAH CO., LTD 4F, No. 225, Sec. 3, Beixin Rd...</td>\n",
       "      <td>Lin, Jen-An Neil 林仁安 - 886-289116612</td>\n",
       "    </tr>\n",
       "    <tr>\n",
       "      <th>3</th>\n",
       "      <td>3</td>\n",
       "      <td>3</td>\n",
       "      <td>Ethiopia</td>\n",
       "      <td>ELIAS OMER</td>\n",
       "      <td>YIRGACHEFFE KOCHERE</td>\n",
       "      <td>RUKIA MOHAMMED</td>\n",
       "      <td>NaN</td>\n",
       "      <td>KEBIR COFFEE TRADING PLC</td>\n",
       "      <td>1719</td>\n",
       "      <td>SNNP</td>\n",
       "      <td>...</td>\n",
       "      <td>87.42</td>\n",
       "      <td>10.5</td>\n",
       "      <td>0</td>\n",
       "      <td>3</td>\n",
       "      <td>yellow green</td>\n",
       "      <td>5</td>\n",
       "      <td>June 6th, 2024</td>\n",
       "      <td>METAD Agricultural Development plc</td>\n",
       "      <td>BAWA Center, 3rd Floor (Gerji), Addis Ababa, E...</td>\n",
       "      <td>Aman Adinew (Emebet Dinku) - +251-116-292534, ...</td>\n",
       "    </tr>\n",
       "    <tr>\n",
       "      <th>4</th>\n",
       "      <td>4</td>\n",
       "      <td>4</td>\n",
       "      <td>Ethiopia</td>\n",
       "      <td>Fikremariam Dry Mill</td>\n",
       "      <td>1</td>\n",
       "      <td>Dry Mill</td>\n",
       "      <td>010/0218/0035</td>\n",
       "      <td>Tadesse Desta Import and Export</td>\n",
       "      <td>2084 MASL</td>\n",
       "      <td>Oromia</td>\n",
       "      <td>...</td>\n",
       "      <td>87.25</td>\n",
       "      <td>10.2</td>\n",
       "      <td>0</td>\n",
       "      <td>3</td>\n",
       "      <td>yellow green</td>\n",
       "      <td>10</td>\n",
       "      <td>June 14th, 2024</td>\n",
       "      <td>METAD Agricultural Development plc</td>\n",
       "      <td>BAWA Center, 3rd Floor (Gerji), Addis Ababa, E...</td>\n",
       "      <td>Aman Adinew (Emebet Dinku) - +251-116-292534, ...</td>\n",
       "    </tr>\n",
       "  </tbody>\n",
       "</table>\n",
       "<p>5 rows × 41 columns</p>\n",
       "</div>"
      ],
      "text/plain": [
       "   Unnamed: 0  ID Country of Origin                 Farm Name  \\\n",
       "0           0   0          Colombia          Finca El Paraiso   \n",
       "1           1   1            Taiwan  Royal Bean Geisha Estate   \n",
       "2           2   2              Laos        OKLAO coffee farms   \n",
       "3           3   3          Ethiopia                ELIAS OMER   \n",
       "4           4   4          Ethiopia      Fikremariam Dry Mill   \n",
       "\n",
       "                                Lot Number                           Mill  \\\n",
       "0                               CQU2022015               Finca El Paraiso   \n",
       "1  The 2022 Pacific Rim Coffee Summit,T037       Royal Bean Geisha Estate   \n",
       "2  The 2022 Pacific Rim Coffee Summit,LA01  oklao coffee processing plant   \n",
       "3                      YIRGACHEFFE KOCHERE                 RUKIA MOHAMMED   \n",
       "4                                        1                       Dry Mill   \n",
       "\n",
       "      ICO Number                          Company   Altitude  \\\n",
       "0            NaN             Coffee Quality Union  1700-1930   \n",
       "1            NaN         Taiwan Coffee Laboratory       1200   \n",
       "2            NaN         Taiwan Coffee Laboratory       1300   \n",
       "3            NaN         KEBIR COFFEE TRADING PLC       1719   \n",
       "4  010/0218/0035  Tadesse Desta Import and Export  2084 MASL   \n",
       "\n",
       "                 Region  ... Total Cup Points  Moisture Percentage  \\\n",
       "0        Piendamo,Cauca  ...            89.33                 11.8   \n",
       "1                Chiayi  ...            87.58                 10.5   \n",
       "2  Laos Borofen Plateau  ...            87.42                 10.4   \n",
       "3                  SNNP  ...            87.42                 10.5   \n",
       "4                Oromia  ...            87.25                 10.2   \n",
       "\n",
       "  Category One Defects Quakers         Color Category Two Defects  \\\n",
       "0                    0       0         green                    3   \n",
       "1                    0       0    blue-green                    0   \n",
       "2                    0       0     yellowish                    2   \n",
       "3                    0       3  yellow green                    5   \n",
       "4                    0       3  yellow green                   10   \n",
       "\n",
       "             Expiration                  Certification Body  \\\n",
       "0  September 21st, 2023               Japan Coffee Exchange   \n",
       "1   November 15th, 2023    Taiwan Coffee Laboratory 台灣咖啡研究室   \n",
       "2   November 15th, 2023    Taiwan Coffee Laboratory 台灣咖啡研究室   \n",
       "3        June 6th, 2024  METAD Agricultural Development plc   \n",
       "4       June 14th, 2024  METAD Agricultural Development plc   \n",
       "\n",
       "                               Certification Address  \\\n",
       "0  〒413-0002 静岡県熱海市伊豆山１１７３−５８ 1173-58 Izusan, Ata...   \n",
       "1  QAHWAH CO., LTD 4F, No. 225, Sec. 3, Beixin Rd...   \n",
       "2  QAHWAH CO., LTD 4F, No. 225, Sec. 3, Beixin Rd...   \n",
       "3  BAWA Center, 3rd Floor (Gerji), Addis Ababa, E...   \n",
       "4  BAWA Center, 3rd Floor (Gerji), Addis Ababa, E...   \n",
       "\n",
       "                               Certification Contact  \n",
       "0            松澤　宏樹　Koju Matsuzawa - +81(0)9085642901  \n",
       "1               Lin, Jen-An Neil 林仁安 - 886-289116612  \n",
       "2               Lin, Jen-An Neil 林仁安 - 886-289116612  \n",
       "3  Aman Adinew (Emebet Dinku) - +251-116-292534, ...  \n",
       "4  Aman Adinew (Emebet Dinku) - +251-116-292534, ...  \n",
       "\n",
       "[5 rows x 41 columns]"
      ]
     },
     "execution_count": null,
     "metadata": {},
     "output_type": "execute_result"
    }
   ],
   "source": [
    "df.head()"
   ]
  },
  {
   "cell_type": "markdown",
   "id": "b4b3987f",
   "metadata": {},
   "source": [
    "# <span style=\"color:#E888BB; font-size: 1%;\">1 | Data Cleansing and Data Prep</span>\n",
    "<div style=\"padding: 35px;color:white;margin:10;font-size:170%;text-align:left;display:fill;border-radius:10px;overflow:hidden;background-image: url(https://images.pexels.com/photos/942802/pexels-photo-942802.jpeg?auto=compress&cs=tinysrgb&w=1260&h=750&dpr=1)\"><b><span style='color:white'>1 | Data Cleansing and Data Prep </span></b> </div>\n",
    "\n",
    "## <div style=\"padding: 20px;color:white;margin:10;font-size:90%;text-align:left;display:fill;border-radius:10px;overflow:hidden;background-image: url(https://w0.peakpx.com/wallpaper/957/661/HD-wallpaper-white-marble-white-stone-texture-marble-stone-background-white-stone.jpg)\"><b><span style='color:black'> 1. Data Quality</span></b> </div>\n",
    "\n",
    "### <b>I <span style='color:#16C2D5'>|</span> Handling Duplicates</b> "
   ]
  },
  {
   "cell_type": "code",
   "execution_count": null,
   "id": "f23fc387",
   "metadata": {},
   "outputs": [
    {
     "name": "stdout",
     "output_type": "stream",
     "text": [
      "number of duplicate rows:  (0, 41)\n"
     ]
    },
    {
     "data": {
      "text/html": [
       "<div>\n",
       "<style scoped>\n",
       "    .dataframe tbody tr th:only-of-type {\n",
       "        vertical-align: middle;\n",
       "    }\n",
       "\n",
       "    .dataframe tbody tr th {\n",
       "        vertical-align: top;\n",
       "    }\n",
       "\n",
       "    .dataframe thead th {\n",
       "        text-align: right;\n",
       "    }\n",
       "</style>\n",
       "<table border=\"1\" class=\"dataframe\">\n",
       "  <thead>\n",
       "    <tr style=\"text-align: right;\">\n",
       "      <th></th>\n",
       "      <th>Unnamed: 0</th>\n",
       "      <th>ID</th>\n",
       "      <th>Country of Origin</th>\n",
       "      <th>Farm Name</th>\n",
       "      <th>Lot Number</th>\n",
       "      <th>Mill</th>\n",
       "      <th>ICO Number</th>\n",
       "      <th>Company</th>\n",
       "      <th>Altitude</th>\n",
       "      <th>Region</th>\n",
       "      <th>...</th>\n",
       "      <th>Total Cup Points</th>\n",
       "      <th>Moisture Percentage</th>\n",
       "      <th>Category One Defects</th>\n",
       "      <th>Quakers</th>\n",
       "      <th>Color</th>\n",
       "      <th>Category Two Defects</th>\n",
       "      <th>Expiration</th>\n",
       "      <th>Certification Body</th>\n",
       "      <th>Certification Address</th>\n",
       "      <th>Certification Contact</th>\n",
       "    </tr>\n",
       "  </thead>\n",
       "  <tbody>\n",
       "  </tbody>\n",
       "</table>\n",
       "<p>0 rows × 41 columns</p>\n",
       "</div>"
      ],
      "text/plain": [
       "Empty DataFrame\n",
       "Columns: [Unnamed: 0, ID, Country of Origin, Farm Name, Lot Number, Mill, ICO Number, Company, Altitude, Region, Producer, Number of Bags, Bag Weight, In-Country Partner, Harvest Year, Grading Date, Owner, Variety, Status, Processing Method, Aroma, Flavor, Aftertaste, Acidity, Body, Balance, Uniformity, Clean Cup, Sweetness, Overall, Defects, Total Cup Points, Moisture Percentage, Category One Defects, Quakers, Color, Category Two Defects, Expiration, Certification Body, Certification Address, Certification Contact]\n",
       "Index: []\n",
       "\n",
       "[0 rows x 41 columns]"
      ]
     },
     "execution_count": null,
     "metadata": {},
     "output_type": "execute_result"
    }
   ],
   "source": [
    "# Handle duplicates\n",
    "duplicate_rows_data = df[df.duplicated()]\n",
    "print(\"number of duplicate rows: \", duplicate_rows_data.shape)\n",
    "duplicate_rows_data"
   ]
  },
  {
   "cell_type": "markdown",
   "id": "65eb696b",
   "metadata": {},
   "source": [
    "### <b>II <span style='color:#16C2D5'>|</span> Uniqueness</b> "
   ]
  },
  {
   "cell_type": "code",
   "execution_count": null,
   "id": "6aa60fec",
   "metadata": {},
   "outputs": [
    {
     "name": "stdout",
     "output_type": "stream",
     "text": [
      "Unnamed: 0: 206 unique values\n",
      "ID: 206 unique values\n",
      "Country of Origin: 23 unique values\n",
      "Farm Name: 170 unique values\n",
      "Lot Number: 183 unique values\n",
      "Mill: 159 unique values\n",
      "ICO Number: 69 unique values\n",
      "Company: 70 unique values\n",
      "Altitude: 95 unique values\n",
      "Region: 116 unique values\n",
      "Producer: 166 unique values\n",
      "Number of Bags: 53 unique values\n",
      "Bag Weight: 39 unique values\n",
      "In-Country Partner: 20 unique values\n",
      "Harvest Year: 7 unique values\n",
      "Grading Date: 73 unique values\n",
      "Owner: 78 unique values\n",
      "Variety: 47 unique values\n",
      "Status: 1 unique values\n",
      "Processing Method: 18 unique values\n",
      "Aroma: 19 unique values\n",
      "Flavor: 19 unique values\n",
      "Aftertaste: 20 unique values\n",
      "Acidity: 21 unique values\n",
      "Body: 17 unique values\n",
      "Balance: 18 unique values\n",
      "Uniformity: 4 unique values\n",
      "Clean Cup: 2 unique values\n",
      "Sweetness: 2 unique values\n",
      "Overall: 22 unique values\n",
      "Defects: 2 unique values\n",
      "Total Cup Points: 86 unique values\n",
      "Moisture Percentage: 47 unique values\n",
      "Category One Defects: 6 unique values\n",
      "Quakers: 12 unique values\n",
      "Color: 13 unique values\n",
      "Category Two Defects: 14 unique values\n",
      "Expiration: 73 unique values\n",
      "Certification Body: 20 unique values\n",
      "Certification Address: 20 unique values\n",
      "Certification Contact: 20 unique values\n"
     ]
    }
   ],
   "source": [
    "# Loop through each column and count the number of distinct values\n",
    "for column in df.columns:\n",
    "    num_distinct_values = len(df[column].unique())\n",
    "    print(f\"{column}: {num_distinct_values} unique values\")"
   ]
  },
  {
   "cell_type": "markdown",
   "id": "5fe9dd39",
   "metadata": {},
   "source": [
    "### <b>III <span style='color:#16C2D5'>|</span> Missing Values</b> "
   ]
  },
  {
   "cell_type": "code",
   "execution_count": null,
   "id": "c236928a",
   "metadata": {},
   "outputs": [
    {
     "data": {
      "text/html": [
       "<div>\n",
       "<style scoped>\n",
       "    .dataframe tbody tr th:only-of-type {\n",
       "        vertical-align: middle;\n",
       "    }\n",
       "\n",
       "    .dataframe tbody tr th {\n",
       "        vertical-align: top;\n",
       "    }\n",
       "\n",
       "    .dataframe thead th {\n",
       "        text-align: right;\n",
       "    }\n",
       "</style>\n",
       "<table border=\"1\" class=\"dataframe\">\n",
       "  <thead>\n",
       "    <tr style=\"text-align: right;\">\n",
       "      <th></th>\n",
       "      <th>Missing Ratio</th>\n",
       "    </tr>\n",
       "  </thead>\n",
       "  <tbody>\n",
       "    <tr>\n",
       "      <th>ICO Number</th>\n",
       "      <td>62.621359</td>\n",
       "    </tr>\n",
       "    <tr>\n",
       "      <th>Variety</th>\n",
       "      <td>3.398058</td>\n",
       "    </tr>\n",
       "    <tr>\n",
       "      <th>Processing Method</th>\n",
       "      <td>2.427184</td>\n",
       "    </tr>\n",
       "    <tr>\n",
       "      <th>Mill</th>\n",
       "      <td>1.941748</td>\n",
       "    </tr>\n",
       "    <tr>\n",
       "      <th>Farm Name</th>\n",
       "      <td>0.970874</td>\n",
       "    </tr>\n",
       "    <tr>\n",
       "      <th>Region</th>\n",
       "      <td>0.970874</td>\n",
       "    </tr>\n",
       "    <tr>\n",
       "      <th>Lot Number</th>\n",
       "      <td>0.485437</td>\n",
       "    </tr>\n",
       "    <tr>\n",
       "      <th>Altitude</th>\n",
       "      <td>0.485437</td>\n",
       "    </tr>\n",
       "    <tr>\n",
       "      <th>Producer</th>\n",
       "      <td>0.485437</td>\n",
       "    </tr>\n",
       "  </tbody>\n",
       "</table>\n",
       "</div>"
      ],
      "text/plain": [
       "                   Missing Ratio\n",
       "ICO Number             62.621359\n",
       "Variety                 3.398058\n",
       "Processing Method       2.427184\n",
       "Mill                    1.941748\n",
       "Farm Name               0.970874\n",
       "Region                  0.970874\n",
       "Lot Number              0.485437\n",
       "Altitude                0.485437\n",
       "Producer                0.485437"
      ]
     },
     "execution_count": null,
     "metadata": {},
     "output_type": "execute_result"
    }
   ],
   "source": [
    "#check missing ratio\n",
    "data_na = (df.isnull().sum() / len(df)) * 100\n",
    "data_na = data_na.drop(data_na[data_na == 0].index).sort_values(ascending=False)[:30]\n",
    "missing_data = pd.DataFrame({'Missing Ratio' :data_na})\n",
    "missing_data.head(20)"
   ]
  },
  {
   "cell_type": "markdown",
   "id": "0800352b",
   "metadata": {},
   "source": [
    "### <b>IV <span style='color:#16C2D5'>|</span> Completeness</b> "
   ]
  },
  {
   "cell_type": "code",
   "execution_count": null,
   "id": "17c8940e",
   "metadata": {},
   "outputs": [],
   "source": [
    "# Mapping the Education\n",
    "processing_mapping = {\n",
    "    \"Double Anaerobic Washed\": \"Washed / Wet\",\n",
    "    \"Semi Washed\": \"Washed / Wet\",\n",
    "    \"Honey,Mossto\": \"Pulped natural / honey\",\n",
    "    \"Double Carbonic Maceration / Natural\": \"Natural / Dry\",\n",
    "    \"Wet Hulling\": \"Washed / Wet\",\n",
    "    \"Anaerobico 1000h\": \"Washed / Wet\",\n",
    "    \"SEMI-LAVADO\": \"Natural / Dry\"\n",
    "}\n",
    "# Fixing the values in the column\n",
    "df['Processing Method'] = df['Processing Method'].map(processing_mapping)\n",
    "df['Processing Method'].fillna(\"Washed / Wet\", inplace=True)"
   ]
  },
  {
   "cell_type": "code",
   "execution_count": null,
   "id": "1bc627f2",
   "metadata": {},
   "outputs": [],
   "source": [
    "# Manually impute specific values based on ID (Which we cant use function)\n",
    "df.loc[df['ID'] == 99, 'Altitude'] = 5273  # Impute value for ID 99 Guatemala\n",
    "df.loc[df['ID'] == 105, 'Altitude'] = 1800  # Impute value for ID 105 United States (Hawaii)\n",
    "df.loc[df['ID'] == 180, 'Altitude'] = 1400  # Impute value for ID 180 Taiwan\n",
    "df.loc[df['ID'] == 4, 'Altitude'] = (1850+2100)/2  # Impute value for ID\n",
    "df.loc[df['ID'] == 113, 'Altitude'] = 1400  # Impute value for ID \n",
    "df.loc[df['ID'] == 176, 'Altitude'] = 1500  # Impute value for ID \n",
    "\n",
    "\n",
    "# Define a function to clean and calculate the mean\n",
    "def clean_altitude_range(range_value):\n",
    "    if isinstance(range_value, str):\n",
    "        range_value = range_value.replace(\" \", \"\")  # Remove blank spaces\n",
    "        if '-' in range_value:\n",
    "            try:\n",
    "                start, end = range_value.split('-')\n",
    "                start = int(start)\n",
    "                end = int(end)\n",
    "                return (start + end) / 2\n",
    "            except ValueError:\n",
    "                return np.nan\n",
    "        else:\n",
    "            try:\n",
    "                return int(range_value)\n",
    "            except ValueError:\n",
    "                return np.nan\n",
    "    else:\n",
    "        return range_value\n",
    "\n",
    "# Apply the function to clean and calculate the mean for each value in the \"Altitude\" column\n",
    "df['Altitude'] = df['Altitude'].apply(clean_altitude_range)"
   ]
  },
  {
   "cell_type": "code",
   "execution_count": null,
   "id": "d78d7c4e",
   "metadata": {},
   "outputs": [
    {
     "data": {
      "text/plain": [
       "0"
      ]
     },
     "execution_count": null,
     "metadata": {},
     "output_type": "execute_result"
    }
   ],
   "source": [
    "df['Altitude'].isnull().sum()"
   ]
  },
  {
   "cell_type": "code",
   "execution_count": null,
   "id": "f6041cf4",
   "metadata": {},
   "outputs": [],
   "source": [
    "# Extract the prior year from the \"Harvest Year\" column\n",
    "df['Harvest Year'] = df['Harvest Year'].str.split('/').str[0].str.strip()"
   ]
  },
  {
   "cell_type": "markdown",
   "id": "13b1d2c1",
   "metadata": {},
   "source": [
    "## <div style=\"padding: 20px;color:white;margin:10;font-size:90%;text-align:left;display:fill;border-radius:10px;overflow:hidden;background-image: url(https://w0.peakpx.com/wallpaper/957/661/HD-wallpaper-white-marble-white-stone-texture-marble-stone-background-white-stone.jpg)\"><b><span style='color:black'> 2.Feature Engineering</span></b> </div>\n",
    "\n",
    "### <b>I <span style='color:#16C2D5'>|</span> Uniform Date</b> "
   ]
  },
  {
   "cell_type": "code",
   "execution_count": null,
   "id": "1061addc",
   "metadata": {},
   "outputs": [],
   "source": [
    "# Convert \"Harvest Year\" and \"Expiration\" columns to datetime objects using dateutil parser\n",
    "df['Harvest Year'] = pd.to_datetime(df['Harvest Year'], format='%Y')\n",
    "df['Expiration'] = df['Expiration'].apply(parser.parse)"
   ]
  },
  {
   "cell_type": "markdown",
   "id": "c7244d38",
   "metadata": {},
   "source": [
    "### <b>II <span style='color:#16C2D5'>|</span> Make new Features</b> "
   ]
  },
  {
   "cell_type": "code",
   "execution_count": null,
   "id": "b6a0d4d4",
   "metadata": {},
   "outputs": [],
   "source": [
    "# Calculate the difference in days between \"Expiration\" and \"Harvest Year\" columns\n",
    "df['Coffee Age'] = (df['Expiration'] - df['Harvest Year']).dt.days"
   ]
  },
  {
   "cell_type": "markdown",
   "id": "c4d79af5",
   "metadata": {},
   "source": [
    "## <div style=\"padding: 20px;color:white;margin:10;font-size:90%;text-align:left;display:fill;border-radius:10px;overflow:hidden;background-image: url(https://w0.peakpx.com/wallpaper/957/661/HD-wallpaper-white-marble-white-stone-texture-marble-stone-background-white-stone.jpg)\"><b><span style='color:black'> 3.Exclude the column that is irrelevant for the purpose of this analysis.</span></b> </div>"
   ]
  },
  {
   "cell_type": "code",
   "execution_count": null,
   "id": "8ed2a0e0",
   "metadata": {},
   "outputs": [],
   "source": [
    "columns_to_drop = ['ID','ICO Number','Owner','Region','Certification Contact','Certification Address','Farm Name',\"Lot Number\",\"Mill\",\"ICO Number\",\"Producer\",'Company','Expiration', 'Harvest Year',\n",
    "                   \"Unnamed: 0\",'Number of Bags','Bag Weight','In-Country Partner','Grading Date','Variety','Status','Defects','Uniformity','Clean Cup','Sweetness','Certification Body']\n",
    "df.drop(columns_to_drop, axis=1, inplace=True)"
   ]
  },
  {
   "cell_type": "markdown",
   "id": "693652b6",
   "metadata": {},
   "source": [
    "# <span style=\"color:#E888BB; font-size: 1%;\">2 | Exploratory Data Analysis </span>\n",
    "<div style=\"padding: 35px;color:white;margin:10;font-size:170%;text-align:left;display:fill;border-radius:10px;overflow:hidden;background-image: url(https://images.pexels.com/photos/942802/pexels-photo-942802.jpeg?auto=compress&cs=tinysrgb&w=1260&h=750&dpr=1)\"><b><span style='color:white'>2 | Exploratory Data Analysis </span></b> </div>\n",
    "\n",
    "## <div style=\"padding: 20px;color:white;margin:10;font-size:90%;text-align:left;display:fill;border-radius:10px;overflow:hidden;background-image: url(https://w0.peakpx.com/wallpaper/957/661/HD-wallpaper-white-marble-white-stone-texture-marble-stone-background-white-stone.jpg)\"><b><span style='color:black'> 1. Univariative Analysis</span></b> </div>"
   ]
  },
  {
   "cell_type": "code",
   "execution_count": null,
   "id": "b216283d",
   "metadata": {},
   "outputs": [
    {
     "data": {
      "application/vnd.plotly.v1+json": {
       "config": {
        "plotlyServerURL": "https://plot.ly"
       },
       "data": [
        {
         "name": "Aroma",
         "nbinsx": 50,
         "type": "histogram",
         "x": [
          8.58,
          8.5,
          8.33,
          8,
          8.17,
          8.08,
          8.33,
          8.33,
          8.33,
          8.25,
          8.08,
          8.17,
          8.08,
          8,
          8.08,
          8.08,
          7.67,
          8.08,
          7.67,
          8,
          8.17,
          8.17,
          8.08,
          8.17,
          8,
          8,
          7.67,
          8.08,
          8.08,
          7.83,
          8.17,
          7.83,
          8,
          7.92,
          8,
          8,
          8,
          7.92,
          7.92,
          8,
          7.83,
          8.17,
          7.75,
          8,
          8,
          8,
          7.92,
          7.67,
          7.67,
          8.17,
          8,
          7.92,
          7.83,
          8,
          8,
          7.83,
          7.92,
          7.83,
          7.67,
          7.92,
          7.83,
          7.58,
          7.92,
          7.67,
          8.08,
          8,
          7.83,
          7.83,
          8.08,
          7.92,
          7.75,
          7.75,
          7.83,
          7.83,
          7.92,
          7.67,
          7.92,
          7.83,
          7.58,
          7.83,
          7.83,
          7.67,
          7.92,
          7.83,
          7.58,
          7.67,
          7.75,
          7.83,
          7.67,
          7.58,
          7.75,
          7.92,
          7.58,
          7.75,
          7.67,
          8,
          7.67,
          7.75,
          7.67,
          7.58,
          7.75,
          7.83,
          7.83,
          7.67,
          7.92,
          7.67,
          7.67,
          7.67,
          7.83,
          7.58,
          7.42,
          7.67,
          7.67,
          7.83,
          7.58,
          7.58,
          7.5,
          7.75,
          7.75,
          7.42,
          7.67,
          7.42,
          7.75,
          7.75,
          7.67,
          7.75,
          7.5,
          7.92,
          7.58,
          7.58,
          7.58,
          7.58,
          7.67,
          7.75,
          7.92,
          7.67,
          7.67,
          7.58,
          7.75,
          7.67,
          7.75,
          7.67,
          7.75,
          7.67,
          8,
          7.5,
          7.75,
          7.67,
          7.67,
          7.17,
          7.33,
          7.33,
          7.33,
          7.58,
          7.67,
          7.67,
          7.67,
          7.67,
          7.67,
          7.5,
          7.33,
          7.42,
          7.58,
          7.67,
          7.5,
          7.33,
          7.67,
          7.5,
          7.75,
          7.5,
          7.33,
          7.17,
          7.42,
          7.67,
          7.42,
          7.5,
          7.33,
          7.5,
          7.5,
          7.58,
          7.25,
          7.33,
          7.42,
          7.58,
          7.42,
          7.33,
          7.33,
          7.33,
          7.42,
          7.42,
          7.25,
          7.42,
          7.42,
          7.17,
          7.25,
          7.42,
          7.25,
          7.08,
          7.25,
          7.17,
          7.25,
          7.33,
          7.25,
          6.5,
          7.25,
          7.42
         ],
         "xaxis": "x",
         "yaxis": "y"
        },
        {
         "name": "Flavor",
         "nbinsx": 50,
         "type": "histogram",
         "x": [
          8.5,
          8.5,
          8.42,
          8.25,
          8.08,
          8.17,
          8.33,
          8.33,
          8.17,
          8.25,
          8.08,
          8.08,
          8.17,
          8,
          8,
          8,
          8.17,
          8,
          7.83,
          8.17,
          8.08,
          8.08,
          8.17,
          8,
          7.92,
          8,
          8,
          8,
          8,
          8,
          8.08,
          8.08,
          8,
          7.92,
          8,
          7.92,
          8.08,
          8,
          7.75,
          7.92,
          7.92,
          7.75,
          7.92,
          7.92,
          8.08,
          7.92,
          8,
          8,
          8.08,
          8.08,
          7.92,
          7.92,
          7.92,
          8,
          8,
          7.83,
          7.75,
          7.92,
          7.92,
          8.08,
          7.83,
          7.83,
          8,
          8,
          7.83,
          7.83,
          8,
          7.83,
          7.92,
          7.83,
          7.92,
          7.83,
          7.92,
          8,
          7.83,
          7.83,
          7.75,
          7.83,
          7.83,
          7.75,
          7.83,
          7.92,
          7.92,
          7.75,
          7.92,
          7.67,
          7.75,
          7.92,
          7.83,
          7.83,
          7.67,
          7.75,
          7.67,
          7.75,
          7.83,
          7.75,
          7.92,
          7.58,
          7.92,
          7.83,
          7.67,
          7.83,
          7.67,
          7.75,
          7.75,
          7.92,
          7.92,
          7.67,
          7.83,
          7.75,
          7.75,
          7.67,
          7.67,
          7.75,
          7.75,
          7.67,
          7.75,
          7.75,
          7.67,
          7.42,
          7.75,
          7.83,
          7.92,
          7.75,
          7.67,
          7.67,
          7.75,
          7.92,
          7.67,
          7.67,
          7.75,
          7.67,
          7.75,
          7.58,
          7.67,
          7.67,
          7.75,
          7.5,
          7.75,
          7.67,
          7.75,
          7.58,
          7.58,
          7.75,
          7.67,
          7.67,
          7.5,
          7.5,
          7.58,
          7.92,
          7.5,
          7.58,
          7.58,
          7.67,
          7.58,
          7.67,
          7.58,
          7.33,
          7.42,
          7.58,
          7.58,
          7.42,
          7.58,
          7.58,
          7.5,
          7.67,
          7.5,
          7.5,
          7.42,
          7.67,
          7.42,
          7.5,
          7.42,
          7.33,
          7.42,
          7.58,
          7.42,
          7.5,
          7.5,
          7.42,
          7.42,
          7.5,
          7.5,
          7.42,
          7.5,
          7.42,
          7.5,
          7.42,
          7.25,
          7.25,
          7.25,
          7.42,
          7.33,
          7.25,
          7.25,
          7.17,
          7.25,
          7.25,
          7.17,
          7.17,
          7.17,
          7.08,
          7.17,
          6.75,
          7.08,
          7.5
         ],
         "xaxis": "x2",
         "yaxis": "y2"
        },
        {
         "name": "Aftertaste",
         "nbinsx": 50,
         "type": "histogram",
         "x": [
          8.42,
          7.92,
          8.08,
          8,
          8,
          8.17,
          8.08,
          8.25,
          8.08,
          8.17,
          8.25,
          8,
          8.08,
          7.92,
          8,
          8.08,
          8,
          8.08,
          7.75,
          8,
          7.92,
          8,
          7.75,
          7.92,
          8.08,
          7.83,
          7.83,
          7.83,
          7.92,
          7.92,
          7.92,
          7.83,
          8,
          8,
          7.83,
          8,
          8,
          7.83,
          7.83,
          7.83,
          7.75,
          7.83,
          7.75,
          7.83,
          7.67,
          7.67,
          7.92,
          7.75,
          7.67,
          7.83,
          7.75,
          7.83,
          7.75,
          7.83,
          7.75,
          7.67,
          7.75,
          7.75,
          7.92,
          7.67,
          7.75,
          7.5,
          7.42,
          7.67,
          7.67,
          7.75,
          7.67,
          7.75,
          7.75,
          7.75,
          7.83,
          7.67,
          7.75,
          7.5,
          7.75,
          7.75,
          7.75,
          7.83,
          7.58,
          7.58,
          7.75,
          7.67,
          7.58,
          7.67,
          7.67,
          7.83,
          7.58,
          7.83,
          7.67,
          7.67,
          7.67,
          7.67,
          7.75,
          7.75,
          7.58,
          7.5,
          7.67,
          7.58,
          7.58,
          7.58,
          7.58,
          7.58,
          7.5,
          7.67,
          7.42,
          7.58,
          7.67,
          7.58,
          7.67,
          7.67,
          7.58,
          7.58,
          7.75,
          7.5,
          7.58,
          7.5,
          7.67,
          7.5,
          7.58,
          7.42,
          7.5,
          7.58,
          7.67,
          7.5,
          7.42,
          7.58,
          7.58,
          7.75,
          7.5,
          7.58,
          7.42,
          7.5,
          7.67,
          7.58,
          7.42,
          7.58,
          7.5,
          7.5,
          7.58,
          7.5,
          7.5,
          7.5,
          7.58,
          7.33,
          7.42,
          7.58,
          7.42,
          7.42,
          7.5,
          7.58,
          7.25,
          7.25,
          7.58,
          7.58,
          7.33,
          7.42,
          7.42,
          7.17,
          7.5,
          7.5,
          7.5,
          7.58,
          7.42,
          7.42,
          7.42,
          7.25,
          7.33,
          7.42,
          7.33,
          7.33,
          7.42,
          7.42,
          7.42,
          7.25,
          7.42,
          7.42,
          7.33,
          7.33,
          7.25,
          7.33,
          7.42,
          7.33,
          7.58,
          7.25,
          7.33,
          7.25,
          7.42,
          7.25,
          7.33,
          7.25,
          7.42,
          7.25,
          7.33,
          6.92,
          7.17,
          7,
          7.17,
          7.08,
          7.17,
          6.92,
          7,
          6.75,
          7.08,
          6.75,
          6.67,
          7.33
         ],
         "xaxis": "x3",
         "yaxis": "y3"
        },
        {
         "name": "Acidity",
         "nbinsx": 50,
         "type": "histogram",
         "x": [
          8.58,
          8,
          8.17,
          8.42,
          8.5,
          8.25,
          8.25,
          7.83,
          8,
          8,
          8.08,
          8.25,
          8.17,
          8.25,
          7.75,
          8.08,
          8.33,
          7.92,
          8.08,
          7.92,
          8.17,
          7.92,
          7.92,
          7.92,
          7.92,
          8.08,
          8,
          8.17,
          7.92,
          8,
          8,
          7.92,
          7.92,
          7.92,
          7.83,
          7.83,
          8,
          7.92,
          8.17,
          7.92,
          8,
          7.58,
          8,
          7.92,
          7.75,
          8,
          8,
          7.92,
          8,
          7.67,
          7.75,
          7.83,
          7.83,
          7.83,
          7.75,
          7.67,
          7.92,
          7.92,
          7.83,
          7.92,
          7.92,
          7.67,
          8.08,
          7.83,
          7.67,
          7.67,
          7.75,
          7.75,
          7.83,
          7.92,
          7.75,
          7.83,
          7.75,
          7.75,
          7.92,
          7.75,
          7.83,
          7.83,
          8,
          7.92,
          7.75,
          7.75,
          7.75,
          7.83,
          7.75,
          7.83,
          7.83,
          7.58,
          7.83,
          7.83,
          7.75,
          7.75,
          7.75,
          7.67,
          7.92,
          7.67,
          7.75,
          7.92,
          7.75,
          7.75,
          7.75,
          7.67,
          7.92,
          7.75,
          7.58,
          7.58,
          7.58,
          7.67,
          7.58,
          7.83,
          7.67,
          7.75,
          7.75,
          7.58,
          7.75,
          7.75,
          7.67,
          7.58,
          7.58,
          8,
          7.67,
          7.67,
          7.92,
          7.5,
          7.75,
          7.5,
          7.75,
          7.33,
          7.75,
          7.75,
          7.67,
          7.67,
          7.58,
          7.58,
          7.5,
          7.67,
          7.67,
          7.83,
          7.67,
          7.58,
          7.75,
          7.67,
          7.58,
          7.67,
          7.58,
          7.58,
          7.67,
          7.75,
          7.5,
          7.5,
          7.92,
          7.33,
          7.5,
          7.5,
          7.5,
          7.42,
          7.42,
          7.67,
          7.5,
          7.5,
          7.5,
          7.42,
          7.42,
          7.5,
          7.42,
          7.67,
          7.58,
          7.5,
          7.5,
          7.5,
          7.5,
          7.42,
          7.33,
          7.67,
          7.33,
          7.42,
          7.42,
          7.5,
          7.42,
          7.33,
          7.5,
          7.42,
          7.33,
          7.25,
          7.33,
          7.42,
          7.33,
          7.33,
          7.42,
          7.42,
          7.25,
          7.25,
          7.5,
          7.33,
          7.33,
          7.08,
          7.33,
          7.42,
          7.08,
          7.17,
          7.25,
          7.17,
          7,
          7.17,
          6.83,
          7.5
         ],
         "xaxis": "x4",
         "yaxis": "y4"
        },
        {
         "name": "Body",
         "nbinsx": 50,
         "type": "histogram",
         "x": [
          8.25,
          7.92,
          7.92,
          8.25,
          8.17,
          8.17,
          7.92,
          7.83,
          7.83,
          7.92,
          7.92,
          8.08,
          8,
          8,
          8.25,
          8,
          8,
          8.08,
          8.25,
          7.92,
          7.75,
          8,
          7.83,
          8.17,
          7.75,
          7.92,
          8.08,
          7.75,
          8,
          8,
          7.58,
          8,
          7.75,
          7.83,
          7.75,
          7.67,
          7.67,
          7.83,
          8,
          7.83,
          7.83,
          7.92,
          7.83,
          7.75,
          7.92,
          7.75,
          7.58,
          8,
          7.92,
          7.67,
          7.75,
          7.75,
          7.83,
          7.58,
          7.67,
          7.83,
          7.83,
          7.67,
          7.75,
          7.67,
          7.83,
          7.83,
          7.75,
          7.92,
          7.67,
          7.58,
          7.67,
          7.75,
          7.5,
          7.58,
          7.75,
          7.75,
          7.75,
          7.75,
          7.5,
          7.83,
          7.58,
          7.67,
          7.83,
          8,
          7.58,
          7.75,
          7.58,
          7.67,
          7.83,
          7.67,
          7.75,
          7.58,
          7.75,
          7.75,
          7.75,
          7.75,
          7.75,
          7.75,
          7.67,
          7.67,
          7.67,
          7.67,
          7.67,
          7.67,
          7.75,
          7.67,
          7.5,
          7.67,
          7.92,
          7.58,
          7.67,
          7.83,
          7.58,
          7.5,
          7.67,
          7.67,
          7.5,
          7.67,
          7.58,
          7.75,
          7.75,
          7.83,
          7.58,
          7.92,
          7.67,
          7.67,
          7.75,
          7.58,
          7.5,
          7.67,
          7.67,
          7.58,
          7.5,
          7.42,
          7.5,
          7.67,
          7.5,
          7.5,
          7.67,
          7.58,
          7.58,
          7.67,
          7.42,
          7.58,
          7.5,
          7.58,
          7.58,
          7.58,
          7.58,
          7.5,
          7.58,
          7.42,
          7.58,
          7.58,
          7.75,
          7.75,
          7.67,
          7.33,
          7.58,
          7.42,
          7.5,
          7.83,
          7.67,
          7.67,
          7.5,
          7.58,
          7.5,
          7.33,
          7.42,
          7.83,
          7.33,
          7.25,
          7.33,
          7.25,
          7.42,
          7.58,
          7.58,
          7.42,
          7.5,
          7.25,
          7.58,
          7.33,
          7.42,
          7.5,
          7.42,
          7.42,
          7.33,
          7.5,
          7.33,
          7.42,
          7.33,
          7.5,
          7.33,
          7.17,
          7.42,
          7.17,
          7.08,
          7.42,
          7.08,
          7.42,
          7,
          7.42,
          7.17,
          7.42,
          7.33,
          7.42,
          7.08,
          7.08,
          6.83,
          7.5
         ],
         "xaxis": "x5",
         "yaxis": "y5"
        },
        {
         "name": "Balance",
         "nbinsx": 50,
         "type": "histogram",
         "x": [
          8.42,
          8.25,
          8.17,
          8.08,
          8.08,
          8.08,
          7.92,
          8.17,
          8.25,
          8.08,
          8,
          8,
          8,
          8,
          8.17,
          8,
          8,
          8,
          8.25,
          7.92,
          7.92,
          7.92,
          8,
          7.75,
          8,
          7.92,
          8,
          7.83,
          7.83,
          7.92,
          7.83,
          7.83,
          7.92,
          7.92,
          7.92,
          8,
          7.75,
          7.83,
          7.75,
          7.83,
          8,
          8,
          7.92,
          7.75,
          7.83,
          7.83,
          7.75,
          7.83,
          7.83,
          7.75,
          7.92,
          7.83,
          7.83,
          7.83,
          7.75,
          8,
          7.83,
          7.83,
          7.83,
          7.75,
          7.75,
          7.67,
          7.58,
          7.67,
          7.75,
          7.83,
          7.75,
          7.75,
          7.58,
          7.67,
          7.75,
          7.75,
          7.75,
          7.75,
          7.67,
          7.75,
          7.75,
          7.67,
          7.75,
          7.5,
          7.75,
          7.75,
          7.67,
          7.67,
          7.75,
          7.75,
          7.75,
          7.67,
          7.67,
          7.67,
          7.75,
          8,
          7.75,
          7.67,
          7.67,
          7.67,
          7.58,
          7.75,
          7.58,
          7.75,
          7.67,
          7.58,
          7.67,
          7.67,
          7.67,
          7.75,
          7.67,
          7.58,
          7.58,
          7.67,
          8,
          7.67,
          7.67,
          7.67,
          7.67,
          7.67,
          7.58,
          7.5,
          7.67,
          7.67,
          7.67,
          7.75,
          7.83,
          7.58,
          7.75,
          7.5,
          7.58,
          7.5,
          7.58,
          7.58,
          7.75,
          7.75,
          7.58,
          7.58,
          7.58,
          7.58,
          7.5,
          7.5,
          7.5,
          7.5,
          7.42,
          7.58,
          7.5,
          7.5,
          7.42,
          7.5,
          7.5,
          7.58,
          7.5,
          7.67,
          7.58,
          8.17,
          7.67,
          7.5,
          7.5,
          7.5,
          7.5,
          7.5,
          7.42,
          7.42,
          7.58,
          7.5,
          7.5,
          7.42,
          7.67,
          7.42,
          7.42,
          7.5,
          7.5,
          7.33,
          7.5,
          7.5,
          7.33,
          7.25,
          7.42,
          7.42,
          7.42,
          7.33,
          7.42,
          7.33,
          7.42,
          7.42,
          7.25,
          7.33,
          7.33,
          7.33,
          7.25,
          7.42,
          7.33,
          7.33,
          7.42,
          7.25,
          7,
          7.25,
          7.25,
          7.17,
          7.17,
          7.08,
          7.17,
          7.17,
          7,
          7.17,
          7.08,
          7,
          6.67,
          7.25
         ],
         "xaxis": "x6",
         "yaxis": "y6"
        },
        {
         "name": "Overall",
         "nbinsx": 50,
         "type": "histogram",
         "x": [
          8.58,
          8.5,
          8.33,
          8.42,
          8.25,
          8.25,
          8.25,
          8.25,
          8.25,
          8.08,
          8.25,
          8,
          8,
          8.17,
          8,
          8,
          8,
          8,
          8.33,
          8.17,
          8.08,
          8,
          8.17,
          7.92,
          8.08,
          8,
          8.08,
          8,
          7.92,
          7.92,
          7.92,
          8,
          7.92,
          8,
          8.08,
          8,
          7.83,
          8,
          7.83,
          7.92,
          7.92,
          8,
          8,
          7.92,
          7.83,
          7.92,
          7.83,
          7.83,
          7.83,
          7.83,
          7.92,
          7.83,
          7.83,
          7.75,
          7.92,
          8,
          7.83,
          7.83,
          7.83,
          7.75,
          7.83,
          8.58,
          7.92,
          7.92,
          7.92,
          7.92,
          7.92,
          7.92,
          7.83,
          7.83,
          7.75,
          7.92,
          7.75,
          7.83,
          7.75,
          7.75,
          7.75,
          7.67,
          7.75,
          7.75,
          7.75,
          7.75,
          7.83,
          7.83,
          7.75,
          7.83,
          7.75,
          7.67,
          7.67,
          7.75,
          7.75,
          7.92,
          7.75,
          7.67,
          7.67,
          7.75,
          7.75,
          7.75,
          7.75,
          7.75,
          7.75,
          7.75,
          7.75,
          7.67,
          7.58,
          7.75,
          7.58,
          7.75,
          7.58,
          7.67,
          7.58,
          7.67,
          7.67,
          7.67,
          7.67,
          7.67,
          7.67,
          7.58,
          7.67,
          7.67,
          7.58,
          7.58,
          7.92,
          7.75,
          7.58,
          7.67,
          7.5,
          7.33,
          7.75,
          7.75,
          7.67,
          7.5,
          7.5,
          7.67,
          7.5,
          7.5,
          7.58,
          7.67,
          7.58,
          7.67,
          7.5,
          7.58,
          7.5,
          7.58,
          7.33,
          7.58,
          7.5,
          7.58,
          7.5,
          7.42,
          7.42,
          7.33,
          7.33,
          7.5,
          7.5,
          7.5,
          7.5,
          7.33,
          7.33,
          7.33,
          7.5,
          7.58,
          7.42,
          7.42,
          7.42,
          7.17,
          7.42,
          7.5,
          7.33,
          7.5,
          7.5,
          7.42,
          7.5,
          7.42,
          7.5,
          7.42,
          7.42,
          7.42,
          7.33,
          7.33,
          7.42,
          7.33,
          7.33,
          7.33,
          7.33,
          7.42,
          7.33,
          7.17,
          7.25,
          7.33,
          7.17,
          7.25,
          7.17,
          7.25,
          7.17,
          7.17,
          7.25,
          7,
          7.17,
          7.08,
          7,
          7.08,
          7,
          6.83,
          6.67,
          7.5
         ],
         "xaxis": "x7",
         "yaxis": "y7"
        },
        {
         "name": "Total Cup Points",
         "nbinsx": 50,
         "type": "histogram",
         "x": [
          89.33,
          87.58,
          87.42,
          87.42,
          87.25,
          87.17,
          87.08,
          87,
          86.92,
          86.75,
          86.67,
          86.58,
          86.5,
          86.33,
          86.25,
          86.25,
          86.17,
          86.17,
          86.17,
          86.08,
          86.08,
          86.08,
          85.92,
          85.83,
          85.75,
          85.75,
          85.67,
          85.67,
          85.67,
          85.58,
          85.5,
          85.5,
          85.5,
          85.5,
          85.42,
          85.42,
          85.33,
          85.33,
          85.25,
          85.25,
          85.25,
          85.25,
          85.17,
          85.08,
          85.08,
          85.08,
          85,
          85,
          85,
          85,
          85,
          84.92,
          84.83,
          84.83,
          84.83,
          84.83,
          84.83,
          84.75,
          84.75,
          84.75,
          84.75,
          84.67,
          84.67,
          84.67,
          84.58,
          84.58,
          84.58,
          84.58,
          84.5,
          84.5,
          84.5,
          84.5,
          84.5,
          84.42,
          84.33,
          84.33,
          84.33,
          84.33,
          84.33,
          84.33,
          84.25,
          84.25,
          84.25,
          84.25,
          84.25,
          84.25,
          84.17,
          84.08,
          84.08,
          84.08,
          84.08,
          84.08,
          84,
          84,
          84,
          84,
          84,
          84,
          83.92,
          83.92,
          83.92,
          83.92,
          83.83,
          83.83,
          83.83,
          83.83,
          83.75,
          83.75,
          83.67,
          83.67,
          83.67,
          83.67,
          83.67,
          83.67,
          83.58,
          83.58,
          83.58,
          83.5,
          83.5,
          83.5,
          83.5,
          83.5,
          83.42,
          83.42,
          83.33,
          83.33,
          83.33,
          83.33,
          83.33,
          83.33,
          83.33,
          83.33,
          83.25,
          83.25,
          83.25,
          83.25,
          83.25,
          83.25,
          83.25,
          83.17,
          83.17,
          83.17,
          83.08,
          83.08,
          83,
          82.92,
          82.92,
          82.92,
          82.83,
          82.83,
          82.75,
          82.75,
          82.67,
          82.67,
          82.67,
          82.58,
          82.58,
          82.5,
          82.5,
          82.5,
          82.5,
          82.5,
          82.42,
          82.33,
          82.33,
          82.33,
          82.25,
          82.17,
          82.17,
          82.08,
          82.08,
          82,
          82,
          82,
          82,
          82,
          81.92,
          81.92,
          81.83,
          81.83,
          81.83,
          81.75,
          81.75,
          81.67,
          81.58,
          81.58,
          81.5,
          81.42,
          81.33,
          81.17,
          81.17,
          81,
          80.83,
          80.58,
          80.5,
          80.42,
          80.42,
          80.33,
          80.17,
          80.08,
          80,
          80,
          79.67,
          78.08,
          78,
          74
         ],
         "xaxis": "x8",
         "yaxis": "y8"
        },
        {
         "name": "Moisture Percentage",
         "nbinsx": 50,
         "type": "histogram",
         "x": [
          11.8,
          10.5,
          10.4,
          10.5,
          10.2,
          11.8,
          11.6,
          10.7,
          9.1,
          10,
          10.8,
          10.4,
          11,
          10.4,
          11.5,
          11.9,
          11.6,
          10.6,
          10.2,
          10.3,
          11.3,
          10.2,
          11,
          10,
          11.6,
          11.6,
          9.8,
          11.3,
          10.4,
          10.6,
          10.6,
          11.3,
          10.2,
          9.1,
          11.4,
          9.3,
          12.3,
          10.8,
          9.4,
          9.5,
          12.5,
          9.2,
          10.3,
          10,
          10.5,
          10,
          10.9,
          11.3,
          9.9,
          10.1,
          11,
          9.5,
          11.9,
          10.7,
          9.7,
          9.5,
          11.2,
          11.2,
          10.4,
          10,
          10.3,
          10,
          11.2,
          10.6,
          11.2,
          11.6,
          10.3,
          9.6,
          10.2,
          10.9,
          11.3,
          11.7,
          9.8,
          10.1,
          10.1,
          9.2,
          11.8,
          10.3,
          11,
          11,
          11.5,
          10.7,
          12.1,
          11.8,
          10,
          11.5,
          10.2,
          10.8,
          11,
          11.6,
          11.9,
          10.6,
          9.8,
          9.4,
          13.3,
          11.3,
          11,
          11.6,
          9.5,
          10,
          11.6,
          11.9,
          12,
          11.9,
          12.1,
          11.8,
          10.6,
          11.7,
          10.2,
          9.2,
          10.5,
          11.1,
          10,
          12.4,
          9.1,
          8.4,
          11.9,
          12.2,
          11.2,
          10.4,
          11.5,
          13.1,
          10.1,
          10.1,
          13.5,
          11.1,
          11.4,
          12.3,
          9.7,
          9.6,
          0,
          11.6,
          10.5,
          11.3,
          10.4,
          10.9,
          11.1,
          11.6,
          9.6,
          11.8,
          9.7,
          11.9,
          9.6,
          11.8,
          13.1,
          8.9,
          11.9,
          10.2,
          10,
          11.8,
          11.8,
          10.5,
          13,
          11.8,
          9.6,
          9.8,
          8.4,
          11.3,
          10.7,
          11.8,
          11.7,
          8.4,
          11.4,
          10.8,
          12,
          11.8,
          11.7,
          11.2,
          10.6,
          9.7,
          8.1,
          9.8,
          10.5,
          12.5,
          11.5,
          8.2,
          10.3,
          11.6,
          11.2,
          11.5,
          11.3,
          11.2,
          11.1,
          11.8,
          9,
          9.7,
          8.5,
          11.6,
          10.5,
          11.4,
          10.4,
          10.6,
          10.5,
          14,
          11.5,
          11.2,
          11,
          11.5,
          11.6,
          11.4,
          11.4,
          10.4,
          11.6,
          11,
          11.3,
          11.8
         ],
         "xaxis": "x9",
         "yaxis": "y9"
        },
        {
         "name": "Coffee Age",
         "nbinsx": 50,
         "type": "histogram",
         "x": [
          993,
          1048,
          1048,
          2348,
          895,
          628,
          794,
          683,
          1048,
          1048,
          1048,
          887,
          761,
          887,
          1048,
          1048,
          967,
          1048,
          886,
          661,
          826,
          1048,
          1026,
          761,
          1048,
          896,
          957,
          826,
          710,
          1048,
          1048,
          735,
          1048,
          1048,
          710,
          1048,
          1002,
          710,
          1075,
          1048,
          527,
          788,
          2487,
          710,
          1093,
          1100,
          1075,
          783,
          836,
          1048,
          909,
          1100,
          630,
          683,
          1100,
          1048,
          677,
          773,
          1048,
          1093,
          845,
          838,
          879,
          847,
          1048,
          1048,
          1048,
          1100,
          1075,
          964,
          1100,
          641,
          844,
          1048,
          677,
          845,
          885,
          1048,
          901,
          991,
          875,
          864,
          710,
          896,
          836,
          628,
          844,
          1100,
          810,
          893,
          1106,
          1048,
          732,
          1048,
          572,
          1051,
          810,
          689,
          838,
          836,
          628,
          1048,
          981,
          836,
          782,
          683,
          683,
          824,
          683,
          1100,
          902,
          1048,
          661,
          633,
          1100,
          1100,
          895,
          747,
          958,
          1063,
          896,
          559,
          1048,
          917,
          1002,
          973,
          1093,
          559,
          1100,
          1100,
          838,
          893,
          1048,
          958,
          732,
          826,
          892,
          773,
          1100,
          1100,
          1100,
          843,
          844,
          728,
          742,
          1100,
          952,
          661,
          843,
          559,
          1048,
          759,
          559,
          556,
          844,
          1100,
          1100,
          791,
          1048,
          671,
          683,
          1100,
          1093,
          1100,
          781,
          917,
          556,
          826,
          677,
          1100,
          1100,
          559,
          2278,
          598,
          1061,
          1100,
          671,
          556,
          829,
          802,
          1100,
          1093,
          1093,
          952,
          1100,
          817,
          1100,
          559,
          1048,
          1085,
          559,
          836,
          431,
          527,
          921,
          839,
          794,
          431,
          930,
          762,
          879,
          791,
          1044,
          431,
          1051,
          892
         ],
         "xaxis": "x10",
         "yaxis": "y10"
        }
       ],
       "layout": {
        "height": 2000,
        "template": {
         "data": {
          "bar": [
           {
            "error_x": {
             "color": "#2a3f5f"
            },
            "error_y": {
             "color": "#2a3f5f"
            },
            "marker": {
             "line": {
              "color": "#E5ECF6",
              "width": 0.5
             },
             "pattern": {
              "fillmode": "overlay",
              "size": 10,
              "solidity": 0.2
             }
            },
            "type": "bar"
           }
          ],
          "barpolar": [
           {
            "marker": {
             "line": {
              "color": "#E5ECF6",
              "width": 0.5
             },
             "pattern": {
              "fillmode": "overlay",
              "size": 10,
              "solidity": 0.2
             }
            },
            "type": "barpolar"
           }
          ],
          "carpet": [
           {
            "aaxis": {
             "endlinecolor": "#2a3f5f",
             "gridcolor": "white",
             "linecolor": "white",
             "minorgridcolor": "white",
             "startlinecolor": "#2a3f5f"
            },
            "baxis": {
             "endlinecolor": "#2a3f5f",
             "gridcolor": "white",
             "linecolor": "white",
             "minorgridcolor": "white",
             "startlinecolor": "#2a3f5f"
            },
            "type": "carpet"
           }
          ],
          "choropleth": [
           {
            "colorbar": {
             "outlinewidth": 0,
             "ticks": ""
            },
            "type": "choropleth"
           }
          ],
          "contour": [
           {
            "colorbar": {
             "outlinewidth": 0,
             "ticks": ""
            },
            "colorscale": [
             [
              0,
              "#0d0887"
             ],
             [
              0.1111111111111111,
              "#46039f"
             ],
             [
              0.2222222222222222,
              "#7201a8"
             ],
             [
              0.3333333333333333,
              "#9c179e"
             ],
             [
              0.4444444444444444,
              "#bd3786"
             ],
             [
              0.5555555555555556,
              "#d8576b"
             ],
             [
              0.6666666666666666,
              "#ed7953"
             ],
             [
              0.7777777777777778,
              "#fb9f3a"
             ],
             [
              0.8888888888888888,
              "#fdca26"
             ],
             [
              1,
              "#f0f921"
             ]
            ],
            "type": "contour"
           }
          ],
          "contourcarpet": [
           {
            "colorbar": {
             "outlinewidth": 0,
             "ticks": ""
            },
            "type": "contourcarpet"
           }
          ],
          "heatmap": [
           {
            "colorbar": {
             "outlinewidth": 0,
             "ticks": ""
            },
            "colorscale": [
             [
              0,
              "#0d0887"
             ],
             [
              0.1111111111111111,
              "#46039f"
             ],
             [
              0.2222222222222222,
              "#7201a8"
             ],
             [
              0.3333333333333333,
              "#9c179e"
             ],
             [
              0.4444444444444444,
              "#bd3786"
             ],
             [
              0.5555555555555556,
              "#d8576b"
             ],
             [
              0.6666666666666666,
              "#ed7953"
             ],
             [
              0.7777777777777778,
              "#fb9f3a"
             ],
             [
              0.8888888888888888,
              "#fdca26"
             ],
             [
              1,
              "#f0f921"
             ]
            ],
            "type": "heatmap"
           }
          ],
          "heatmapgl": [
           {
            "colorbar": {
             "outlinewidth": 0,
             "ticks": ""
            },
            "colorscale": [
             [
              0,
              "#0d0887"
             ],
             [
              0.1111111111111111,
              "#46039f"
             ],
             [
              0.2222222222222222,
              "#7201a8"
             ],
             [
              0.3333333333333333,
              "#9c179e"
             ],
             [
              0.4444444444444444,
              "#bd3786"
             ],
             [
              0.5555555555555556,
              "#d8576b"
             ],
             [
              0.6666666666666666,
              "#ed7953"
             ],
             [
              0.7777777777777778,
              "#fb9f3a"
             ],
             [
              0.8888888888888888,
              "#fdca26"
             ],
             [
              1,
              "#f0f921"
             ]
            ],
            "type": "heatmapgl"
           }
          ],
          "histogram": [
           {
            "marker": {
             "pattern": {
              "fillmode": "overlay",
              "size": 10,
              "solidity": 0.2
             }
            },
            "type": "histogram"
           }
          ],
          "histogram2d": [
           {
            "colorbar": {
             "outlinewidth": 0,
             "ticks": ""
            },
            "colorscale": [
             [
              0,
              "#0d0887"
             ],
             [
              0.1111111111111111,
              "#46039f"
             ],
             [
              0.2222222222222222,
              "#7201a8"
             ],
             [
              0.3333333333333333,
              "#9c179e"
             ],
             [
              0.4444444444444444,
              "#bd3786"
             ],
             [
              0.5555555555555556,
              "#d8576b"
             ],
             [
              0.6666666666666666,
              "#ed7953"
             ],
             [
              0.7777777777777778,
              "#fb9f3a"
             ],
             [
              0.8888888888888888,
              "#fdca26"
             ],
             [
              1,
              "#f0f921"
             ]
            ],
            "type": "histogram2d"
           }
          ],
          "histogram2dcontour": [
           {
            "colorbar": {
             "outlinewidth": 0,
             "ticks": ""
            },
            "colorscale": [
             [
              0,
              "#0d0887"
             ],
             [
              0.1111111111111111,
              "#46039f"
             ],
             [
              0.2222222222222222,
              "#7201a8"
             ],
             [
              0.3333333333333333,
              "#9c179e"
             ],
             [
              0.4444444444444444,
              "#bd3786"
             ],
             [
              0.5555555555555556,
              "#d8576b"
             ],
             [
              0.6666666666666666,
              "#ed7953"
             ],
             [
              0.7777777777777778,
              "#fb9f3a"
             ],
             [
              0.8888888888888888,
              "#fdca26"
             ],
             [
              1,
              "#f0f921"
             ]
            ],
            "type": "histogram2dcontour"
           }
          ],
          "mesh3d": [
           {
            "colorbar": {
             "outlinewidth": 0,
             "ticks": ""
            },
            "type": "mesh3d"
           }
          ],
          "parcoords": [
           {
            "line": {
             "colorbar": {
              "outlinewidth": 0,
              "ticks": ""
             }
            },
            "type": "parcoords"
           }
          ],
          "pie": [
           {
            "automargin": true,
            "type": "pie"
           }
          ],
          "scatter": [
           {
            "fillpattern": {
             "fillmode": "overlay",
             "size": 10,
             "solidity": 0.2
            },
            "type": "scatter"
           }
          ],
          "scatter3d": [
           {
            "line": {
             "colorbar": {
              "outlinewidth": 0,
              "ticks": ""
             }
            },
            "marker": {
             "colorbar": {
              "outlinewidth": 0,
              "ticks": ""
             }
            },
            "type": "scatter3d"
           }
          ],
          "scattercarpet": [
           {
            "marker": {
             "colorbar": {
              "outlinewidth": 0,
              "ticks": ""
             }
            },
            "type": "scattercarpet"
           }
          ],
          "scattergeo": [
           {
            "marker": {
             "colorbar": {
              "outlinewidth": 0,
              "ticks": ""
             }
            },
            "type": "scattergeo"
           }
          ],
          "scattergl": [
           {
            "marker": {
             "colorbar": {
              "outlinewidth": 0,
              "ticks": ""
             }
            },
            "type": "scattergl"
           }
          ],
          "scattermapbox": [
           {
            "marker": {
             "colorbar": {
              "outlinewidth": 0,
              "ticks": ""
             }
            },
            "type": "scattermapbox"
           }
          ],
          "scatterpolar": [
           {
            "marker": {
             "colorbar": {
              "outlinewidth": 0,
              "ticks": ""
             }
            },
            "type": "scatterpolar"
           }
          ],
          "scatterpolargl": [
           {
            "marker": {
             "colorbar": {
              "outlinewidth": 0,
              "ticks": ""
             }
            },
            "type": "scatterpolargl"
           }
          ],
          "scatterternary": [
           {
            "marker": {
             "colorbar": {
              "outlinewidth": 0,
              "ticks": ""
             }
            },
            "type": "scatterternary"
           }
          ],
          "surface": [
           {
            "colorbar": {
             "outlinewidth": 0,
             "ticks": ""
            },
            "colorscale": [
             [
              0,
              "#0d0887"
             ],
             [
              0.1111111111111111,
              "#46039f"
             ],
             [
              0.2222222222222222,
              "#7201a8"
             ],
             [
              0.3333333333333333,
              "#9c179e"
             ],
             [
              0.4444444444444444,
              "#bd3786"
             ],
             [
              0.5555555555555556,
              "#d8576b"
             ],
             [
              0.6666666666666666,
              "#ed7953"
             ],
             [
              0.7777777777777778,
              "#fb9f3a"
             ],
             [
              0.8888888888888888,
              "#fdca26"
             ],
             [
              1,
              "#f0f921"
             ]
            ],
            "type": "surface"
           }
          ],
          "table": [
           {
            "cells": {
             "fill": {
              "color": "#EBF0F8"
             },
             "line": {
              "color": "white"
             }
            },
            "header": {
             "fill": {
              "color": "#C8D4E3"
             },
             "line": {
              "color": "white"
             }
            },
            "type": "table"
           }
          ]
         },
         "layout": {
          "annotationdefaults": {
           "arrowcolor": "#2a3f5f",
           "arrowhead": 0,
           "arrowwidth": 1
          },
          "autotypenumbers": "strict",
          "coloraxis": {
           "colorbar": {
            "outlinewidth": 0,
            "ticks": ""
           }
          },
          "colorscale": {
           "diverging": [
            [
             0,
             "#8e0152"
            ],
            [
             0.1,
             "#c51b7d"
            ],
            [
             0.2,
             "#de77ae"
            ],
            [
             0.3,
             "#f1b6da"
            ],
            [
             0.4,
             "#fde0ef"
            ],
            [
             0.5,
             "#f7f7f7"
            ],
            [
             0.6,
             "#e6f5d0"
            ],
            [
             0.7,
             "#b8e186"
            ],
            [
             0.8,
             "#7fbc41"
            ],
            [
             0.9,
             "#4d9221"
            ],
            [
             1,
             "#276419"
            ]
           ],
           "sequential": [
            [
             0,
             "#0d0887"
            ],
            [
             0.1111111111111111,
             "#46039f"
            ],
            [
             0.2222222222222222,
             "#7201a8"
            ],
            [
             0.3333333333333333,
             "#9c179e"
            ],
            [
             0.4444444444444444,
             "#bd3786"
            ],
            [
             0.5555555555555556,
             "#d8576b"
            ],
            [
             0.6666666666666666,
             "#ed7953"
            ],
            [
             0.7777777777777778,
             "#fb9f3a"
            ],
            [
             0.8888888888888888,
             "#fdca26"
            ],
            [
             1,
             "#f0f921"
            ]
           ],
           "sequentialminus": [
            [
             0,
             "#0d0887"
            ],
            [
             0.1111111111111111,
             "#46039f"
            ],
            [
             0.2222222222222222,
             "#7201a8"
            ],
            [
             0.3333333333333333,
             "#9c179e"
            ],
            [
             0.4444444444444444,
             "#bd3786"
            ],
            [
             0.5555555555555556,
             "#d8576b"
            ],
            [
             0.6666666666666666,
             "#ed7953"
            ],
            [
             0.7777777777777778,
             "#fb9f3a"
            ],
            [
             0.8888888888888888,
             "#fdca26"
            ],
            [
             1,
             "#f0f921"
            ]
           ]
          },
          "colorway": [
           "#636efa",
           "#EF553B",
           "#00cc96",
           "#ab63fa",
           "#FFA15A",
           "#19d3f3",
           "#FF6692",
           "#B6E880",
           "#FF97FF",
           "#FECB52"
          ],
          "font": {
           "color": "#2a3f5f"
          },
          "geo": {
           "bgcolor": "white",
           "lakecolor": "white",
           "landcolor": "#E5ECF6",
           "showlakes": true,
           "showland": true,
           "subunitcolor": "white"
          },
          "hoverlabel": {
           "align": "left"
          },
          "hovermode": "closest",
          "mapbox": {
           "style": "light"
          },
          "paper_bgcolor": "white",
          "plot_bgcolor": "#E5ECF6",
          "polar": {
           "angularaxis": {
            "gridcolor": "white",
            "linecolor": "white",
            "ticks": ""
           },
           "bgcolor": "#E5ECF6",
           "radialaxis": {
            "gridcolor": "white",
            "linecolor": "white",
            "ticks": ""
           }
          },
          "scene": {
           "xaxis": {
            "backgroundcolor": "#E5ECF6",
            "gridcolor": "white",
            "gridwidth": 2,
            "linecolor": "white",
            "showbackground": true,
            "ticks": "",
            "zerolinecolor": "white"
           },
           "yaxis": {
            "backgroundcolor": "#E5ECF6",
            "gridcolor": "white",
            "gridwidth": 2,
            "linecolor": "white",
            "showbackground": true,
            "ticks": "",
            "zerolinecolor": "white"
           },
           "zaxis": {
            "backgroundcolor": "#E5ECF6",
            "gridcolor": "white",
            "gridwidth": 2,
            "linecolor": "white",
            "showbackground": true,
            "ticks": "",
            "zerolinecolor": "white"
           }
          },
          "shapedefaults": {
           "line": {
            "color": "#2a3f5f"
           }
          },
          "ternary": {
           "aaxis": {
            "gridcolor": "white",
            "linecolor": "white",
            "ticks": ""
           },
           "baxis": {
            "gridcolor": "white",
            "linecolor": "white",
            "ticks": ""
           },
           "bgcolor": "#E5ECF6",
           "caxis": {
            "gridcolor": "white",
            "linecolor": "white",
            "ticks": ""
           }
          },
          "title": {
           "x": 0.05
          },
          "xaxis": {
           "automargin": true,
           "gridcolor": "white",
           "linecolor": "white",
           "ticks": "",
           "title": {
            "standoff": 15
           },
           "zerolinecolor": "white",
           "zerolinewidth": 2
          },
          "yaxis": {
           "automargin": true,
           "gridcolor": "white",
           "linecolor": "white",
           "ticks": "",
           "title": {
            "standoff": 15
           },
           "zerolinecolor": "white",
           "zerolinewidth": 2
          }
         }
        },
        "title": {
         "text": "Histograms of Numeric Attributes"
        },
        "width": 800,
        "xaxis": {
         "anchor": "y",
         "domain": [
          0,
          1
         ]
        },
        "xaxis10": {
         "anchor": "y10",
         "domain": [
          0,
          1
         ]
        },
        "xaxis2": {
         "anchor": "y2",
         "domain": [
          0,
          1
         ]
        },
        "xaxis3": {
         "anchor": "y3",
         "domain": [
          0,
          1
         ]
        },
        "xaxis4": {
         "anchor": "y4",
         "domain": [
          0,
          1
         ]
        },
        "xaxis5": {
         "anchor": "y5",
         "domain": [
          0,
          1
         ]
        },
        "xaxis6": {
         "anchor": "y6",
         "domain": [
          0,
          1
         ]
        },
        "xaxis7": {
         "anchor": "y7",
         "domain": [
          0,
          1
         ]
        },
        "xaxis8": {
         "anchor": "y8",
         "domain": [
          0,
          1
         ]
        },
        "xaxis9": {
         "anchor": "y9",
         "domain": [
          0,
          1
         ]
        },
        "yaxis": {
         "anchor": "x",
         "domain": [
          0.9269999999999999,
          0.9999999999999999
         ]
        },
        "yaxis10": {
         "anchor": "x10",
         "domain": [
          0,
          0.073
         ]
        },
        "yaxis2": {
         "anchor": "x2",
         "domain": [
          0.824,
          0.8969999999999999
         ]
        },
        "yaxis3": {
         "anchor": "x3",
         "domain": [
          0.721,
          0.7939999999999999
         ]
        },
        "yaxis4": {
         "anchor": "x4",
         "domain": [
          0.618,
          0.691
         ]
        },
        "yaxis5": {
         "anchor": "x5",
         "domain": [
          0.515,
          0.588
         ]
        },
        "yaxis6": {
         "anchor": "x6",
         "domain": [
          0.412,
          0.485
         ]
        },
        "yaxis7": {
         "anchor": "x7",
         "domain": [
          0.30899999999999994,
          0.38199999999999995
         ]
        },
        "yaxis8": {
         "anchor": "x8",
         "domain": [
          0.206,
          0.27899999999999997
         ]
        },
        "yaxis9": {
         "anchor": "x9",
         "domain": [
          0.103,
          0.176
         ]
        }
       }
      },
      "text/html": [
       "<div>                            <div id=\"533b6d2c-5658-4fac-9de7-a96427a73228\" class=\"plotly-graph-div\" style=\"height:2000px; width:800px;\"></div>            <script type=\"text/javascript\">                require([\"plotly\"], function(Plotly) {                    window.PLOTLYENV=window.PLOTLYENV || {};                                    if (document.getElementById(\"533b6d2c-5658-4fac-9de7-a96427a73228\")) {                    Plotly.newPlot(                        \"533b6d2c-5658-4fac-9de7-a96427a73228\",                        [{\"name\":\"Aroma\",\"nbinsx\":50,\"x\":[8.58,8.5,8.33,8.0,8.17,8.08,8.33,8.33,8.33,8.25,8.08,8.17,8.08,8.0,8.08,8.08,7.67,8.08,7.67,8.0,8.17,8.17,8.08,8.17,8.0,8.0,7.67,8.08,8.08,7.83,8.17,7.83,8.0,7.92,8.0,8.0,8.0,7.92,7.92,8.0,7.83,8.17,7.75,8.0,8.0,8.0,7.92,7.67,7.67,8.17,8.0,7.92,7.83,8.0,8.0,7.83,7.92,7.83,7.67,7.92,7.83,7.58,7.92,7.67,8.08,8.0,7.83,7.83,8.08,7.92,7.75,7.75,7.83,7.83,7.92,7.67,7.92,7.83,7.58,7.83,7.83,7.67,7.92,7.83,7.58,7.67,7.75,7.83,7.67,7.58,7.75,7.92,7.58,7.75,7.67,8.0,7.67,7.75,7.67,7.58,7.75,7.83,7.83,7.67,7.92,7.67,7.67,7.67,7.83,7.58,7.42,7.67,7.67,7.83,7.58,7.58,7.5,7.75,7.75,7.42,7.67,7.42,7.75,7.75,7.67,7.75,7.5,7.92,7.58,7.58,7.58,7.58,7.67,7.75,7.92,7.67,7.67,7.58,7.75,7.67,7.75,7.67,7.75,7.67,8.0,7.5,7.75,7.67,7.67,7.17,7.33,7.33,7.33,7.58,7.67,7.67,7.67,7.67,7.67,7.5,7.33,7.42,7.58,7.67,7.5,7.33,7.67,7.5,7.75,7.5,7.33,7.17,7.42,7.67,7.42,7.5,7.33,7.5,7.5,7.58,7.25,7.33,7.42,7.58,7.42,7.33,7.33,7.33,7.42,7.42,7.25,7.42,7.42,7.17,7.25,7.42,7.25,7.08,7.25,7.17,7.25,7.33,7.25,6.5,7.25,7.42],\"type\":\"histogram\",\"xaxis\":\"x\",\"yaxis\":\"y\"},{\"name\":\"Flavor\",\"nbinsx\":50,\"x\":[8.5,8.5,8.42,8.25,8.08,8.17,8.33,8.33,8.17,8.25,8.08,8.08,8.17,8.0,8.0,8.0,8.17,8.0,7.83,8.17,8.08,8.08,8.17,8.0,7.92,8.0,8.0,8.0,8.0,8.0,8.08,8.08,8.0,7.92,8.0,7.92,8.08,8.0,7.75,7.92,7.92,7.75,7.92,7.92,8.08,7.92,8.0,8.0,8.08,8.08,7.92,7.92,7.92,8.0,8.0,7.83,7.75,7.92,7.92,8.08,7.83,7.83,8.0,8.0,7.83,7.83,8.0,7.83,7.92,7.83,7.92,7.83,7.92,8.0,7.83,7.83,7.75,7.83,7.83,7.75,7.83,7.92,7.92,7.75,7.92,7.67,7.75,7.92,7.83,7.83,7.67,7.75,7.67,7.75,7.83,7.75,7.92,7.58,7.92,7.83,7.67,7.83,7.67,7.75,7.75,7.92,7.92,7.67,7.83,7.75,7.75,7.67,7.67,7.75,7.75,7.67,7.75,7.75,7.67,7.42,7.75,7.83,7.92,7.75,7.67,7.67,7.75,7.92,7.67,7.67,7.75,7.67,7.75,7.58,7.67,7.67,7.75,7.5,7.75,7.67,7.75,7.58,7.58,7.75,7.67,7.67,7.5,7.5,7.58,7.92,7.5,7.58,7.58,7.67,7.58,7.67,7.58,7.33,7.42,7.58,7.58,7.42,7.58,7.58,7.5,7.67,7.5,7.5,7.42,7.67,7.42,7.5,7.42,7.33,7.42,7.58,7.42,7.5,7.5,7.42,7.42,7.5,7.5,7.42,7.5,7.42,7.5,7.42,7.25,7.25,7.25,7.42,7.33,7.25,7.25,7.17,7.25,7.25,7.17,7.17,7.17,7.08,7.17,6.75,7.08,7.5],\"type\":\"histogram\",\"xaxis\":\"x2\",\"yaxis\":\"y2\"},{\"name\":\"Aftertaste\",\"nbinsx\":50,\"x\":[8.42,7.92,8.08,8.0,8.0,8.17,8.08,8.25,8.08,8.17,8.25,8.0,8.08,7.92,8.0,8.08,8.0,8.08,7.75,8.0,7.92,8.0,7.75,7.92,8.08,7.83,7.83,7.83,7.92,7.92,7.92,7.83,8.0,8.0,7.83,8.0,8.0,7.83,7.83,7.83,7.75,7.83,7.75,7.83,7.67,7.67,7.92,7.75,7.67,7.83,7.75,7.83,7.75,7.83,7.75,7.67,7.75,7.75,7.92,7.67,7.75,7.5,7.42,7.67,7.67,7.75,7.67,7.75,7.75,7.75,7.83,7.67,7.75,7.5,7.75,7.75,7.75,7.83,7.58,7.58,7.75,7.67,7.58,7.67,7.67,7.83,7.58,7.83,7.67,7.67,7.67,7.67,7.75,7.75,7.58,7.5,7.67,7.58,7.58,7.58,7.58,7.58,7.5,7.67,7.42,7.58,7.67,7.58,7.67,7.67,7.58,7.58,7.75,7.5,7.58,7.5,7.67,7.5,7.58,7.42,7.5,7.58,7.67,7.5,7.42,7.58,7.58,7.75,7.5,7.58,7.42,7.5,7.67,7.58,7.42,7.58,7.5,7.5,7.58,7.5,7.5,7.5,7.58,7.33,7.42,7.58,7.42,7.42,7.5,7.58,7.25,7.25,7.58,7.58,7.33,7.42,7.42,7.17,7.5,7.5,7.5,7.58,7.42,7.42,7.42,7.25,7.33,7.42,7.33,7.33,7.42,7.42,7.42,7.25,7.42,7.42,7.33,7.33,7.25,7.33,7.42,7.33,7.58,7.25,7.33,7.25,7.42,7.25,7.33,7.25,7.42,7.25,7.33,6.92,7.17,7.0,7.17,7.08,7.17,6.92,7.0,6.75,7.08,6.75,6.67,7.33],\"type\":\"histogram\",\"xaxis\":\"x3\",\"yaxis\":\"y3\"},{\"name\":\"Acidity\",\"nbinsx\":50,\"x\":[8.58,8.0,8.17,8.42,8.5,8.25,8.25,7.83,8.0,8.0,8.08,8.25,8.17,8.25,7.75,8.08,8.33,7.92,8.08,7.92,8.17,7.92,7.92,7.92,7.92,8.08,8.0,8.17,7.92,8.0,8.0,7.92,7.92,7.92,7.83,7.83,8.0,7.92,8.17,7.92,8.0,7.58,8.0,7.92,7.75,8.0,8.0,7.92,8.0,7.67,7.75,7.83,7.83,7.83,7.75,7.67,7.92,7.92,7.83,7.92,7.92,7.67,8.08,7.83,7.67,7.67,7.75,7.75,7.83,7.92,7.75,7.83,7.75,7.75,7.92,7.75,7.83,7.83,8.0,7.92,7.75,7.75,7.75,7.83,7.75,7.83,7.83,7.58,7.83,7.83,7.75,7.75,7.75,7.67,7.92,7.67,7.75,7.92,7.75,7.75,7.75,7.67,7.92,7.75,7.58,7.58,7.58,7.67,7.58,7.83,7.67,7.75,7.75,7.58,7.75,7.75,7.67,7.58,7.58,8.0,7.67,7.67,7.92,7.5,7.75,7.5,7.75,7.33,7.75,7.75,7.67,7.67,7.58,7.58,7.5,7.67,7.67,7.83,7.67,7.58,7.75,7.67,7.58,7.67,7.58,7.58,7.67,7.75,7.5,7.5,7.92,7.33,7.5,7.5,7.5,7.42,7.42,7.67,7.5,7.5,7.5,7.42,7.42,7.5,7.42,7.67,7.58,7.5,7.5,7.5,7.5,7.42,7.33,7.67,7.33,7.42,7.42,7.5,7.42,7.33,7.5,7.42,7.33,7.25,7.33,7.42,7.33,7.33,7.42,7.42,7.25,7.25,7.5,7.33,7.33,7.08,7.33,7.42,7.08,7.17,7.25,7.17,7.0,7.17,6.83,7.5],\"type\":\"histogram\",\"xaxis\":\"x4\",\"yaxis\":\"y4\"},{\"name\":\"Body\",\"nbinsx\":50,\"x\":[8.25,7.92,7.92,8.25,8.17,8.17,7.92,7.83,7.83,7.92,7.92,8.08,8.0,8.0,8.25,8.0,8.0,8.08,8.25,7.92,7.75,8.0,7.83,8.17,7.75,7.92,8.08,7.75,8.0,8.0,7.58,8.0,7.75,7.83,7.75,7.67,7.67,7.83,8.0,7.83,7.83,7.92,7.83,7.75,7.92,7.75,7.58,8.0,7.92,7.67,7.75,7.75,7.83,7.58,7.67,7.83,7.83,7.67,7.75,7.67,7.83,7.83,7.75,7.92,7.67,7.58,7.67,7.75,7.5,7.58,7.75,7.75,7.75,7.75,7.5,7.83,7.58,7.67,7.83,8.0,7.58,7.75,7.58,7.67,7.83,7.67,7.75,7.58,7.75,7.75,7.75,7.75,7.75,7.75,7.67,7.67,7.67,7.67,7.67,7.67,7.75,7.67,7.5,7.67,7.92,7.58,7.67,7.83,7.58,7.5,7.67,7.67,7.5,7.67,7.58,7.75,7.75,7.83,7.58,7.92,7.67,7.67,7.75,7.58,7.5,7.67,7.67,7.58,7.5,7.42,7.5,7.67,7.5,7.5,7.67,7.58,7.58,7.67,7.42,7.58,7.5,7.58,7.58,7.58,7.58,7.5,7.58,7.42,7.58,7.58,7.75,7.75,7.67,7.33,7.58,7.42,7.5,7.83,7.67,7.67,7.5,7.58,7.5,7.33,7.42,7.83,7.33,7.25,7.33,7.25,7.42,7.58,7.58,7.42,7.5,7.25,7.58,7.33,7.42,7.5,7.42,7.42,7.33,7.5,7.33,7.42,7.33,7.5,7.33,7.17,7.42,7.17,7.08,7.42,7.08,7.42,7.0,7.42,7.17,7.42,7.33,7.42,7.08,7.08,6.83,7.5],\"type\":\"histogram\",\"xaxis\":\"x5\",\"yaxis\":\"y5\"},{\"name\":\"Balance\",\"nbinsx\":50,\"x\":[8.42,8.25,8.17,8.08,8.08,8.08,7.92,8.17,8.25,8.08,8.0,8.0,8.0,8.0,8.17,8.0,8.0,8.0,8.25,7.92,7.92,7.92,8.0,7.75,8.0,7.92,8.0,7.83,7.83,7.92,7.83,7.83,7.92,7.92,7.92,8.0,7.75,7.83,7.75,7.83,8.0,8.0,7.92,7.75,7.83,7.83,7.75,7.83,7.83,7.75,7.92,7.83,7.83,7.83,7.75,8.0,7.83,7.83,7.83,7.75,7.75,7.67,7.58,7.67,7.75,7.83,7.75,7.75,7.58,7.67,7.75,7.75,7.75,7.75,7.67,7.75,7.75,7.67,7.75,7.5,7.75,7.75,7.67,7.67,7.75,7.75,7.75,7.67,7.67,7.67,7.75,8.0,7.75,7.67,7.67,7.67,7.58,7.75,7.58,7.75,7.67,7.58,7.67,7.67,7.67,7.75,7.67,7.58,7.58,7.67,8.0,7.67,7.67,7.67,7.67,7.67,7.58,7.5,7.67,7.67,7.67,7.75,7.83,7.58,7.75,7.5,7.58,7.5,7.58,7.58,7.75,7.75,7.58,7.58,7.58,7.58,7.5,7.5,7.5,7.5,7.42,7.58,7.5,7.5,7.42,7.5,7.5,7.58,7.5,7.67,7.58,8.17,7.67,7.5,7.5,7.5,7.5,7.5,7.42,7.42,7.58,7.5,7.5,7.42,7.67,7.42,7.42,7.5,7.5,7.33,7.5,7.5,7.33,7.25,7.42,7.42,7.42,7.33,7.42,7.33,7.42,7.42,7.25,7.33,7.33,7.33,7.25,7.42,7.33,7.33,7.42,7.25,7.0,7.25,7.25,7.17,7.17,7.08,7.17,7.17,7.0,7.17,7.08,7.0,6.67,7.25],\"type\":\"histogram\",\"xaxis\":\"x6\",\"yaxis\":\"y6\"},{\"name\":\"Overall\",\"nbinsx\":50,\"x\":[8.58,8.5,8.33,8.42,8.25,8.25,8.25,8.25,8.25,8.08,8.25,8.0,8.0,8.17,8.0,8.0,8.0,8.0,8.33,8.17,8.08,8.0,8.17,7.92,8.08,8.0,8.08,8.0,7.92,7.92,7.92,8.0,7.92,8.0,8.08,8.0,7.83,8.0,7.83,7.92,7.92,8.0,8.0,7.92,7.83,7.92,7.83,7.83,7.83,7.83,7.92,7.83,7.83,7.75,7.92,8.0,7.83,7.83,7.83,7.75,7.83,8.58,7.92,7.92,7.92,7.92,7.92,7.92,7.83,7.83,7.75,7.92,7.75,7.83,7.75,7.75,7.75,7.67,7.75,7.75,7.75,7.75,7.83,7.83,7.75,7.83,7.75,7.67,7.67,7.75,7.75,7.92,7.75,7.67,7.67,7.75,7.75,7.75,7.75,7.75,7.75,7.75,7.75,7.67,7.58,7.75,7.58,7.75,7.58,7.67,7.58,7.67,7.67,7.67,7.67,7.67,7.67,7.58,7.67,7.67,7.58,7.58,7.92,7.75,7.58,7.67,7.5,7.33,7.75,7.75,7.67,7.5,7.5,7.67,7.5,7.5,7.58,7.67,7.58,7.67,7.5,7.58,7.5,7.58,7.33,7.58,7.5,7.58,7.5,7.42,7.42,7.33,7.33,7.5,7.5,7.5,7.5,7.33,7.33,7.33,7.5,7.58,7.42,7.42,7.42,7.17,7.42,7.5,7.33,7.5,7.5,7.42,7.5,7.42,7.5,7.42,7.42,7.42,7.33,7.33,7.42,7.33,7.33,7.33,7.33,7.42,7.33,7.17,7.25,7.33,7.17,7.25,7.17,7.25,7.17,7.17,7.25,7.0,7.17,7.08,7.0,7.08,7.0,6.83,6.67,7.5],\"type\":\"histogram\",\"xaxis\":\"x7\",\"yaxis\":\"y7\"},{\"name\":\"Total Cup Points\",\"nbinsx\":50,\"x\":[89.33,87.58,87.42,87.42,87.25,87.17,87.08,87.0,86.92,86.75,86.67,86.58,86.5,86.33,86.25,86.25,86.17,86.17,86.17,86.08,86.08,86.08,85.92,85.83,85.75,85.75,85.67,85.67,85.67,85.58,85.5,85.5,85.5,85.5,85.42,85.42,85.33,85.33,85.25,85.25,85.25,85.25,85.17,85.08,85.08,85.08,85.0,85.0,85.0,85.0,85.0,84.92,84.83,84.83,84.83,84.83,84.83,84.75,84.75,84.75,84.75,84.67,84.67,84.67,84.58,84.58,84.58,84.58,84.5,84.5,84.5,84.5,84.5,84.42,84.33,84.33,84.33,84.33,84.33,84.33,84.25,84.25,84.25,84.25,84.25,84.25,84.17,84.08,84.08,84.08,84.08,84.08,84.0,84.0,84.0,84.0,84.0,84.0,83.92,83.92,83.92,83.92,83.83,83.83,83.83,83.83,83.75,83.75,83.67,83.67,83.67,83.67,83.67,83.67,83.58,83.58,83.58,83.5,83.5,83.5,83.5,83.5,83.42,83.42,83.33,83.33,83.33,83.33,83.33,83.33,83.33,83.33,83.25,83.25,83.25,83.25,83.25,83.25,83.25,83.17,83.17,83.17,83.08,83.08,83.0,82.92,82.92,82.92,82.83,82.83,82.75,82.75,82.67,82.67,82.67,82.58,82.58,82.5,82.5,82.5,82.5,82.5,82.42,82.33,82.33,82.33,82.25,82.17,82.17,82.08,82.08,82.0,82.0,82.0,82.0,82.0,81.92,81.92,81.83,81.83,81.83,81.75,81.75,81.67,81.58,81.58,81.5,81.42,81.33,81.17,81.17,81.0,80.83,80.58,80.5,80.42,80.42,80.33,80.17,80.08,80.0,80.0,79.67,78.08,78.0,74.0],\"type\":\"histogram\",\"xaxis\":\"x8\",\"yaxis\":\"y8\"},{\"name\":\"Moisture Percentage\",\"nbinsx\":50,\"x\":[11.8,10.5,10.4,10.5,10.2,11.8,11.6,10.7,9.1,10.0,10.8,10.4,11.0,10.4,11.5,11.9,11.6,10.6,10.2,10.3,11.3,10.2,11.0,10.0,11.6,11.6,9.8,11.3,10.4,10.6,10.6,11.3,10.2,9.1,11.4,9.3,12.3,10.8,9.4,9.5,12.5,9.2,10.3,10.0,10.5,10.0,10.9,11.3,9.9,10.1,11.0,9.5,11.9,10.7,9.7,9.5,11.2,11.2,10.4,10.0,10.3,10.0,11.2,10.6,11.2,11.6,10.3,9.6,10.2,10.9,11.3,11.7,9.8,10.1,10.1,9.2,11.8,10.3,11.0,11.0,11.5,10.7,12.1,11.8,10.0,11.5,10.2,10.8,11.0,11.6,11.9,10.6,9.8,9.4,13.3,11.3,11.0,11.6,9.5,10.0,11.6,11.9,12.0,11.9,12.1,11.8,10.6,11.7,10.2,9.2,10.5,11.1,10.0,12.4,9.1,8.4,11.9,12.2,11.2,10.4,11.5,13.1,10.1,10.1,13.5,11.1,11.4,12.3,9.7,9.6,0.0,11.6,10.5,11.3,10.4,10.9,11.1,11.6,9.6,11.8,9.7,11.9,9.6,11.8,13.1,8.9,11.9,10.2,10.0,11.8,11.8,10.5,13.0,11.8,9.6,9.8,8.4,11.3,10.7,11.8,11.7,8.4,11.4,10.8,12.0,11.8,11.7,11.2,10.6,9.7,8.1,9.8,10.5,12.5,11.5,8.2,10.3,11.6,11.2,11.5,11.3,11.2,11.1,11.8,9.0,9.7,8.5,11.6,10.5,11.4,10.4,10.6,10.5,14.0,11.5,11.2,11.0,11.5,11.6,11.4,11.4,10.4,11.6,11.0,11.3,11.8],\"type\":\"histogram\",\"xaxis\":\"x9\",\"yaxis\":\"y9\"},{\"name\":\"Coffee Age\",\"nbinsx\":50,\"x\":[993,1048,1048,2348,895,628,794,683,1048,1048,1048,887,761,887,1048,1048,967,1048,886,661,826,1048,1026,761,1048,896,957,826,710,1048,1048,735,1048,1048,710,1048,1002,710,1075,1048,527,788,2487,710,1093,1100,1075,783,836,1048,909,1100,630,683,1100,1048,677,773,1048,1093,845,838,879,847,1048,1048,1048,1100,1075,964,1100,641,844,1048,677,845,885,1048,901,991,875,864,710,896,836,628,844,1100,810,893,1106,1048,732,1048,572,1051,810,689,838,836,628,1048,981,836,782,683,683,824,683,1100,902,1048,661,633,1100,1100,895,747,958,1063,896,559,1048,917,1002,973,1093,559,1100,1100,838,893,1048,958,732,826,892,773,1100,1100,1100,843,844,728,742,1100,952,661,843,559,1048,759,559,556,844,1100,1100,791,1048,671,683,1100,1093,1100,781,917,556,826,677,1100,1100,559,2278,598,1061,1100,671,556,829,802,1100,1093,1093,952,1100,817,1100,559,1048,1085,559,836,431,527,921,839,794,431,930,762,879,791,1044,431,1051,892],\"type\":\"histogram\",\"xaxis\":\"x10\",\"yaxis\":\"y10\"}],                        {\"template\":{\"data\":{\"histogram2dcontour\":[{\"type\":\"histogram2dcontour\",\"colorbar\":{\"outlinewidth\":0,\"ticks\":\"\"},\"colorscale\":[[0.0,\"#0d0887\"],[0.1111111111111111,\"#46039f\"],[0.2222222222222222,\"#7201a8\"],[0.3333333333333333,\"#9c179e\"],[0.4444444444444444,\"#bd3786\"],[0.5555555555555556,\"#d8576b\"],[0.6666666666666666,\"#ed7953\"],[0.7777777777777778,\"#fb9f3a\"],[0.8888888888888888,\"#fdca26\"],[1.0,\"#f0f921\"]]}],\"choropleth\":[{\"type\":\"choropleth\",\"colorbar\":{\"outlinewidth\":0,\"ticks\":\"\"}}],\"histogram2d\":[{\"type\":\"histogram2d\",\"colorbar\":{\"outlinewidth\":0,\"ticks\":\"\"},\"colorscale\":[[0.0,\"#0d0887\"],[0.1111111111111111,\"#46039f\"],[0.2222222222222222,\"#7201a8\"],[0.3333333333333333,\"#9c179e\"],[0.4444444444444444,\"#bd3786\"],[0.5555555555555556,\"#d8576b\"],[0.6666666666666666,\"#ed7953\"],[0.7777777777777778,\"#fb9f3a\"],[0.8888888888888888,\"#fdca26\"],[1.0,\"#f0f921\"]]}],\"heatmap\":[{\"type\":\"heatmap\",\"colorbar\":{\"outlinewidth\":0,\"ticks\":\"\"},\"colorscale\":[[0.0,\"#0d0887\"],[0.1111111111111111,\"#46039f\"],[0.2222222222222222,\"#7201a8\"],[0.3333333333333333,\"#9c179e\"],[0.4444444444444444,\"#bd3786\"],[0.5555555555555556,\"#d8576b\"],[0.6666666666666666,\"#ed7953\"],[0.7777777777777778,\"#fb9f3a\"],[0.8888888888888888,\"#fdca26\"],[1.0,\"#f0f921\"]]}],\"heatmapgl\":[{\"type\":\"heatmapgl\",\"colorbar\":{\"outlinewidth\":0,\"ticks\":\"\"},\"colorscale\":[[0.0,\"#0d0887\"],[0.1111111111111111,\"#46039f\"],[0.2222222222222222,\"#7201a8\"],[0.3333333333333333,\"#9c179e\"],[0.4444444444444444,\"#bd3786\"],[0.5555555555555556,\"#d8576b\"],[0.6666666666666666,\"#ed7953\"],[0.7777777777777778,\"#fb9f3a\"],[0.8888888888888888,\"#fdca26\"],[1.0,\"#f0f921\"]]}],\"contourcarpet\":[{\"type\":\"contourcarpet\",\"colorbar\":{\"outlinewidth\":0,\"ticks\":\"\"}}],\"contour\":[{\"type\":\"contour\",\"colorbar\":{\"outlinewidth\":0,\"ticks\":\"\"},\"colorscale\":[[0.0,\"#0d0887\"],[0.1111111111111111,\"#46039f\"],[0.2222222222222222,\"#7201a8\"],[0.3333333333333333,\"#9c179e\"],[0.4444444444444444,\"#bd3786\"],[0.5555555555555556,\"#d8576b\"],[0.6666666666666666,\"#ed7953\"],[0.7777777777777778,\"#fb9f3a\"],[0.8888888888888888,\"#fdca26\"],[1.0,\"#f0f921\"]]}],\"surface\":[{\"type\":\"surface\",\"colorbar\":{\"outlinewidth\":0,\"ticks\":\"\"},\"colorscale\":[[0.0,\"#0d0887\"],[0.1111111111111111,\"#46039f\"],[0.2222222222222222,\"#7201a8\"],[0.3333333333333333,\"#9c179e\"],[0.4444444444444444,\"#bd3786\"],[0.5555555555555556,\"#d8576b\"],[0.6666666666666666,\"#ed7953\"],[0.7777777777777778,\"#fb9f3a\"],[0.8888888888888888,\"#fdca26\"],[1.0,\"#f0f921\"]]}],\"mesh3d\":[{\"type\":\"mesh3d\",\"colorbar\":{\"outlinewidth\":0,\"ticks\":\"\"}}],\"scatter\":[{\"fillpattern\":{\"fillmode\":\"overlay\",\"size\":10,\"solidity\":0.2},\"type\":\"scatter\"}],\"parcoords\":[{\"type\":\"parcoords\",\"line\":{\"colorbar\":{\"outlinewidth\":0,\"ticks\":\"\"}}}],\"scatterpolargl\":[{\"type\":\"scatterpolargl\",\"marker\":{\"colorbar\":{\"outlinewidth\":0,\"ticks\":\"\"}}}],\"bar\":[{\"error_x\":{\"color\":\"#2a3f5f\"},\"error_y\":{\"color\":\"#2a3f5f\"},\"marker\":{\"line\":{\"color\":\"#E5ECF6\",\"width\":0.5},\"pattern\":{\"fillmode\":\"overlay\",\"size\":10,\"solidity\":0.2}},\"type\":\"bar\"}],\"scattergeo\":[{\"type\":\"scattergeo\",\"marker\":{\"colorbar\":{\"outlinewidth\":0,\"ticks\":\"\"}}}],\"scatterpolar\":[{\"type\":\"scatterpolar\",\"marker\":{\"colorbar\":{\"outlinewidth\":0,\"ticks\":\"\"}}}],\"histogram\":[{\"marker\":{\"pattern\":{\"fillmode\":\"overlay\",\"size\":10,\"solidity\":0.2}},\"type\":\"histogram\"}],\"scattergl\":[{\"type\":\"scattergl\",\"marker\":{\"colorbar\":{\"outlinewidth\":0,\"ticks\":\"\"}}}],\"scatter3d\":[{\"type\":\"scatter3d\",\"line\":{\"colorbar\":{\"outlinewidth\":0,\"ticks\":\"\"}},\"marker\":{\"colorbar\":{\"outlinewidth\":0,\"ticks\":\"\"}}}],\"scattermapbox\":[{\"type\":\"scattermapbox\",\"marker\":{\"colorbar\":{\"outlinewidth\":0,\"ticks\":\"\"}}}],\"scatterternary\":[{\"type\":\"scatterternary\",\"marker\":{\"colorbar\":{\"outlinewidth\":0,\"ticks\":\"\"}}}],\"scattercarpet\":[{\"type\":\"scattercarpet\",\"marker\":{\"colorbar\":{\"outlinewidth\":0,\"ticks\":\"\"}}}],\"carpet\":[{\"aaxis\":{\"endlinecolor\":\"#2a3f5f\",\"gridcolor\":\"white\",\"linecolor\":\"white\",\"minorgridcolor\":\"white\",\"startlinecolor\":\"#2a3f5f\"},\"baxis\":{\"endlinecolor\":\"#2a3f5f\",\"gridcolor\":\"white\",\"linecolor\":\"white\",\"minorgridcolor\":\"white\",\"startlinecolor\":\"#2a3f5f\"},\"type\":\"carpet\"}],\"table\":[{\"cells\":{\"fill\":{\"color\":\"#EBF0F8\"},\"line\":{\"color\":\"white\"}},\"header\":{\"fill\":{\"color\":\"#C8D4E3\"},\"line\":{\"color\":\"white\"}},\"type\":\"table\"}],\"barpolar\":[{\"marker\":{\"line\":{\"color\":\"#E5ECF6\",\"width\":0.5},\"pattern\":{\"fillmode\":\"overlay\",\"size\":10,\"solidity\":0.2}},\"type\":\"barpolar\"}],\"pie\":[{\"automargin\":true,\"type\":\"pie\"}]},\"layout\":{\"autotypenumbers\":\"strict\",\"colorway\":[\"#636efa\",\"#EF553B\",\"#00cc96\",\"#ab63fa\",\"#FFA15A\",\"#19d3f3\",\"#FF6692\",\"#B6E880\",\"#FF97FF\",\"#FECB52\"],\"font\":{\"color\":\"#2a3f5f\"},\"hovermode\":\"closest\",\"hoverlabel\":{\"align\":\"left\"},\"paper_bgcolor\":\"white\",\"plot_bgcolor\":\"#E5ECF6\",\"polar\":{\"bgcolor\":\"#E5ECF6\",\"angularaxis\":{\"gridcolor\":\"white\",\"linecolor\":\"white\",\"ticks\":\"\"},\"radialaxis\":{\"gridcolor\":\"white\",\"linecolor\":\"white\",\"ticks\":\"\"}},\"ternary\":{\"bgcolor\":\"#E5ECF6\",\"aaxis\":{\"gridcolor\":\"white\",\"linecolor\":\"white\",\"ticks\":\"\"},\"baxis\":{\"gridcolor\":\"white\",\"linecolor\":\"white\",\"ticks\":\"\"},\"caxis\":{\"gridcolor\":\"white\",\"linecolor\":\"white\",\"ticks\":\"\"}},\"coloraxis\":{\"colorbar\":{\"outlinewidth\":0,\"ticks\":\"\"}},\"colorscale\":{\"sequential\":[[0.0,\"#0d0887\"],[0.1111111111111111,\"#46039f\"],[0.2222222222222222,\"#7201a8\"],[0.3333333333333333,\"#9c179e\"],[0.4444444444444444,\"#bd3786\"],[0.5555555555555556,\"#d8576b\"],[0.6666666666666666,\"#ed7953\"],[0.7777777777777778,\"#fb9f3a\"],[0.8888888888888888,\"#fdca26\"],[1.0,\"#f0f921\"]],\"sequentialminus\":[[0.0,\"#0d0887\"],[0.1111111111111111,\"#46039f\"],[0.2222222222222222,\"#7201a8\"],[0.3333333333333333,\"#9c179e\"],[0.4444444444444444,\"#bd3786\"],[0.5555555555555556,\"#d8576b\"],[0.6666666666666666,\"#ed7953\"],[0.7777777777777778,\"#fb9f3a\"],[0.8888888888888888,\"#fdca26\"],[1.0,\"#f0f921\"]],\"diverging\":[[0,\"#8e0152\"],[0.1,\"#c51b7d\"],[0.2,\"#de77ae\"],[0.3,\"#f1b6da\"],[0.4,\"#fde0ef\"],[0.5,\"#f7f7f7\"],[0.6,\"#e6f5d0\"],[0.7,\"#b8e186\"],[0.8,\"#7fbc41\"],[0.9,\"#4d9221\"],[1,\"#276419\"]]},\"xaxis\":{\"gridcolor\":\"white\",\"linecolor\":\"white\",\"ticks\":\"\",\"title\":{\"standoff\":15},\"zerolinecolor\":\"white\",\"automargin\":true,\"zerolinewidth\":2},\"yaxis\":{\"gridcolor\":\"white\",\"linecolor\":\"white\",\"ticks\":\"\",\"title\":{\"standoff\":15},\"zerolinecolor\":\"white\",\"automargin\":true,\"zerolinewidth\":2},\"scene\":{\"xaxis\":{\"backgroundcolor\":\"#E5ECF6\",\"gridcolor\":\"white\",\"linecolor\":\"white\",\"showbackground\":true,\"ticks\":\"\",\"zerolinecolor\":\"white\",\"gridwidth\":2},\"yaxis\":{\"backgroundcolor\":\"#E5ECF6\",\"gridcolor\":\"white\",\"linecolor\":\"white\",\"showbackground\":true,\"ticks\":\"\",\"zerolinecolor\":\"white\",\"gridwidth\":2},\"zaxis\":{\"backgroundcolor\":\"#E5ECF6\",\"gridcolor\":\"white\",\"linecolor\":\"white\",\"showbackground\":true,\"ticks\":\"\",\"zerolinecolor\":\"white\",\"gridwidth\":2}},\"shapedefaults\":{\"line\":{\"color\":\"#2a3f5f\"}},\"annotationdefaults\":{\"arrowcolor\":\"#2a3f5f\",\"arrowhead\":0,\"arrowwidth\":1},\"geo\":{\"bgcolor\":\"white\",\"landcolor\":\"#E5ECF6\",\"subunitcolor\":\"white\",\"showland\":true,\"showlakes\":true,\"lakecolor\":\"white\"},\"title\":{\"x\":0.05},\"mapbox\":{\"style\":\"light\"}}},\"xaxis\":{\"anchor\":\"y\",\"domain\":[0.0,1.0]},\"yaxis\":{\"anchor\":\"x\",\"domain\":[0.9269999999999999,0.9999999999999999]},\"xaxis2\":{\"anchor\":\"y2\",\"domain\":[0.0,1.0]},\"yaxis2\":{\"anchor\":\"x2\",\"domain\":[0.824,0.8969999999999999]},\"xaxis3\":{\"anchor\":\"y3\",\"domain\":[0.0,1.0]},\"yaxis3\":{\"anchor\":\"x3\",\"domain\":[0.721,0.7939999999999999]},\"xaxis4\":{\"anchor\":\"y4\",\"domain\":[0.0,1.0]},\"yaxis4\":{\"anchor\":\"x4\",\"domain\":[0.618,0.691]},\"xaxis5\":{\"anchor\":\"y5\",\"domain\":[0.0,1.0]},\"yaxis5\":{\"anchor\":\"x5\",\"domain\":[0.515,0.588]},\"xaxis6\":{\"anchor\":\"y6\",\"domain\":[0.0,1.0]},\"yaxis6\":{\"anchor\":\"x6\",\"domain\":[0.412,0.485]},\"xaxis7\":{\"anchor\":\"y7\",\"domain\":[0.0,1.0]},\"yaxis7\":{\"anchor\":\"x7\",\"domain\":[0.30899999999999994,0.38199999999999995]},\"xaxis8\":{\"anchor\":\"y8\",\"domain\":[0.0,1.0]},\"yaxis8\":{\"anchor\":\"x8\",\"domain\":[0.206,0.27899999999999997]},\"xaxis9\":{\"anchor\":\"y9\",\"domain\":[0.0,1.0]},\"yaxis9\":{\"anchor\":\"x9\",\"domain\":[0.103,0.176]},\"xaxis10\":{\"anchor\":\"y10\",\"domain\":[0.0,1.0]},\"yaxis10\":{\"anchor\":\"x10\",\"domain\":[0.0,0.073]},\"title\":{\"text\":\"Histograms of Numeric Attributes\"},\"height\":2000,\"width\":800},                        {\"responsive\": true}                    ).then(function(){\n",
       "                            \n",
       "var gd = document.getElementById('533b6d2c-5658-4fac-9de7-a96427a73228');\n",
       "var x = new MutationObserver(function (mutations, observer) {{\n",
       "        var display = window.getComputedStyle(gd).display;\n",
       "        if (!display || display === 'none') {{\n",
       "            console.log([gd, 'removed!']);\n",
       "            Plotly.purge(gd);\n",
       "            observer.disconnect();\n",
       "        }}\n",
       "}});\n",
       "\n",
       "// Listen for the removal of the full notebook cells\n",
       "var notebookContainer = gd.closest('#notebook-container');\n",
       "if (notebookContainer) {{\n",
       "    x.observe(notebookContainer, {childList: true});\n",
       "}}\n",
       "\n",
       "// Listen for the clearing of the current output cell\n",
       "var outputEl = gd.closest('.output');\n",
       "if (outputEl) {{\n",
       "    x.observe(outputEl, {childList: true});\n",
       "}}\n",
       "\n",
       "                        })                };                });            </script>        </div>"
      ]
     },
     "metadata": {},
     "output_type": "display_data"
    }
   ],
   "source": [
    "# List of numeric attributes\n",
    "numeric_attributes = ['Aroma', 'Flavor', 'Aftertaste', 'Acidity', 'Body', 'Balance', 'Overall', 'Total Cup Points', 'Moisture Percentage','Coffee Age']\n",
    "\n",
    "# Create a subplot for each numeric attribute\n",
    "fig = make_subplots(rows=len(numeric_attributes), cols=1)\n",
    "\n",
    "# Add a histogram to the subplot for each numeric attribute\n",
    "for i, attribute in enumerate(numeric_attributes):\n",
    "    fig.add_trace(go.Histogram(x=df[attribute], nbinsx=50, name=attribute), row=i+1, col=1)\n",
    "\n",
    "fig.update_layout(height=200*len(numeric_attributes), width=800, title_text=\"Histograms of Numeric Attributes\")\n",
    "fig.show()"
   ]
  },
  {
   "cell_type": "markdown",
   "id": "323fdbb1",
   "metadata": {},
   "source": [
    "## <div style=\"padding: 20px;color:white;margin:10;font-size:90%;text-align:left;display:fill;border-radius:10px;overflow:hidden;background-image: url(https://w0.peakpx.com/wallpaper/957/661/HD-wallpaper-white-marble-white-stone-texture-marble-stone-background-white-stone.jpg)\"><b><span style='color:black'> 2. Geospatial Analysis</span></b> </div>"
   ]
  },
  {
   "cell_type": "code",
   "execution_count": null,
   "id": "f3750a69",
   "metadata": {},
   "outputs": [
    {
     "data": {
      "application/vnd.plotly.v1+json": {
       "config": {
        "plotlyServerURL": "https://plot.ly"
       },
       "data": [
        {
         "coloraxis": "coloraxis",
         "geo": "geo",
         "hovertemplate": "<b>%{hovertext}</b><br><br>Country of Origin=%{location}<br>Total Cup Points=%{z}<extra></extra>",
         "hovertext": [
          "Brazil",
          "Colombia",
          "Costa Rica",
          "El Salvador",
          "Ethiopia",
          "Guatemala",
          "Honduras",
          "Indonesia",
          "Kenya",
          "Laos",
          "Madagascar",
          "Mexico",
          "Myanmar",
          "Nicaragua",
          "Panama",
          "Peru",
          "Philippines",
          "Taiwan",
          "Tanzania, United Republic Of",
          "Thailand",
          "Uganda",
          "United States (Hawaii)",
          "Vietnam"
         ],
         "locationmode": "country names",
         "locations": [
          "Brazil",
          "Colombia",
          "Costa Rica",
          "El Salvador",
          "Ethiopia",
          "Guatemala",
          "Honduras",
          "Indonesia",
          "Kenya",
          "Laos",
          "Madagascar",
          "Mexico",
          "Myanmar",
          "Nicaragua",
          "Panama",
          "Peru",
          "Philippines",
          "Taiwan",
          "Tanzania, United Republic Of",
          "Thailand",
          "Uganda",
          "United States (Hawaii)",
          "Vietnam"
         ],
         "name": "",
         "type": "choropleth",
         "z": [
          81.88888888888889,
          83.91666666666667,
          83.74,
          81.457,
          85.42846153846153,
          84.2495,
          83.47,
          83.38199999999999,
          83.71000000000001,
          83.39,
          84.25,
          82.83428571428571,
          83.67,
          81.218,
          84.75,
          83,
          83.17,
          84.33122807017544,
          84.735,
          82.784,
          83.566,
          83.65,
          83.982
         ]
        }
       ],
       "layout": {
        "coloraxis": {
         "colorbar": {
          "title": {
           "text": "Total Cup Points"
          }
         },
         "colorscale": [
          [
           0,
           "#0d0887"
          ],
          [
           0.1111111111111111,
           "#46039f"
          ],
          [
           0.2222222222222222,
           "#7201a8"
          ],
          [
           0.3333333333333333,
           "#9c179e"
          ],
          [
           0.4444444444444444,
           "#bd3786"
          ],
          [
           0.5555555555555556,
           "#d8576b"
          ],
          [
           0.6666666666666666,
           "#ed7953"
          ],
          [
           0.7777777777777778,
           "#fb9f3a"
          ],
          [
           0.8888888888888888,
           "#fdca26"
          ],
          [
           1,
           "#f0f921"
          ]
         ]
        },
        "geo": {
         "center": {},
         "domain": {
          "x": [
           0,
           1
          ],
          "y": [
           0,
           1
          ]
         }
        },
        "legend": {
         "tracegroupgap": 0
        },
        "template": {
         "data": {
          "bar": [
           {
            "error_x": {
             "color": "#2a3f5f"
            },
            "error_y": {
             "color": "#2a3f5f"
            },
            "marker": {
             "line": {
              "color": "#E5ECF6",
              "width": 0.5
             },
             "pattern": {
              "fillmode": "overlay",
              "size": 10,
              "solidity": 0.2
             }
            },
            "type": "bar"
           }
          ],
          "barpolar": [
           {
            "marker": {
             "line": {
              "color": "#E5ECF6",
              "width": 0.5
             },
             "pattern": {
              "fillmode": "overlay",
              "size": 10,
              "solidity": 0.2
             }
            },
            "type": "barpolar"
           }
          ],
          "carpet": [
           {
            "aaxis": {
             "endlinecolor": "#2a3f5f",
             "gridcolor": "white",
             "linecolor": "white",
             "minorgridcolor": "white",
             "startlinecolor": "#2a3f5f"
            },
            "baxis": {
             "endlinecolor": "#2a3f5f",
             "gridcolor": "white",
             "linecolor": "white",
             "minorgridcolor": "white",
             "startlinecolor": "#2a3f5f"
            },
            "type": "carpet"
           }
          ],
          "choropleth": [
           {
            "colorbar": {
             "outlinewidth": 0,
             "ticks": ""
            },
            "type": "choropleth"
           }
          ],
          "contour": [
           {
            "colorbar": {
             "outlinewidth": 0,
             "ticks": ""
            },
            "colorscale": [
             [
              0,
              "#0d0887"
             ],
             [
              0.1111111111111111,
              "#46039f"
             ],
             [
              0.2222222222222222,
              "#7201a8"
             ],
             [
              0.3333333333333333,
              "#9c179e"
             ],
             [
              0.4444444444444444,
              "#bd3786"
             ],
             [
              0.5555555555555556,
              "#d8576b"
             ],
             [
              0.6666666666666666,
              "#ed7953"
             ],
             [
              0.7777777777777778,
              "#fb9f3a"
             ],
             [
              0.8888888888888888,
              "#fdca26"
             ],
             [
              1,
              "#f0f921"
             ]
            ],
            "type": "contour"
           }
          ],
          "contourcarpet": [
           {
            "colorbar": {
             "outlinewidth": 0,
             "ticks": ""
            },
            "type": "contourcarpet"
           }
          ],
          "heatmap": [
           {
            "colorbar": {
             "outlinewidth": 0,
             "ticks": ""
            },
            "colorscale": [
             [
              0,
              "#0d0887"
             ],
             [
              0.1111111111111111,
              "#46039f"
             ],
             [
              0.2222222222222222,
              "#7201a8"
             ],
             [
              0.3333333333333333,
              "#9c179e"
             ],
             [
              0.4444444444444444,
              "#bd3786"
             ],
             [
              0.5555555555555556,
              "#d8576b"
             ],
             [
              0.6666666666666666,
              "#ed7953"
             ],
             [
              0.7777777777777778,
              "#fb9f3a"
             ],
             [
              0.8888888888888888,
              "#fdca26"
             ],
             [
              1,
              "#f0f921"
             ]
            ],
            "type": "heatmap"
           }
          ],
          "heatmapgl": [
           {
            "colorbar": {
             "outlinewidth": 0,
             "ticks": ""
            },
            "colorscale": [
             [
              0,
              "#0d0887"
             ],
             [
              0.1111111111111111,
              "#46039f"
             ],
             [
              0.2222222222222222,
              "#7201a8"
             ],
             [
              0.3333333333333333,
              "#9c179e"
             ],
             [
              0.4444444444444444,
              "#bd3786"
             ],
             [
              0.5555555555555556,
              "#d8576b"
             ],
             [
              0.6666666666666666,
              "#ed7953"
             ],
             [
              0.7777777777777778,
              "#fb9f3a"
             ],
             [
              0.8888888888888888,
              "#fdca26"
             ],
             [
              1,
              "#f0f921"
             ]
            ],
            "type": "heatmapgl"
           }
          ],
          "histogram": [
           {
            "marker": {
             "pattern": {
              "fillmode": "overlay",
              "size": 10,
              "solidity": 0.2
             }
            },
            "type": "histogram"
           }
          ],
          "histogram2d": [
           {
            "colorbar": {
             "outlinewidth": 0,
             "ticks": ""
            },
            "colorscale": [
             [
              0,
              "#0d0887"
             ],
             [
              0.1111111111111111,
              "#46039f"
             ],
             [
              0.2222222222222222,
              "#7201a8"
             ],
             [
              0.3333333333333333,
              "#9c179e"
             ],
             [
              0.4444444444444444,
              "#bd3786"
             ],
             [
              0.5555555555555556,
              "#d8576b"
             ],
             [
              0.6666666666666666,
              "#ed7953"
             ],
             [
              0.7777777777777778,
              "#fb9f3a"
             ],
             [
              0.8888888888888888,
              "#fdca26"
             ],
             [
              1,
              "#f0f921"
             ]
            ],
            "type": "histogram2d"
           }
          ],
          "histogram2dcontour": [
           {
            "colorbar": {
             "outlinewidth": 0,
             "ticks": ""
            },
            "colorscale": [
             [
              0,
              "#0d0887"
             ],
             [
              0.1111111111111111,
              "#46039f"
             ],
             [
              0.2222222222222222,
              "#7201a8"
             ],
             [
              0.3333333333333333,
              "#9c179e"
             ],
             [
              0.4444444444444444,
              "#bd3786"
             ],
             [
              0.5555555555555556,
              "#d8576b"
             ],
             [
              0.6666666666666666,
              "#ed7953"
             ],
             [
              0.7777777777777778,
              "#fb9f3a"
             ],
             [
              0.8888888888888888,
              "#fdca26"
             ],
             [
              1,
              "#f0f921"
             ]
            ],
            "type": "histogram2dcontour"
           }
          ],
          "mesh3d": [
           {
            "colorbar": {
             "outlinewidth": 0,
             "ticks": ""
            },
            "type": "mesh3d"
           }
          ],
          "parcoords": [
           {
            "line": {
             "colorbar": {
              "outlinewidth": 0,
              "ticks": ""
             }
            },
            "type": "parcoords"
           }
          ],
          "pie": [
           {
            "automargin": true,
            "type": "pie"
           }
          ],
          "scatter": [
           {
            "fillpattern": {
             "fillmode": "overlay",
             "size": 10,
             "solidity": 0.2
            },
            "type": "scatter"
           }
          ],
          "scatter3d": [
           {
            "line": {
             "colorbar": {
              "outlinewidth": 0,
              "ticks": ""
             }
            },
            "marker": {
             "colorbar": {
              "outlinewidth": 0,
              "ticks": ""
             }
            },
            "type": "scatter3d"
           }
          ],
          "scattercarpet": [
           {
            "marker": {
             "colorbar": {
              "outlinewidth": 0,
              "ticks": ""
             }
            },
            "type": "scattercarpet"
           }
          ],
          "scattergeo": [
           {
            "marker": {
             "colorbar": {
              "outlinewidth": 0,
              "ticks": ""
             }
            },
            "type": "scattergeo"
           }
          ],
          "scattergl": [
           {
            "marker": {
             "colorbar": {
              "outlinewidth": 0,
              "ticks": ""
             }
            },
            "type": "scattergl"
           }
          ],
          "scattermapbox": [
           {
            "marker": {
             "colorbar": {
              "outlinewidth": 0,
              "ticks": ""
             }
            },
            "type": "scattermapbox"
           }
          ],
          "scatterpolar": [
           {
            "marker": {
             "colorbar": {
              "outlinewidth": 0,
              "ticks": ""
             }
            },
            "type": "scatterpolar"
           }
          ],
          "scatterpolargl": [
           {
            "marker": {
             "colorbar": {
              "outlinewidth": 0,
              "ticks": ""
             }
            },
            "type": "scatterpolargl"
           }
          ],
          "scatterternary": [
           {
            "marker": {
             "colorbar": {
              "outlinewidth": 0,
              "ticks": ""
             }
            },
            "type": "scatterternary"
           }
          ],
          "surface": [
           {
            "colorbar": {
             "outlinewidth": 0,
             "ticks": ""
            },
            "colorscale": [
             [
              0,
              "#0d0887"
             ],
             [
              0.1111111111111111,
              "#46039f"
             ],
             [
              0.2222222222222222,
              "#7201a8"
             ],
             [
              0.3333333333333333,
              "#9c179e"
             ],
             [
              0.4444444444444444,
              "#bd3786"
             ],
             [
              0.5555555555555556,
              "#d8576b"
             ],
             [
              0.6666666666666666,
              "#ed7953"
             ],
             [
              0.7777777777777778,
              "#fb9f3a"
             ],
             [
              0.8888888888888888,
              "#fdca26"
             ],
             [
              1,
              "#f0f921"
             ]
            ],
            "type": "surface"
           }
          ],
          "table": [
           {
            "cells": {
             "fill": {
              "color": "#EBF0F8"
             },
             "line": {
              "color": "white"
             }
            },
            "header": {
             "fill": {
              "color": "#C8D4E3"
             },
             "line": {
              "color": "white"
             }
            },
            "type": "table"
           }
          ]
         },
         "layout": {
          "annotationdefaults": {
           "arrowcolor": "#2a3f5f",
           "arrowhead": 0,
           "arrowwidth": 1
          },
          "autotypenumbers": "strict",
          "coloraxis": {
           "colorbar": {
            "outlinewidth": 0,
            "ticks": ""
           }
          },
          "colorscale": {
           "diverging": [
            [
             0,
             "#8e0152"
            ],
            [
             0.1,
             "#c51b7d"
            ],
            [
             0.2,
             "#de77ae"
            ],
            [
             0.3,
             "#f1b6da"
            ],
            [
             0.4,
             "#fde0ef"
            ],
            [
             0.5,
             "#f7f7f7"
            ],
            [
             0.6,
             "#e6f5d0"
            ],
            [
             0.7,
             "#b8e186"
            ],
            [
             0.8,
             "#7fbc41"
            ],
            [
             0.9,
             "#4d9221"
            ],
            [
             1,
             "#276419"
            ]
           ],
           "sequential": [
            [
             0,
             "#0d0887"
            ],
            [
             0.1111111111111111,
             "#46039f"
            ],
            [
             0.2222222222222222,
             "#7201a8"
            ],
            [
             0.3333333333333333,
             "#9c179e"
            ],
            [
             0.4444444444444444,
             "#bd3786"
            ],
            [
             0.5555555555555556,
             "#d8576b"
            ],
            [
             0.6666666666666666,
             "#ed7953"
            ],
            [
             0.7777777777777778,
             "#fb9f3a"
            ],
            [
             0.8888888888888888,
             "#fdca26"
            ],
            [
             1,
             "#f0f921"
            ]
           ],
           "sequentialminus": [
            [
             0,
             "#0d0887"
            ],
            [
             0.1111111111111111,
             "#46039f"
            ],
            [
             0.2222222222222222,
             "#7201a8"
            ],
            [
             0.3333333333333333,
             "#9c179e"
            ],
            [
             0.4444444444444444,
             "#bd3786"
            ],
            [
             0.5555555555555556,
             "#d8576b"
            ],
            [
             0.6666666666666666,
             "#ed7953"
            ],
            [
             0.7777777777777778,
             "#fb9f3a"
            ],
            [
             0.8888888888888888,
             "#fdca26"
            ],
            [
             1,
             "#f0f921"
            ]
           ]
          },
          "colorway": [
           "#636efa",
           "#EF553B",
           "#00cc96",
           "#ab63fa",
           "#FFA15A",
           "#19d3f3",
           "#FF6692",
           "#B6E880",
           "#FF97FF",
           "#FECB52"
          ],
          "font": {
           "color": "#2a3f5f"
          },
          "geo": {
           "bgcolor": "white",
           "lakecolor": "white",
           "landcolor": "#E5ECF6",
           "showlakes": true,
           "showland": true,
           "subunitcolor": "white"
          },
          "hoverlabel": {
           "align": "left"
          },
          "hovermode": "closest",
          "mapbox": {
           "style": "light"
          },
          "paper_bgcolor": "white",
          "plot_bgcolor": "#E5ECF6",
          "polar": {
           "angularaxis": {
            "gridcolor": "white",
            "linecolor": "white",
            "ticks": ""
           },
           "bgcolor": "#E5ECF6",
           "radialaxis": {
            "gridcolor": "white",
            "linecolor": "white",
            "ticks": ""
           }
          },
          "scene": {
           "xaxis": {
            "backgroundcolor": "#E5ECF6",
            "gridcolor": "white",
            "gridwidth": 2,
            "linecolor": "white",
            "showbackground": true,
            "ticks": "",
            "zerolinecolor": "white"
           },
           "yaxis": {
            "backgroundcolor": "#E5ECF6",
            "gridcolor": "white",
            "gridwidth": 2,
            "linecolor": "white",
            "showbackground": true,
            "ticks": "",
            "zerolinecolor": "white"
           },
           "zaxis": {
            "backgroundcolor": "#E5ECF6",
            "gridcolor": "white",
            "gridwidth": 2,
            "linecolor": "white",
            "showbackground": true,
            "ticks": "",
            "zerolinecolor": "white"
           }
          },
          "shapedefaults": {
           "line": {
            "color": "#2a3f5f"
           }
          },
          "ternary": {
           "aaxis": {
            "gridcolor": "white",
            "linecolor": "white",
            "ticks": ""
           },
           "baxis": {
            "gridcolor": "white",
            "linecolor": "white",
            "ticks": ""
           },
           "bgcolor": "#E5ECF6",
           "caxis": {
            "gridcolor": "white",
            "linecolor": "white",
            "ticks": ""
           }
          },
          "title": {
           "x": 0.05
          },
          "xaxis": {
           "automargin": true,
           "gridcolor": "white",
           "linecolor": "white",
           "ticks": "",
           "title": {
            "standoff": 15
           },
           "zerolinecolor": "white",
           "zerolinewidth": 2
          },
          "yaxis": {
           "automargin": true,
           "gridcolor": "white",
           "linecolor": "white",
           "ticks": "",
           "title": {
            "standoff": 15
           },
           "zerolinecolor": "white",
           "zerolinewidth": 2
          }
         }
        },
        "title": {
         "text": "Average Total Cup Points by Country"
        }
       }
      },
      "text/html": [
       "<div>                            <div id=\"08a04815-607b-4f55-9d48-463bd43f6cef\" class=\"plotly-graph-div\" style=\"height:525px; width:100%;\"></div>            <script type=\"text/javascript\">                require([\"plotly\"], function(Plotly) {                    window.PLOTLYENV=window.PLOTLYENV || {};                                    if (document.getElementById(\"08a04815-607b-4f55-9d48-463bd43f6cef\")) {                    Plotly.newPlot(                        \"08a04815-607b-4f55-9d48-463bd43f6cef\",                        [{\"coloraxis\":\"coloraxis\",\"geo\":\"geo\",\"hovertemplate\":\"<b>%{hovertext}</b><br><br>Country of Origin=%{location}<br>Total Cup Points=%{z}<extra></extra>\",\"hovertext\":[\"Brazil\",\"Colombia\",\"Costa Rica\",\"El Salvador\",\"Ethiopia\",\"Guatemala\",\"Honduras\",\"Indonesia\",\"Kenya\",\"Laos\",\"Madagascar\",\"Mexico\",\"Myanmar\",\"Nicaragua\",\"Panama\",\"Peru\",\"Philippines\",\"Taiwan\",\"Tanzania, United Republic Of\",\"Thailand\",\"Uganda\",\"United States (Hawaii)\",\"Vietnam\"],\"locationmode\":\"country names\",\"locations\":[\"Brazil\",\"Colombia\",\"Costa Rica\",\"El Salvador\",\"Ethiopia\",\"Guatemala\",\"Honduras\",\"Indonesia\",\"Kenya\",\"Laos\",\"Madagascar\",\"Mexico\",\"Myanmar\",\"Nicaragua\",\"Panama\",\"Peru\",\"Philippines\",\"Taiwan\",\"Tanzania, United Republic Of\",\"Thailand\",\"Uganda\",\"United States (Hawaii)\",\"Vietnam\"],\"name\":\"\",\"z\":[81.88888888888889,83.91666666666667,83.74,81.457,85.42846153846153,84.2495,83.47,83.38199999999999,83.71000000000001,83.39,84.25,82.83428571428571,83.67,81.218,84.75,83.0,83.17,84.33122807017544,84.735,82.784,83.566,83.65,83.982],\"type\":\"choropleth\"}],                        {\"template\":{\"data\":{\"histogram2dcontour\":[{\"type\":\"histogram2dcontour\",\"colorbar\":{\"outlinewidth\":0,\"ticks\":\"\"},\"colorscale\":[[0.0,\"#0d0887\"],[0.1111111111111111,\"#46039f\"],[0.2222222222222222,\"#7201a8\"],[0.3333333333333333,\"#9c179e\"],[0.4444444444444444,\"#bd3786\"],[0.5555555555555556,\"#d8576b\"],[0.6666666666666666,\"#ed7953\"],[0.7777777777777778,\"#fb9f3a\"],[0.8888888888888888,\"#fdca26\"],[1.0,\"#f0f921\"]]}],\"choropleth\":[{\"type\":\"choropleth\",\"colorbar\":{\"outlinewidth\":0,\"ticks\":\"\"}}],\"histogram2d\":[{\"type\":\"histogram2d\",\"colorbar\":{\"outlinewidth\":0,\"ticks\":\"\"},\"colorscale\":[[0.0,\"#0d0887\"],[0.1111111111111111,\"#46039f\"],[0.2222222222222222,\"#7201a8\"],[0.3333333333333333,\"#9c179e\"],[0.4444444444444444,\"#bd3786\"],[0.5555555555555556,\"#d8576b\"],[0.6666666666666666,\"#ed7953\"],[0.7777777777777778,\"#fb9f3a\"],[0.8888888888888888,\"#fdca26\"],[1.0,\"#f0f921\"]]}],\"heatmap\":[{\"type\":\"heatmap\",\"colorbar\":{\"outlinewidth\":0,\"ticks\":\"\"},\"colorscale\":[[0.0,\"#0d0887\"],[0.1111111111111111,\"#46039f\"],[0.2222222222222222,\"#7201a8\"],[0.3333333333333333,\"#9c179e\"],[0.4444444444444444,\"#bd3786\"],[0.5555555555555556,\"#d8576b\"],[0.6666666666666666,\"#ed7953\"],[0.7777777777777778,\"#fb9f3a\"],[0.8888888888888888,\"#fdca26\"],[1.0,\"#f0f921\"]]}],\"heatmapgl\":[{\"type\":\"heatmapgl\",\"colorbar\":{\"outlinewidth\":0,\"ticks\":\"\"},\"colorscale\":[[0.0,\"#0d0887\"],[0.1111111111111111,\"#46039f\"],[0.2222222222222222,\"#7201a8\"],[0.3333333333333333,\"#9c179e\"],[0.4444444444444444,\"#bd3786\"],[0.5555555555555556,\"#d8576b\"],[0.6666666666666666,\"#ed7953\"],[0.7777777777777778,\"#fb9f3a\"],[0.8888888888888888,\"#fdca26\"],[1.0,\"#f0f921\"]]}],\"contourcarpet\":[{\"type\":\"contourcarpet\",\"colorbar\":{\"outlinewidth\":0,\"ticks\":\"\"}}],\"contour\":[{\"type\":\"contour\",\"colorbar\":{\"outlinewidth\":0,\"ticks\":\"\"},\"colorscale\":[[0.0,\"#0d0887\"],[0.1111111111111111,\"#46039f\"],[0.2222222222222222,\"#7201a8\"],[0.3333333333333333,\"#9c179e\"],[0.4444444444444444,\"#bd3786\"],[0.5555555555555556,\"#d8576b\"],[0.6666666666666666,\"#ed7953\"],[0.7777777777777778,\"#fb9f3a\"],[0.8888888888888888,\"#fdca26\"],[1.0,\"#f0f921\"]]}],\"surface\":[{\"type\":\"surface\",\"colorbar\":{\"outlinewidth\":0,\"ticks\":\"\"},\"colorscale\":[[0.0,\"#0d0887\"],[0.1111111111111111,\"#46039f\"],[0.2222222222222222,\"#7201a8\"],[0.3333333333333333,\"#9c179e\"],[0.4444444444444444,\"#bd3786\"],[0.5555555555555556,\"#d8576b\"],[0.6666666666666666,\"#ed7953\"],[0.7777777777777778,\"#fb9f3a\"],[0.8888888888888888,\"#fdca26\"],[1.0,\"#f0f921\"]]}],\"mesh3d\":[{\"type\":\"mesh3d\",\"colorbar\":{\"outlinewidth\":0,\"ticks\":\"\"}}],\"scatter\":[{\"fillpattern\":{\"fillmode\":\"overlay\",\"size\":10,\"solidity\":0.2},\"type\":\"scatter\"}],\"parcoords\":[{\"type\":\"parcoords\",\"line\":{\"colorbar\":{\"outlinewidth\":0,\"ticks\":\"\"}}}],\"scatterpolargl\":[{\"type\":\"scatterpolargl\",\"marker\":{\"colorbar\":{\"outlinewidth\":0,\"ticks\":\"\"}}}],\"bar\":[{\"error_x\":{\"color\":\"#2a3f5f\"},\"error_y\":{\"color\":\"#2a3f5f\"},\"marker\":{\"line\":{\"color\":\"#E5ECF6\",\"width\":0.5},\"pattern\":{\"fillmode\":\"overlay\",\"size\":10,\"solidity\":0.2}},\"type\":\"bar\"}],\"scattergeo\":[{\"type\":\"scattergeo\",\"marker\":{\"colorbar\":{\"outlinewidth\":0,\"ticks\":\"\"}}}],\"scatterpolar\":[{\"type\":\"scatterpolar\",\"marker\":{\"colorbar\":{\"outlinewidth\":0,\"ticks\":\"\"}}}],\"histogram\":[{\"marker\":{\"pattern\":{\"fillmode\":\"overlay\",\"size\":10,\"solidity\":0.2}},\"type\":\"histogram\"}],\"scattergl\":[{\"type\":\"scattergl\",\"marker\":{\"colorbar\":{\"outlinewidth\":0,\"ticks\":\"\"}}}],\"scatter3d\":[{\"type\":\"scatter3d\",\"line\":{\"colorbar\":{\"outlinewidth\":0,\"ticks\":\"\"}},\"marker\":{\"colorbar\":{\"outlinewidth\":0,\"ticks\":\"\"}}}],\"scattermapbox\":[{\"type\":\"scattermapbox\",\"marker\":{\"colorbar\":{\"outlinewidth\":0,\"ticks\":\"\"}}}],\"scatterternary\":[{\"type\":\"scatterternary\",\"marker\":{\"colorbar\":{\"outlinewidth\":0,\"ticks\":\"\"}}}],\"scattercarpet\":[{\"type\":\"scattercarpet\",\"marker\":{\"colorbar\":{\"outlinewidth\":0,\"ticks\":\"\"}}}],\"carpet\":[{\"aaxis\":{\"endlinecolor\":\"#2a3f5f\",\"gridcolor\":\"white\",\"linecolor\":\"white\",\"minorgridcolor\":\"white\",\"startlinecolor\":\"#2a3f5f\"},\"baxis\":{\"endlinecolor\":\"#2a3f5f\",\"gridcolor\":\"white\",\"linecolor\":\"white\",\"minorgridcolor\":\"white\",\"startlinecolor\":\"#2a3f5f\"},\"type\":\"carpet\"}],\"table\":[{\"cells\":{\"fill\":{\"color\":\"#EBF0F8\"},\"line\":{\"color\":\"white\"}},\"header\":{\"fill\":{\"color\":\"#C8D4E3\"},\"line\":{\"color\":\"white\"}},\"type\":\"table\"}],\"barpolar\":[{\"marker\":{\"line\":{\"color\":\"#E5ECF6\",\"width\":0.5},\"pattern\":{\"fillmode\":\"overlay\",\"size\":10,\"solidity\":0.2}},\"type\":\"barpolar\"}],\"pie\":[{\"automargin\":true,\"type\":\"pie\"}]},\"layout\":{\"autotypenumbers\":\"strict\",\"colorway\":[\"#636efa\",\"#EF553B\",\"#00cc96\",\"#ab63fa\",\"#FFA15A\",\"#19d3f3\",\"#FF6692\",\"#B6E880\",\"#FF97FF\",\"#FECB52\"],\"font\":{\"color\":\"#2a3f5f\"},\"hovermode\":\"closest\",\"hoverlabel\":{\"align\":\"left\"},\"paper_bgcolor\":\"white\",\"plot_bgcolor\":\"#E5ECF6\",\"polar\":{\"bgcolor\":\"#E5ECF6\",\"angularaxis\":{\"gridcolor\":\"white\",\"linecolor\":\"white\",\"ticks\":\"\"},\"radialaxis\":{\"gridcolor\":\"white\",\"linecolor\":\"white\",\"ticks\":\"\"}},\"ternary\":{\"bgcolor\":\"#E5ECF6\",\"aaxis\":{\"gridcolor\":\"white\",\"linecolor\":\"white\",\"ticks\":\"\"},\"baxis\":{\"gridcolor\":\"white\",\"linecolor\":\"white\",\"ticks\":\"\"},\"caxis\":{\"gridcolor\":\"white\",\"linecolor\":\"white\",\"ticks\":\"\"}},\"coloraxis\":{\"colorbar\":{\"outlinewidth\":0,\"ticks\":\"\"}},\"colorscale\":{\"sequential\":[[0.0,\"#0d0887\"],[0.1111111111111111,\"#46039f\"],[0.2222222222222222,\"#7201a8\"],[0.3333333333333333,\"#9c179e\"],[0.4444444444444444,\"#bd3786\"],[0.5555555555555556,\"#d8576b\"],[0.6666666666666666,\"#ed7953\"],[0.7777777777777778,\"#fb9f3a\"],[0.8888888888888888,\"#fdca26\"],[1.0,\"#f0f921\"]],\"sequentialminus\":[[0.0,\"#0d0887\"],[0.1111111111111111,\"#46039f\"],[0.2222222222222222,\"#7201a8\"],[0.3333333333333333,\"#9c179e\"],[0.4444444444444444,\"#bd3786\"],[0.5555555555555556,\"#d8576b\"],[0.6666666666666666,\"#ed7953\"],[0.7777777777777778,\"#fb9f3a\"],[0.8888888888888888,\"#fdca26\"],[1.0,\"#f0f921\"]],\"diverging\":[[0,\"#8e0152\"],[0.1,\"#c51b7d\"],[0.2,\"#de77ae\"],[0.3,\"#f1b6da\"],[0.4,\"#fde0ef\"],[0.5,\"#f7f7f7\"],[0.6,\"#e6f5d0\"],[0.7,\"#b8e186\"],[0.8,\"#7fbc41\"],[0.9,\"#4d9221\"],[1,\"#276419\"]]},\"xaxis\":{\"gridcolor\":\"white\",\"linecolor\":\"white\",\"ticks\":\"\",\"title\":{\"standoff\":15},\"zerolinecolor\":\"white\",\"automargin\":true,\"zerolinewidth\":2},\"yaxis\":{\"gridcolor\":\"white\",\"linecolor\":\"white\",\"ticks\":\"\",\"title\":{\"standoff\":15},\"zerolinecolor\":\"white\",\"automargin\":true,\"zerolinewidth\":2},\"scene\":{\"xaxis\":{\"backgroundcolor\":\"#E5ECF6\",\"gridcolor\":\"white\",\"linecolor\":\"white\",\"showbackground\":true,\"ticks\":\"\",\"zerolinecolor\":\"white\",\"gridwidth\":2},\"yaxis\":{\"backgroundcolor\":\"#E5ECF6\",\"gridcolor\":\"white\",\"linecolor\":\"white\",\"showbackground\":true,\"ticks\":\"\",\"zerolinecolor\":\"white\",\"gridwidth\":2},\"zaxis\":{\"backgroundcolor\":\"#E5ECF6\",\"gridcolor\":\"white\",\"linecolor\":\"white\",\"showbackground\":true,\"ticks\":\"\",\"zerolinecolor\":\"white\",\"gridwidth\":2}},\"shapedefaults\":{\"line\":{\"color\":\"#2a3f5f\"}},\"annotationdefaults\":{\"arrowcolor\":\"#2a3f5f\",\"arrowhead\":0,\"arrowwidth\":1},\"geo\":{\"bgcolor\":\"white\",\"landcolor\":\"#E5ECF6\",\"subunitcolor\":\"white\",\"showland\":true,\"showlakes\":true,\"lakecolor\":\"white\"},\"title\":{\"x\":0.05},\"mapbox\":{\"style\":\"light\"}}},\"geo\":{\"domain\":{\"x\":[0.0,1.0],\"y\":[0.0,1.0]},\"center\":{}},\"coloraxis\":{\"colorbar\":{\"title\":{\"text\":\"Total Cup Points\"}},\"colorscale\":[[0.0,\"#0d0887\"],[0.1111111111111111,\"#46039f\"],[0.2222222222222222,\"#7201a8\"],[0.3333333333333333,\"#9c179e\"],[0.4444444444444444,\"#bd3786\"],[0.5555555555555556,\"#d8576b\"],[0.6666666666666666,\"#ed7953\"],[0.7777777777777778,\"#fb9f3a\"],[0.8888888888888888,\"#fdca26\"],[1.0,\"#f0f921\"]]},\"legend\":{\"tracegroupgap\":0},\"title\":{\"text\":\"Average Total Cup Points by Country\"}},                        {\"responsive\": true}                    ).then(function(){\n",
       "                            \n",
       "var gd = document.getElementById('08a04815-607b-4f55-9d48-463bd43f6cef');\n",
       "var x = new MutationObserver(function (mutations, observer) {{\n",
       "        var display = window.getComputedStyle(gd).display;\n",
       "        if (!display || display === 'none') {{\n",
       "            console.log([gd, 'removed!']);\n",
       "            Plotly.purge(gd);\n",
       "            observer.disconnect();\n",
       "        }}\n",
       "}});\n",
       "\n",
       "// Listen for the removal of the full notebook cells\n",
       "var notebookContainer = gd.closest('#notebook-container');\n",
       "if (notebookContainer) {{\n",
       "    x.observe(notebookContainer, {childList: true});\n",
       "}}\n",
       "\n",
       "// Listen for the clearing of the current output cell\n",
       "var outputEl = gd.closest('.output');\n",
       "if (outputEl) {{\n",
       "    x.observe(outputEl, {childList: true});\n",
       "}}\n",
       "\n",
       "                        })                };                });            </script>        </div>"
      ]
     },
     "metadata": {},
     "output_type": "display_data"
    },
    {
     "data": {
      "image/png": "[encoded data removed]",
      "text/plain": [
       "<Figure size 1000x500 with 1 Axes>"
      ]
     },
     "metadata": {},
     "output_type": "display_data"
    }
   ],
   "source": [
    "# Group the data by country and calculate the mean of Total Cup Points\n",
    "df_grouped = df.groupby('Country of Origin')['Total Cup Points'].mean().reset_index()\n",
    "\n",
    "# Create a Choropleth map\n",
    "fig = px.choropleth(df_grouped, \n",
    "                    locations='Country of Origin', \n",
    "                    locationmode='country names',\n",
    "                    color='Total Cup Points',\n",
    "                    hover_name='Country of Origin',\n",
    "                    color_continuous_scale=px.colors.sequential.Plasma,\n",
    "                    title='Average Total Cup Points by Country')\n",
    "\n",
    "fig.show()\n",
    "\n",
    "# Create a bar plot with gray color\n",
    "plt.figure(figsize=(10, 5))\n",
    "sns.barplot(x=df_grouped['Country of Origin'], y=df_grouped['Total Cup Points'], color='gray')\n",
    "plt.title('Average Total Cup Points by Country')\n",
    "plt.xlabel('Country of Origin')\n",
    "plt.ylabel('Average Total Cup Points')\n",
    "plt.xticks(rotation=90)\n",
    "plt.show()"
   ]
  },
  {
   "cell_type": "code",
   "execution_count": null,
   "id": "62b05b19",
   "metadata": {},
   "outputs": [
    {
     "data": {
      "application/vnd.plotly.v1+json": {
       "config": {
        "plotlyServerURL": "https://plot.ly"
       },
       "data": [
        {
         "coloraxis": "coloraxis",
         "geo": "geo",
         "hovertemplate": "<b>%{hovertext}</b><br><br>Country of Origin=%{location}<br>Coffee Age=%{z}<extra></extra>",
         "hovertext": [
          "Brazil",
          "Colombia",
          "Costa Rica",
          "El Salvador",
          "Ethiopia",
          "Guatemala",
          "Honduras",
          "Indonesia",
          "Kenya",
          "Laos",
          "Madagascar",
          "Mexico",
          "Myanmar",
          "Nicaragua",
          "Panama",
          "Peru",
          "Philippines",
          "Taiwan",
          "Tanzania, United Republic Of",
          "Thailand",
          "Uganda",
          "United States (Hawaii)",
          "Vietnam"
         ],
         "locationmode": "country names",
         "locations": [
          "Brazil",
          "Colombia",
          "Costa Rica",
          "El Salvador",
          "Ethiopia",
          "Guatemala",
          "Honduras",
          "Indonesia",
          "Kenya",
          "Laos",
          "Madagascar",
          "Mexico",
          "Myanmar",
          "Nicaragua",
          "Panama",
          "Peru",
          "Philippines",
          "Taiwan",
          "Tanzania, United Republic Of",
          "Thailand",
          "Uganda",
          "United States (Hawaii)",
          "Vietnam"
         ],
         "name": "",
         "type": "choropleth",
         "z": [
          847.1111111111111,
          839.8888888888889,
          990.75,
          751,
          1072.076923076923,
          885.05,
          924.6363636363636,
          582,
          807,
          940,
          710,
          917,
          683,
          880.6,
          845,
          598.3333333333334,
          843,
          1054.1052631578948,
          725.3333333333334,
          654.6,
          895.2,
          753.6,
          913
         ]
        }
       ],
       "layout": {
        "coloraxis": {
         "colorbar": {
          "title": {
           "text": "Coffee Age"
          }
         },
         "colorscale": [
          [
           0,
           "#0d0887"
          ],
          [
           0.1111111111111111,
           "#46039f"
          ],
          [
           0.2222222222222222,
           "#7201a8"
          ],
          [
           0.3333333333333333,
           "#9c179e"
          ],
          [
           0.4444444444444444,
           "#bd3786"
          ],
          [
           0.5555555555555556,
           "#d8576b"
          ],
          [
           0.6666666666666666,
           "#ed7953"
          ],
          [
           0.7777777777777778,
           "#fb9f3a"
          ],
          [
           0.8888888888888888,
           "#fdca26"
          ],
          [
           1,
           "#f0f921"
          ]
         ]
        },
        "geo": {
         "center": {},
         "domain": {
          "x": [
           0,
           1
          ],
          "y": [
           0,
           1
          ]
         }
        },
        "legend": {
         "tracegroupgap": 0
        },
        "template": {
         "data": {
          "bar": [
           {
            "error_x": {
             "color": "#2a3f5f"
            },
            "error_y": {
             "color": "#2a3f5f"
            },
            "marker": {
             "line": {
              "color": "#E5ECF6",
              "width": 0.5
             },
             "pattern": {
              "fillmode": "overlay",
              "size": 10,
              "solidity": 0.2
             }
            },
            "type": "bar"
           }
          ],
          "barpolar": [
           {
            "marker": {
             "line": {
              "color": "#E5ECF6",
              "width": 0.5
             },
             "pattern": {
              "fillmode": "overlay",
              "size": 10,
              "solidity": 0.2
             }
            },
            "type": "barpolar"
           }
          ],
          "carpet": [
           {
            "aaxis": {
             "endlinecolor": "#2a3f5f",
             "gridcolor": "white",
             "linecolor": "white",
             "minorgridcolor": "white",
             "startlinecolor": "#2a3f5f"
            },
            "baxis": {
             "endlinecolor": "#2a3f5f",
             "gridcolor": "white",
             "linecolor": "white",
             "minorgridcolor": "white",
             "startlinecolor": "#2a3f5f"
            },
            "type": "carpet"
           }
          ],
          "choropleth": [
           {
            "colorbar": {
             "outlinewidth": 0,
             "ticks": ""
            },
            "type": "choropleth"
           }
          ],
          "contour": [
           {
            "colorbar": {
             "outlinewidth": 0,
             "ticks": ""
            },
            "colorscale": [
             [
              0,
              "#0d0887"
             ],
             [
              0.1111111111111111,
              "#46039f"
             ],
             [
              0.2222222222222222,
              "#7201a8"
             ],
             [
              0.3333333333333333,
              "#9c179e"
             ],
             [
              0.4444444444444444,
              "#bd3786"
             ],
             [
              0.5555555555555556,
              "#d8576b"
             ],
             [
              0.6666666666666666,
              "#ed7953"
             ],
             [
              0.7777777777777778,
              "#fb9f3a"
             ],
             [
              0.8888888888888888,
              "#fdca26"
             ],
             [
              1,
              "#f0f921"
             ]
            ],
            "type": "contour"
           }
          ],
          "contourcarpet": [
           {
            "colorbar": {
             "outlinewidth": 0,
             "ticks": ""
            },
            "type": "contourcarpet"
           }
          ],
          "heatmap": [
           {
            "colorbar": {
             "outlinewidth": 0,
             "ticks": ""
            },
            "colorscale": [
             [
              0,
              "#0d0887"
             ],
             [
              0.1111111111111111,
              "#46039f"
             ],
             [
              0.2222222222222222,
              "#7201a8"
             ],
             [
              0.3333333333333333,
              "#9c179e"
             ],
             [
              0.4444444444444444,
              "#bd3786"
             ],
             [
              0.5555555555555556,
              "#d8576b"
             ],
             [
              0.6666666666666666,
              "#ed7953"
             ],
             [
              0.7777777777777778,
              "#fb9f3a"
             ],
             [
              0.8888888888888888,
              "#fdca26"
             ],
             [
              1,
              "#f0f921"
             ]
            ],
            "type": "heatmap"
           }
          ],
          "heatmapgl": [
           {
            "colorbar": {
             "outlinewidth": 0,
             "ticks": ""
            },
            "colorscale": [
             [
              0,
              "#0d0887"
             ],
             [
              0.1111111111111111,
              "#46039f"
             ],
             [
              0.2222222222222222,
              "#7201a8"
             ],
             [
              0.3333333333333333,
              "#9c179e"
             ],
             [
              0.4444444444444444,
              "#bd3786"
             ],
             [
              0.5555555555555556,
              "#d8576b"
             ],
             [
              0.6666666666666666,
              "#ed7953"
             ],
             [
              0.7777777777777778,
              "#fb9f3a"
             ],
             [
              0.8888888888888888,
              "#fdca26"
             ],
             [
              1,
              "#f0f921"
             ]
            ],
            "type": "heatmapgl"
           }
          ],
          "histogram": [
           {
            "marker": {
             "pattern": {
              "fillmode": "overlay",
              "size": 10,
              "solidity": 0.2
             }
            },
            "type": "histogram"
           }
          ],
          "histogram2d": [
           {
            "colorbar": {
             "outlinewidth": 0,
             "ticks": ""
            },
            "colorscale": [
             [
              0,
              "#0d0887"
             ],
             [
              0.1111111111111111,
              "#46039f"
             ],
             [
              0.2222222222222222,
              "#7201a8"
             ],
             [
              0.3333333333333333,
              "#9c179e"
             ],
             [
              0.4444444444444444,
              "#bd3786"
             ],
             [
              0.5555555555555556,
              "#d8576b"
             ],
             [
              0.6666666666666666,
              "#ed7953"
             ],
             [
              0.7777777777777778,
              "#fb9f3a"
             ],
             [
              0.8888888888888888,
              "#fdca26"
             ],
             [
              1,
              "#f0f921"
             ]
            ],
            "type": "histogram2d"
           }
          ],
          "histogram2dcontour": [
           {
            "colorbar": {
             "outlinewidth": 0,
             "ticks": ""
            },
            "colorscale": [
             [
              0,
              "#0d0887"
             ],
             [
              0.1111111111111111,
              "#46039f"
             ],
             [
              0.2222222222222222,
              "#7201a8"
             ],
             [
              0.3333333333333333,
              "#9c179e"
             ],
             [
              0.4444444444444444,
              "#bd3786"
             ],
             [
              0.5555555555555556,
              "#d8576b"
             ],
             [
              0.6666666666666666,
              "#ed7953"
             ],
             [
              0.7777777777777778,
              "#fb9f3a"
             ],
             [
              0.8888888888888888,
              "#fdca26"
             ],
             [
              1,
              "#f0f921"
             ]
            ],
            "type": "histogram2dcontour"
           }
          ],
          "mesh3d": [
           {
            "colorbar": {
             "outlinewidth": 0,
             "ticks": ""
            },
            "type": "mesh3d"
           }
          ],
          "parcoords": [
           {
            "line": {
             "colorbar": {
              "outlinewidth": 0,
              "ticks": ""
             }
            },
            "type": "parcoords"
           }
          ],
          "pie": [
           {
            "automargin": true,
            "type": "pie"
           }
          ],
          "scatter": [
           {
            "fillpattern": {
             "fillmode": "overlay",
             "size": 10,
             "solidity": 0.2
            },
            "type": "scatter"
           }
          ],
          "scatter3d": [
           {
            "line": {
             "colorbar": {
              "outlinewidth": 0,
              "ticks": ""
             }
            },
            "marker": {
             "colorbar": {
              "outlinewidth": 0,
              "ticks": ""
             }
            },
            "type": "scatter3d"
           }
          ],
          "scattercarpet": [
           {
            "marker": {
             "colorbar": {
              "outlinewidth": 0,
              "ticks": ""
             }
            },
            "type": "scattercarpet"
           }
          ],
          "scattergeo": [
           {
            "marker": {
             "colorbar": {
              "outlinewidth": 0,
              "ticks": ""
             }
            },
            "type": "scattergeo"
           }
          ],
          "scattergl": [
           {
            "marker": {
             "colorbar": {
              "outlinewidth": 0,
              "ticks": ""
             }
            },
            "type": "scattergl"
           }
          ],
          "scattermapbox": [
           {
            "marker": {
             "colorbar": {
              "outlinewidth": 0,
              "ticks": ""
             }
            },
            "type": "scattermapbox"
           }
          ],
          "scatterpolar": [
           {
            "marker": {
             "colorbar": {
              "outlinewidth": 0,
              "ticks": ""
             }
            },
            "type": "scatterpolar"
           }
          ],
          "scatterpolargl": [
           {
            "marker": {
             "colorbar": {
              "outlinewidth": 0,
              "ticks": ""
             }
            },
            "type": "scatterpolargl"
           }
          ],
          "scatterternary": [
           {
            "marker": {
             "colorbar": {
              "outlinewidth": 0,
              "ticks": ""
             }
            },
            "type": "scatterternary"
           }
          ],
          "surface": [
           {
            "colorbar": {
             "outlinewidth": 0,
             "ticks": ""
            },
            "colorscale": [
             [
              0,
              "#0d0887"
             ],
             [
              0.1111111111111111,
              "#46039f"
             ],
             [
              0.2222222222222222,
              "#7201a8"
             ],
             [
              0.3333333333333333,
              "#9c179e"
             ],
             [
              0.4444444444444444,
              "#bd3786"
             ],
             [
              0.5555555555555556,
              "#d8576b"
             ],
             [
              0.6666666666666666,
              "#ed7953"
             ],
             [
              0.7777777777777778,
              "#fb9f3a"
             ],
             [
              0.8888888888888888,
              "#fdca26"
             ],
             [
              1,
              "#f0f921"
             ]
            ],
            "type": "surface"
           }
          ],
          "table": [
           {
            "cells": {
             "fill": {
              "color": "#EBF0F8"
             },
             "line": {
              "color": "white"
             }
            },
            "header": {
             "fill": {
              "color": "#C8D4E3"
             },
             "line": {
              "color": "white"
             }
            },
            "type": "table"
           }
          ]
         },
         "layout": {
          "annotationdefaults": {
           "arrowcolor": "#2a3f5f",
           "arrowhead": 0,
           "arrowwidth": 1
          },
          "autotypenumbers": "strict",
          "coloraxis": {
           "colorbar": {
            "outlinewidth": 0,
            "ticks": ""
           }
          },
          "colorscale": {
           "diverging": [
            [
             0,
             "#8e0152"
            ],
            [
             0.1,
             "#c51b7d"
            ],
            [
             0.2,
             "#de77ae"
            ],
            [
             0.3,
             "#f1b6da"
            ],
            [
             0.4,
             "#fde0ef"
            ],
            [
             0.5,
             "#f7f7f7"
            ],
            [
             0.6,
             "#e6f5d0"
            ],
            [
             0.7,
             "#b8e186"
            ],
            [
             0.8,
             "#7fbc41"
            ],
            [
             0.9,
             "#4d9221"
            ],
            [
             1,
             "#276419"
            ]
           ],
           "sequential": [
            [
             0,
             "#0d0887"
            ],
            [
             0.1111111111111111,
             "#46039f"
            ],
            [
             0.2222222222222222,
             "#7201a8"
            ],
            [
             0.3333333333333333,
             "#9c179e"
            ],
            [
             0.4444444444444444,
             "#bd3786"
            ],
            [
             0.5555555555555556,
             "#d8576b"
            ],
            [
             0.6666666666666666,
             "#ed7953"
            ],
            [
             0.7777777777777778,
             "#fb9f3a"
            ],
            [
             0.8888888888888888,
             "#fdca26"
            ],
            [
             1,
             "#f0f921"
            ]
           ],
           "sequentialminus": [
            [
             0,
             "#0d0887"
            ],
            [
             0.1111111111111111,
             "#46039f"
            ],
            [
             0.2222222222222222,
             "#7201a8"
            ],
            [
             0.3333333333333333,
             "#9c179e"
            ],
            [
             0.4444444444444444,
             "#bd3786"
            ],
            [
             0.5555555555555556,
             "#d8576b"
            ],
            [
             0.6666666666666666,
             "#ed7953"
            ],
            [
             0.7777777777777778,
             "#fb9f3a"
            ],
            [
             0.8888888888888888,
             "#fdca26"
            ],
            [
             1,
             "#f0f921"
            ]
           ]
          },
          "colorway": [
           "#636efa",
           "#EF553B",
           "#00cc96",
           "#ab63fa",
           "#FFA15A",
           "#19d3f3",
           "#FF6692",
           "#B6E880",
           "#FF97FF",
           "#FECB52"
          ],
          "font": {
           "color": "#2a3f5f"
          },
          "geo": {
           "bgcolor": "white",
           "lakecolor": "white",
           "landcolor": "#E5ECF6",
           "showlakes": true,
           "showland": true,
           "subunitcolor": "white"
          },
          "hoverlabel": {
           "align": "left"
          },
          "hovermode": "closest",
          "mapbox": {
           "style": "light"
          },
          "paper_bgcolor": "white",
          "plot_bgcolor": "#E5ECF6",
          "polar": {
           "angularaxis": {
            "gridcolor": "white",
            "linecolor": "white",
            "ticks": ""
           },
           "bgcolor": "#E5ECF6",
           "radialaxis": {
            "gridcolor": "white",
            "linecolor": "white",
            "ticks": ""
           }
          },
          "scene": {
           "xaxis": {
            "backgroundcolor": "#E5ECF6",
            "gridcolor": "white",
            "gridwidth": 2,
            "linecolor": "white",
            "showbackground": true,
            "ticks": "",
            "zerolinecolor": "white"
           },
           "yaxis": {
            "backgroundcolor": "#E5ECF6",
            "gridcolor": "white",
            "gridwidth": 2,
            "linecolor": "white",
            "showbackground": true,
            "ticks": "",
            "zerolinecolor": "white"
           },
           "zaxis": {
            "backgroundcolor": "#E5ECF6",
            "gridcolor": "white",
            "gridwidth": 2,
            "linecolor": "white",
            "showbackground": true,
            "ticks": "",
            "zerolinecolor": "white"
           }
          },
          "shapedefaults": {
           "line": {
            "color": "#2a3f5f"
           }
          },
          "ternary": {
           "aaxis": {
            "gridcolor": "white",
            "linecolor": "white",
            "ticks": ""
           },
           "baxis": {
            "gridcolor": "white",
            "linecolor": "white",
            "ticks": ""
           },
           "bgcolor": "#E5ECF6",
           "caxis": {
            "gridcolor": "white",
            "linecolor": "white",
            "ticks": ""
           }
          },
          "title": {
           "x": 0.05
          },
          "xaxis": {
           "automargin": true,
           "gridcolor": "white",
           "linecolor": "white",
           "ticks": "",
           "title": {
            "standoff": 15
           },
           "zerolinecolor": "white",
           "zerolinewidth": 2
          },
          "yaxis": {
           "automargin": true,
           "gridcolor": "white",
           "linecolor": "white",
           "ticks": "",
           "title": {
            "standoff": 15
           },
           "zerolinecolor": "white",
           "zerolinewidth": 2
          }
         }
        },
        "title": {
         "text": "Average Coffee Shelter Life by Country (Days)"
        }
       }
      },
      "text/html": [
       "<div>                            <div id=\"4302df4d-9f8d-412e-8fee-e58afa379304\" class=\"plotly-graph-div\" style=\"height:525px; width:100%;\"></div>            <script type=\"text/javascript\">                require([\"plotly\"], function(Plotly) {                    window.PLOTLYENV=window.PLOTLYENV || {};                                    if (document.getElementById(\"4302df4d-9f8d-412e-8fee-e58afa379304\")) {                    Plotly.newPlot(                        \"4302df4d-9f8d-412e-8fee-e58afa379304\",                        [{\"coloraxis\":\"coloraxis\",\"geo\":\"geo\",\"hovertemplate\":\"<b>%{hovertext}</b><br><br>Country of Origin=%{location}<br>Coffee Age=%{z}<extra></extra>\",\"hovertext\":[\"Brazil\",\"Colombia\",\"Costa Rica\",\"El Salvador\",\"Ethiopia\",\"Guatemala\",\"Honduras\",\"Indonesia\",\"Kenya\",\"Laos\",\"Madagascar\",\"Mexico\",\"Myanmar\",\"Nicaragua\",\"Panama\",\"Peru\",\"Philippines\",\"Taiwan\",\"Tanzania, United Republic Of\",\"Thailand\",\"Uganda\",\"United States (Hawaii)\",\"Vietnam\"],\"locationmode\":\"country names\",\"locations\":[\"Brazil\",\"Colombia\",\"Costa Rica\",\"El Salvador\",\"Ethiopia\",\"Guatemala\",\"Honduras\",\"Indonesia\",\"Kenya\",\"Laos\",\"Madagascar\",\"Mexico\",\"Myanmar\",\"Nicaragua\",\"Panama\",\"Peru\",\"Philippines\",\"Taiwan\",\"Tanzania, United Republic Of\",\"Thailand\",\"Uganda\",\"United States (Hawaii)\",\"Vietnam\"],\"name\":\"\",\"z\":[847.1111111111111,839.8888888888889,990.75,751.0,1072.076923076923,885.05,924.6363636363636,582.0,807.0,940.0,710.0,917.0,683.0,880.6,845.0,598.3333333333334,843.0,1054.1052631578948,725.3333333333334,654.6,895.2,753.6,913.0],\"type\":\"choropleth\"}],                        {\"template\":{\"data\":{\"histogram2dcontour\":[{\"type\":\"histogram2dcontour\",\"colorbar\":{\"outlinewidth\":0,\"ticks\":\"\"},\"colorscale\":[[0.0,\"#0d0887\"],[0.1111111111111111,\"#46039f\"],[0.2222222222222222,\"#7201a8\"],[0.3333333333333333,\"#9c179e\"],[0.4444444444444444,\"#bd3786\"],[0.5555555555555556,\"#d8576b\"],[0.6666666666666666,\"#ed7953\"],[0.7777777777777778,\"#fb9f3a\"],[0.8888888888888888,\"#fdca26\"],[1.0,\"#f0f921\"]]}],\"choropleth\":[{\"type\":\"choropleth\",\"colorbar\":{\"outlinewidth\":0,\"ticks\":\"\"}}],\"histogram2d\":[{\"type\":\"histogram2d\",\"colorbar\":{\"outlinewidth\":0,\"ticks\":\"\"},\"colorscale\":[[0.0,\"#0d0887\"],[0.1111111111111111,\"#46039f\"],[0.2222222222222222,\"#7201a8\"],[0.3333333333333333,\"#9c179e\"],[0.4444444444444444,\"#bd3786\"],[0.5555555555555556,\"#d8576b\"],[0.6666666666666666,\"#ed7953\"],[0.7777777777777778,\"#fb9f3a\"],[0.8888888888888888,\"#fdca26\"],[1.0,\"#f0f921\"]]}],\"heatmap\":[{\"type\":\"heatmap\",\"colorbar\":{\"outlinewidth\":0,\"ticks\":\"\"},\"colorscale\":[[0.0,\"#0d0887\"],[0.1111111111111111,\"#46039f\"],[0.2222222222222222,\"#7201a8\"],[0.3333333333333333,\"#9c179e\"],[0.4444444444444444,\"#bd3786\"],[0.5555555555555556,\"#d8576b\"],[0.6666666666666666,\"#ed7953\"],[0.7777777777777778,\"#fb9f3a\"],[0.8888888888888888,\"#fdca26\"],[1.0,\"#f0f921\"]]}],\"heatmapgl\":[{\"type\":\"heatmapgl\",\"colorbar\":{\"outlinewidth\":0,\"ticks\":\"\"},\"colorscale\":[[0.0,\"#0d0887\"],[0.1111111111111111,\"#46039f\"],[0.2222222222222222,\"#7201a8\"],[0.3333333333333333,\"#9c179e\"],[0.4444444444444444,\"#bd3786\"],[0.5555555555555556,\"#d8576b\"],[0.6666666666666666,\"#ed7953\"],[0.7777777777777778,\"#fb9f3a\"],[0.8888888888888888,\"#fdca26\"],[1.0,\"#f0f921\"]]}],\"contourcarpet\":[{\"type\":\"contourcarpet\",\"colorbar\":{\"outlinewidth\":0,\"ticks\":\"\"}}],\"contour\":[{\"type\":\"contour\",\"colorbar\":{\"outlinewidth\":0,\"ticks\":\"\"},\"colorscale\":[[0.0,\"#0d0887\"],[0.1111111111111111,\"#46039f\"],[0.2222222222222222,\"#7201a8\"],[0.3333333333333333,\"#9c179e\"],[0.4444444444444444,\"#bd3786\"],[0.5555555555555556,\"#d8576b\"],[0.6666666666666666,\"#ed7953\"],[0.7777777777777778,\"#fb9f3a\"],[0.8888888888888888,\"#fdca26\"],[1.0,\"#f0f921\"]]}],\"surface\":[{\"type\":\"surface\",\"colorbar\":{\"outlinewidth\":0,\"ticks\":\"\"},\"colorscale\":[[0.0,\"#0d0887\"],[0.1111111111111111,\"#46039f\"],[0.2222222222222222,\"#7201a8\"],[0.3333333333333333,\"#9c179e\"],[0.4444444444444444,\"#bd3786\"],[0.5555555555555556,\"#d8576b\"],[0.6666666666666666,\"#ed7953\"],[0.7777777777777778,\"#fb9f3a\"],[0.8888888888888888,\"#fdca26\"],[1.0,\"#f0f921\"]]}],\"mesh3d\":[{\"type\":\"mesh3d\",\"colorbar\":{\"outlinewidth\":0,\"ticks\":\"\"}}],\"scatter\":[{\"fillpattern\":{\"fillmode\":\"overlay\",\"size\":10,\"solidity\":0.2},\"type\":\"scatter\"}],\"parcoords\":[{\"type\":\"parcoords\",\"line\":{\"colorbar\":{\"outlinewidth\":0,\"ticks\":\"\"}}}],\"scatterpolargl\":[{\"type\":\"scatterpolargl\",\"marker\":{\"colorbar\":{\"outlinewidth\":0,\"ticks\":\"\"}}}],\"bar\":[{\"error_x\":{\"color\":\"#2a3f5f\"},\"error_y\":{\"color\":\"#2a3f5f\"},\"marker\":{\"line\":{\"color\":\"#E5ECF6\",\"width\":0.5},\"pattern\":{\"fillmode\":\"overlay\",\"size\":10,\"solidity\":0.2}},\"type\":\"bar\"}],\"scattergeo\":[{\"type\":\"scattergeo\",\"marker\":{\"colorbar\":{\"outlinewidth\":0,\"ticks\":\"\"}}}],\"scatterpolar\":[{\"type\":\"scatterpolar\",\"marker\":{\"colorbar\":{\"outlinewidth\":0,\"ticks\":\"\"}}}],\"histogram\":[{\"marker\":{\"pattern\":{\"fillmode\":\"overlay\",\"size\":10,\"solidity\":0.2}},\"type\":\"histogram\"}],\"scattergl\":[{\"type\":\"scattergl\",\"marker\":{\"colorbar\":{\"outlinewidth\":0,\"ticks\":\"\"}}}],\"scatter3d\":[{\"type\":\"scatter3d\",\"line\":{\"colorbar\":{\"outlinewidth\":0,\"ticks\":\"\"}},\"marker\":{\"colorbar\":{\"outlinewidth\":0,\"ticks\":\"\"}}}],\"scattermapbox\":[{\"type\":\"scattermapbox\",\"marker\":{\"colorbar\":{\"outlinewidth\":0,\"ticks\":\"\"}}}],\"scatterternary\":[{\"type\":\"scatterternary\",\"marker\":{\"colorbar\":{\"outlinewidth\":0,\"ticks\":\"\"}}}],\"scattercarpet\":[{\"type\":\"scattercarpet\",\"marker\":{\"colorbar\":{\"outlinewidth\":0,\"ticks\":\"\"}}}],\"carpet\":[{\"aaxis\":{\"endlinecolor\":\"#2a3f5f\",\"gridcolor\":\"white\",\"linecolor\":\"white\",\"minorgridcolor\":\"white\",\"startlinecolor\":\"#2a3f5f\"},\"baxis\":{\"endlinecolor\":\"#2a3f5f\",\"gridcolor\":\"white\",\"linecolor\":\"white\",\"minorgridcolor\":\"white\",\"startlinecolor\":\"#2a3f5f\"},\"type\":\"carpet\"}],\"table\":[{\"cells\":{\"fill\":{\"color\":\"#EBF0F8\"},\"line\":{\"color\":\"white\"}},\"header\":{\"fill\":{\"color\":\"#C8D4E3\"},\"line\":{\"color\":\"white\"}},\"type\":\"table\"}],\"barpolar\":[{\"marker\":{\"line\":{\"color\":\"#E5ECF6\",\"width\":0.5},\"pattern\":{\"fillmode\":\"overlay\",\"size\":10,\"solidity\":0.2}},\"type\":\"barpolar\"}],\"pie\":[{\"automargin\":true,\"type\":\"pie\"}]},\"layout\":{\"autotypenumbers\":\"strict\",\"colorway\":[\"#636efa\",\"#EF553B\",\"#00cc96\",\"#ab63fa\",\"#FFA15A\",\"#19d3f3\",\"#FF6692\",\"#B6E880\",\"#FF97FF\",\"#FECB52\"],\"font\":{\"color\":\"#2a3f5f\"},\"hovermode\":\"closest\",\"hoverlabel\":{\"align\":\"left\"},\"paper_bgcolor\":\"white\",\"plot_bgcolor\":\"#E5ECF6\",\"polar\":{\"bgcolor\":\"#E5ECF6\",\"angularaxis\":{\"gridcolor\":\"white\",\"linecolor\":\"white\",\"ticks\":\"\"},\"radialaxis\":{\"gridcolor\":\"white\",\"linecolor\":\"white\",\"ticks\":\"\"}},\"ternary\":{\"bgcolor\":\"#E5ECF6\",\"aaxis\":{\"gridcolor\":\"white\",\"linecolor\":\"white\",\"ticks\":\"\"},\"baxis\":{\"gridcolor\":\"white\",\"linecolor\":\"white\",\"ticks\":\"\"},\"caxis\":{\"gridcolor\":\"white\",\"linecolor\":\"white\",\"ticks\":\"\"}},\"coloraxis\":{\"colorbar\":{\"outlinewidth\":0,\"ticks\":\"\"}},\"colorscale\":{\"sequential\":[[0.0,\"#0d0887\"],[0.1111111111111111,\"#46039f\"],[0.2222222222222222,\"#7201a8\"],[0.3333333333333333,\"#9c179e\"],[0.4444444444444444,\"#bd3786\"],[0.5555555555555556,\"#d8576b\"],[0.6666666666666666,\"#ed7953\"],[0.7777777777777778,\"#fb9f3a\"],[0.8888888888888888,\"#fdca26\"],[1.0,\"#f0f921\"]],\"sequentialminus\":[[0.0,\"#0d0887\"],[0.1111111111111111,\"#46039f\"],[0.2222222222222222,\"#7201a8\"],[0.3333333333333333,\"#9c179e\"],[0.4444444444444444,\"#bd3786\"],[0.5555555555555556,\"#d8576b\"],[0.6666666666666666,\"#ed7953\"],[0.7777777777777778,\"#fb9f3a\"],[0.8888888888888888,\"#fdca26\"],[1.0,\"#f0f921\"]],\"diverging\":[[0,\"#8e0152\"],[0.1,\"#c51b7d\"],[0.2,\"#de77ae\"],[0.3,\"#f1b6da\"],[0.4,\"#fde0ef\"],[0.5,\"#f7f7f7\"],[0.6,\"#e6f5d0\"],[0.7,\"#b8e186\"],[0.8,\"#7fbc41\"],[0.9,\"#4d9221\"],[1,\"#276419\"]]},\"xaxis\":{\"gridcolor\":\"white\",\"linecolor\":\"white\",\"ticks\":\"\",\"title\":{\"standoff\":15},\"zerolinecolor\":\"white\",\"automargin\":true,\"zerolinewidth\":2},\"yaxis\":{\"gridcolor\":\"white\",\"linecolor\":\"white\",\"ticks\":\"\",\"title\":{\"standoff\":15},\"zerolinecolor\":\"white\",\"automargin\":true,\"zerolinewidth\":2},\"scene\":{\"xaxis\":{\"backgroundcolor\":\"#E5ECF6\",\"gridcolor\":\"white\",\"linecolor\":\"white\",\"showbackground\":true,\"ticks\":\"\",\"zerolinecolor\":\"white\",\"gridwidth\":2},\"yaxis\":{\"backgroundcolor\":\"#E5ECF6\",\"gridcolor\":\"white\",\"linecolor\":\"white\",\"showbackground\":true,\"ticks\":\"\",\"zerolinecolor\":\"white\",\"gridwidth\":2},\"zaxis\":{\"backgroundcolor\":\"#E5ECF6\",\"gridcolor\":\"white\",\"linecolor\":\"white\",\"showbackground\":true,\"ticks\":\"\",\"zerolinecolor\":\"white\",\"gridwidth\":2}},\"shapedefaults\":{\"line\":{\"color\":\"#2a3f5f\"}},\"annotationdefaults\":{\"arrowcolor\":\"#2a3f5f\",\"arrowhead\":0,\"arrowwidth\":1},\"geo\":{\"bgcolor\":\"white\",\"landcolor\":\"#E5ECF6\",\"subunitcolor\":\"white\",\"showland\":true,\"showlakes\":true,\"lakecolor\":\"white\"},\"title\":{\"x\":0.05},\"mapbox\":{\"style\":\"light\"}}},\"geo\":{\"domain\":{\"x\":[0.0,1.0],\"y\":[0.0,1.0]},\"center\":{}},\"coloraxis\":{\"colorbar\":{\"title\":{\"text\":\"Coffee Age\"}},\"colorscale\":[[0.0,\"#0d0887\"],[0.1111111111111111,\"#46039f\"],[0.2222222222222222,\"#7201a8\"],[0.3333333333333333,\"#9c179e\"],[0.4444444444444444,\"#bd3786\"],[0.5555555555555556,\"#d8576b\"],[0.6666666666666666,\"#ed7953\"],[0.7777777777777778,\"#fb9f3a\"],[0.8888888888888888,\"#fdca26\"],[1.0,\"#f0f921\"]]},\"legend\":{\"tracegroupgap\":0},\"title\":{\"text\":\"Average Coffee Shelter Life by Country (Days)\"}},                        {\"responsive\": true}                    ).then(function(){\n",
       "                            \n",
       "var gd = document.getElementById('4302df4d-9f8d-412e-8fee-e58afa379304');\n",
       "var x = new MutationObserver(function (mutations, observer) {{\n",
       "        var display = window.getComputedStyle(gd).display;\n",
       "        if (!display || display === 'none') {{\n",
       "            console.log([gd, 'removed!']);\n",
       "            Plotly.purge(gd);\n",
       "            observer.disconnect();\n",
       "        }}\n",
       "}});\n",
       "\n",
       "// Listen for the removal of the full notebook cells\n",
       "var notebookContainer = gd.closest('#notebook-container');\n",
       "if (notebookContainer) {{\n",
       "    x.observe(notebookContainer, {childList: true});\n",
       "}}\n",
       "\n",
       "// Listen for the clearing of the current output cell\n",
       "var outputEl = gd.closest('.output');\n",
       "if (outputEl) {{\n",
       "    x.observe(outputEl, {childList: true});\n",
       "}}\n",
       "\n",
       "                        })                };                });            </script>        </div>"
      ]
     },
     "metadata": {},
     "output_type": "display_data"
    },
    {
     "data": {
      "image/png": "[encoded data removed]",
      "text/plain": [
       "<Figure size 1000x500 with 1 Axes>"
      ]
     },
     "metadata": {},
     "output_type": "display_data"
    }
   ],
   "source": [
    "# Group the data by country and calculate the mean of Total Cup Points\n",
    "df_grouped = df.groupby('Country of Origin')['Coffee Age'].mean().reset_index()\n",
    "\n",
    "# Create a Choropleth map\n",
    "fig = px.choropleth(df_grouped, \n",
    "                    locations='Country of Origin', \n",
    "                    locationmode='country names',\n",
    "                    color='Coffee Age',\n",
    "                    hover_name='Country of Origin',\n",
    "                    color_continuous_scale=px.colors.sequential.Plasma,\n",
    "                    title='Average Coffee Shelter Life by Country (Days)')\n",
    "\n",
    "fig.show()\n",
    "\n",
    "# Create a bar plot with gray color\n",
    "plt.figure(figsize=(10, 5))\n",
    "sns.barplot(x=df_grouped['Country of Origin'], y=df_grouped['Coffee Age'], color='gray')\n",
    "plt.title('Average Coffee Shelter Life by Country (Days)')\n",
    "plt.xlabel('Country of Origin')\n",
    "plt.ylabel('Average Coffee Shelter Life')\n",
    "plt.xticks(rotation=90)\n",
    "plt.show()"
   ]
  },
  {
   "cell_type": "code",
   "execution_count": null,
   "id": "b5a2df69",
   "metadata": {},
   "outputs": [
    {
     "data": {
      "application/vnd.plotly.v1+json": {
       "config": {
        "plotlyServerURL": "https://plot.ly"
       },
       "data": [
        {
         "coloraxis": "coloraxis",
         "geo": "geo",
         "hovertemplate": "<b>%{hovertext}</b><br><br>Country of Origin=%{location}<br>Altitude=%{z}<extra></extra>",
         "hovertext": [
          "Brazil",
          "Colombia",
          "Costa Rica",
          "El Salvador",
          "Ethiopia",
          "Guatemala",
          "Honduras",
          "Indonesia",
          "Kenya",
          "Laos",
          "Madagascar",
          "Mexico",
          "Myanmar",
          "Nicaragua",
          "Panama",
          "Peru",
          "Philippines",
          "Taiwan",
          "Tanzania, United Republic Of",
          "Thailand",
          "Uganda",
          "United States (Hawaii)",
          "Vietnam"
         ],
         "locationmode": "country names",
         "locations": [
          "Brazil",
          "Colombia",
          "Costa Rica",
          "El Salvador",
          "Ethiopia",
          "Guatemala",
          "Honduras",
          "Indonesia",
          "Kenya",
          "Laos",
          "Madagascar",
          "Mexico",
          "Myanmar",
          "Nicaragua",
          "Panama",
          "Peru",
          "Philippines",
          "Taiwan",
          "Tanzania, United Republic Of",
          "Thailand",
          "Uganda",
          "United States (Hawaii)",
          "Vietnam"
         ],
         "name": "",
         "type": "choropleth",
         "z": [
          1075,
          1595.2777777777778,
          1687.5,
          1320,
          1941.3076923076924,
          2264.175,
          1448.7272727272727,
          1390,
          1737.5,
          1283.3333333333333,
          1500,
          1277.142857142857,
          1400,
          1155,
          1200,
          1650,
          1444,
          750.9473684210526,
          1594,
          1303,
          1783.2,
          1108,
          2140
         ]
        }
       ],
       "layout": {
        "coloraxis": {
         "colorbar": {
          "title": {
           "text": "Altitude"
          }
         },
         "colorscale": [
          [
           0,
           "#0d0887"
          ],
          [
           0.1111111111111111,
           "#46039f"
          ],
          [
           0.2222222222222222,
           "#7201a8"
          ],
          [
           0.3333333333333333,
           "#9c179e"
          ],
          [
           0.4444444444444444,
           "#bd3786"
          ],
          [
           0.5555555555555556,
           "#d8576b"
          ],
          [
           0.6666666666666666,
           "#ed7953"
          ],
          [
           0.7777777777777778,
           "#fb9f3a"
          ],
          [
           0.8888888888888888,
           "#fdca26"
          ],
          [
           1,
           "#f0f921"
          ]
         ]
        },
        "geo": {
         "center": {},
         "domain": {
          "x": [
           0,
           1
          ],
          "y": [
           0,
           1
          ]
         }
        },
        "legend": {
         "tracegroupgap": 0
        },
        "template": {
         "data": {
          "bar": [
           {
            "error_x": {
             "color": "#2a3f5f"
            },
            "error_y": {
             "color": "#2a3f5f"
            },
            "marker": {
             "line": {
              "color": "#E5ECF6",
              "width": 0.5
             },
             "pattern": {
              "fillmode": "overlay",
              "size": 10,
              "solidity": 0.2
             }
            },
            "type": "bar"
           }
          ],
          "barpolar": [
           {
            "marker": {
             "line": {
              "color": "#E5ECF6",
              "width": 0.5
             },
             "pattern": {
              "fillmode": "overlay",
              "size": 10,
              "solidity": 0.2
             }
            },
            "type": "barpolar"
           }
          ],
          "carpet": [
           {
            "aaxis": {
             "endlinecolor": "#2a3f5f",
             "gridcolor": "white",
             "linecolor": "white",
             "minorgridcolor": "white",
             "startlinecolor": "#2a3f5f"
            },
            "baxis": {
             "endlinecolor": "#2a3f5f",
             "gridcolor": "white",
             "linecolor": "white",
             "minorgridcolor": "white",
             "startlinecolor": "#2a3f5f"
            },
            "type": "carpet"
           }
          ],
          "choropleth": [
           {
            "colorbar": {
             "outlinewidth": 0,
             "ticks": ""
            },
            "type": "choropleth"
           }
          ],
          "contour": [
           {
            "colorbar": {
             "outlinewidth": 0,
             "ticks": ""
            },
            "colorscale": [
             [
              0,
              "#0d0887"
             ],
             [
              0.1111111111111111,
              "#46039f"
             ],
             [
              0.2222222222222222,
              "#7201a8"
             ],
             [
              0.3333333333333333,
              "#9c179e"
             ],
             [
              0.4444444444444444,
              "#bd3786"
             ],
             [
              0.5555555555555556,
              "#d8576b"
             ],
             [
              0.6666666666666666,
              "#ed7953"
             ],
             [
              0.7777777777777778,
              "#fb9f3a"
             ],
             [
              0.8888888888888888,
              "#fdca26"
             ],
             [
              1,
              "#f0f921"
             ]
            ],
            "type": "contour"
           }
          ],
          "contourcarpet": [
           {
            "colorbar": {
             "outlinewidth": 0,
             "ticks": ""
            },
            "type": "contourcarpet"
           }
          ],
          "heatmap": [
           {
            "colorbar": {
             "outlinewidth": 0,
             "ticks": ""
            },
            "colorscale": [
             [
              0,
              "#0d0887"
             ],
             [
              0.1111111111111111,
              "#46039f"
             ],
             [
              0.2222222222222222,
              "#7201a8"
             ],
             [
              0.3333333333333333,
              "#9c179e"
             ],
             [
              0.4444444444444444,
              "#bd3786"
             ],
             [
              0.5555555555555556,
              "#d8576b"
             ],
             [
              0.6666666666666666,
              "#ed7953"
             ],
             [
              0.7777777777777778,
              "#fb9f3a"
             ],
             [
              0.8888888888888888,
              "#fdca26"
             ],
             [
              1,
              "#f0f921"
             ]
            ],
            "type": "heatmap"
           }
          ],
          "heatmapgl": [
           {
            "colorbar": {
             "outlinewidth": 0,
             "ticks": ""
            },
            "colorscale": [
             [
              0,
              "#0d0887"
             ],
             [
              0.1111111111111111,
              "#46039f"
             ],
             [
              0.2222222222222222,
              "#7201a8"
             ],
             [
              0.3333333333333333,
              "#9c179e"
             ],
             [
              0.4444444444444444,
              "#bd3786"
             ],
             [
              0.5555555555555556,
              "#d8576b"
             ],
             [
              0.6666666666666666,
              "#ed7953"
             ],
             [
              0.7777777777777778,
              "#fb9f3a"
             ],
             [
              0.8888888888888888,
              "#fdca26"
             ],
             [
              1,
              "#f0f921"
             ]
            ],
            "type": "heatmapgl"
           }
          ],
          "histogram": [
           {
            "marker": {
             "pattern": {
              "fillmode": "overlay",
              "size": 10,
              "solidity": 0.2
             }
            },
            "type": "histogram"
           }
          ],
          "histogram2d": [
           {
            "colorbar": {
             "outlinewidth": 0,
             "ticks": ""
            },
            "colorscale": [
             [
              0,
              "#0d0887"
             ],
             [
              0.1111111111111111,
              "#46039f"
             ],
             [
              0.2222222222222222,
              "#7201a8"
             ],
             [
              0.3333333333333333,
              "#9c179e"
             ],
             [
              0.4444444444444444,
              "#bd3786"
             ],
             [
              0.5555555555555556,
              "#d8576b"
             ],
             [
              0.6666666666666666,
              "#ed7953"
             ],
             [
              0.7777777777777778,
              "#fb9f3a"
             ],
             [
              0.8888888888888888,
              "#fdca26"
             ],
             [
              1,
              "#f0f921"
             ]
            ],
            "type": "histogram2d"
           }
          ],
          "histogram2dcontour": [
           {
            "colorbar": {
             "outlinewidth": 0,
             "ticks": ""
            },
            "colorscale": [
             [
              0,
              "#0d0887"
             ],
             [
              0.1111111111111111,
              "#46039f"
             ],
             [
              0.2222222222222222,
              "#7201a8"
             ],
             [
              0.3333333333333333,
              "#9c179e"
             ],
             [
              0.4444444444444444,
              "#bd3786"
             ],
             [
              0.5555555555555556,
              "#d8576b"
             ],
             [
              0.6666666666666666,
              "#ed7953"
             ],
             [
              0.7777777777777778,
              "#fb9f3a"
             ],
             [
              0.8888888888888888,
              "#fdca26"
             ],
             [
              1,
              "#f0f921"
             ]
            ],
            "type": "histogram2dcontour"
           }
          ],
          "mesh3d": [
           {
            "colorbar": {
             "outlinewidth": 0,
             "ticks": ""
            },
            "type": "mesh3d"
           }
          ],
          "parcoords": [
           {
            "line": {
             "colorbar": {
              "outlinewidth": 0,
              "ticks": ""
             }
            },
            "type": "parcoords"
           }
          ],
          "pie": [
           {
            "automargin": true,
            "type": "pie"
           }
          ],
          "scatter": [
           {
            "fillpattern": {
             "fillmode": "overlay",
             "size": 10,
             "solidity": 0.2
            },
            "type": "scatter"
           }
          ],
          "scatter3d": [
           {
            "line": {
             "colorbar": {
              "outlinewidth": 0,
              "ticks": ""
             }
            },
            "marker": {
             "colorbar": {
              "outlinewidth": 0,
              "ticks": ""
             }
            },
            "type": "scatter3d"
           }
          ],
          "scattercarpet": [
           {
            "marker": {
             "colorbar": {
              "outlinewidth": 0,
              "ticks": ""
             }
            },
            "type": "scattercarpet"
           }
          ],
          "scattergeo": [
           {
            "marker": {
             "colorbar": {
              "outlinewidth": 0,
              "ticks": ""
             }
            },
            "type": "scattergeo"
           }
          ],
          "scattergl": [
           {
            "marker": {
             "colorbar": {
              "outlinewidth": 0,
              "ticks": ""
             }
            },
            "type": "scattergl"
           }
          ],
          "scattermapbox": [
           {
            "marker": {
             "colorbar": {
              "outlinewidth": 0,
              "ticks": ""
             }
            },
            "type": "scattermapbox"
           }
          ],
          "scatterpolar": [
           {
            "marker": {
             "colorbar": {
              "outlinewidth": 0,
              "ticks": ""
             }
            },
            "type": "scatterpolar"
           }
          ],
          "scatterpolargl": [
           {
            "marker": {
             "colorbar": {
              "outlinewidth": 0,
              "ticks": ""
             }
            },
            "type": "scatterpolargl"
           }
          ],
          "scatterternary": [
           {
            "marker": {
             "colorbar": {
              "outlinewidth": 0,
              "ticks": ""
             }
            },
            "type": "scatterternary"
           }
          ],
          "surface": [
           {
            "colorbar": {
             "outlinewidth": 0,
             "ticks": ""
            },
            "colorscale": [
             [
              0,
              "#0d0887"
             ],
             [
              0.1111111111111111,
              "#46039f"
             ],
             [
              0.2222222222222222,
              "#7201a8"
             ],
             [
              0.3333333333333333,
              "#9c179e"
             ],
             [
              0.4444444444444444,
              "#bd3786"
             ],
             [
              0.5555555555555556,
              "#d8576b"
             ],
             [
              0.6666666666666666,
              "#ed7953"
             ],
             [
              0.7777777777777778,
              "#fb9f3a"
             ],
             [
              0.8888888888888888,
              "#fdca26"
             ],
             [
              1,
              "#f0f921"
             ]
            ],
            "type": "surface"
           }
          ],
          "table": [
           {
            "cells": {
             "fill": {
              "color": "#EBF0F8"
             },
             "line": {
              "color": "white"
             }
            },
            "header": {
             "fill": {
              "color": "#C8D4E3"
             },
             "line": {
              "color": "white"
             }
            },
            "type": "table"
           }
          ]
         },
         "layout": {
          "annotationdefaults": {
           "arrowcolor": "#2a3f5f",
           "arrowhead": 0,
           "arrowwidth": 1
          },
          "autotypenumbers": "strict",
          "coloraxis": {
           "colorbar": {
            "outlinewidth": 0,
            "ticks": ""
           }
          },
          "colorscale": {
           "diverging": [
            [
             0,
             "#8e0152"
            ],
            [
             0.1,
             "#c51b7d"
            ],
            [
             0.2,
             "#de77ae"
            ],
            [
             0.3,
             "#f1b6da"
            ],
            [
             0.4,
             "#fde0ef"
            ],
            [
             0.5,
             "#f7f7f7"
            ],
            [
             0.6,
             "#e6f5d0"
            ],
            [
             0.7,
             "#b8e186"
            ],
            [
             0.8,
             "#7fbc41"
            ],
            [
             0.9,
             "#4d9221"
            ],
            [
             1,
             "#276419"
            ]
           ],
           "sequential": [
            [
             0,
             "#0d0887"
            ],
            [
             0.1111111111111111,
             "#46039f"
            ],
            [
             0.2222222222222222,
             "#7201a8"
            ],
            [
             0.3333333333333333,
             "#9c179e"
            ],
            [
             0.4444444444444444,
             "#bd3786"
            ],
            [
             0.5555555555555556,
             "#d8576b"
            ],
            [
             0.6666666666666666,
             "#ed7953"
            ],
            [
             0.7777777777777778,
             "#fb9f3a"
            ],
            [
             0.8888888888888888,
             "#fdca26"
            ],
            [
             1,
             "#f0f921"
            ]
           ],
           "sequentialminus": [
            [
             0,
             "#0d0887"
            ],
            [
             0.1111111111111111,
             "#46039f"
            ],
            [
             0.2222222222222222,
             "#7201a8"
            ],
            [
             0.3333333333333333,
             "#9c179e"
            ],
            [
             0.4444444444444444,
             "#bd3786"
            ],
            [
             0.5555555555555556,
             "#d8576b"
            ],
            [
             0.6666666666666666,
             "#ed7953"
            ],
            [
             0.7777777777777778,
             "#fb9f3a"
            ],
            [
             0.8888888888888888,
             "#fdca26"
            ],
            [
             1,
             "#f0f921"
            ]
           ]
          },
          "colorway": [
           "#636efa",
           "#EF553B",
           "#00cc96",
           "#ab63fa",
           "#FFA15A",
           "#19d3f3",
           "#FF6692",
           "#B6E880",
           "#FF97FF",
           "#FECB52"
          ],
          "font": {
           "color": "#2a3f5f"
          },
          "geo": {
           "bgcolor": "white",
           "lakecolor": "white",
           "landcolor": "#E5ECF6",
           "showlakes": true,
           "showland": true,
           "subunitcolor": "white"
          },
          "hoverlabel": {
           "align": "left"
          },
          "hovermode": "closest",
          "mapbox": {
           "style": "light"
          },
          "paper_bgcolor": "white",
          "plot_bgcolor": "#E5ECF6",
          "polar": {
           "angularaxis": {
            "gridcolor": "white",
            "linecolor": "white",
            "ticks": ""
           },
           "bgcolor": "#E5ECF6",
           "radialaxis": {
            "gridcolor": "white",
            "linecolor": "white",
            "ticks": ""
           }
          },
          "scene": {
           "xaxis": {
            "backgroundcolor": "#E5ECF6",
            "gridcolor": "white",
            "gridwidth": 2,
            "linecolor": "white",
            "showbackground": true,
            "ticks": "",
            "zerolinecolor": "white"
           },
           "yaxis": {
            "backgroundcolor": "#E5ECF6",
            "gridcolor": "white",
            "gridwidth": 2,
            "linecolor": "white",
            "showbackground": true,
            "ticks": "",
            "zerolinecolor": "white"
           },
           "zaxis": {
            "backgroundcolor": "#E5ECF6",
            "gridcolor": "white",
            "gridwidth": 2,
            "linecolor": "white",
            "showbackground": true,
            "ticks": "",
            "zerolinecolor": "white"
           }
          },
          "shapedefaults": {
           "line": {
            "color": "#2a3f5f"
           }
          },
          "ternary": {
           "aaxis": {
            "gridcolor": "white",
            "linecolor": "white",
            "ticks": ""
           },
           "baxis": {
            "gridcolor": "white",
            "linecolor": "white",
            "ticks": ""
           },
           "bgcolor": "#E5ECF6",
           "caxis": {
            "gridcolor": "white",
            "linecolor": "white",
            "ticks": ""
           }
          },
          "title": {
           "x": 0.05
          },
          "xaxis": {
           "automargin": true,
           "gridcolor": "white",
           "linecolor": "white",
           "ticks": "",
           "title": {
            "standoff": 15
           },
           "zerolinecolor": "white",
           "zerolinewidth": 2
          },
          "yaxis": {
           "automargin": true,
           "gridcolor": "white",
           "linecolor": "white",
           "ticks": "",
           "title": {
            "standoff": 15
           },
           "zerolinecolor": "white",
           "zerolinewidth": 2
          }
         }
        },
        "title": {
         "text": "Average Altitude by Country"
        }
       }
      },
      "text/html": [
       "<div>                            <div id=\"88814d3e-f2db-4fae-8dad-2cfe20d24437\" class=\"plotly-graph-div\" style=\"height:525px; width:100%;\"></div>            <script type=\"text/javascript\">                require([\"plotly\"], function(Plotly) {                    window.PLOTLYENV=window.PLOTLYENV || {};                                    if (document.getElementById(\"88814d3e-f2db-4fae-8dad-2cfe20d24437\")) {                    Plotly.newPlot(                        \"88814d3e-f2db-4fae-8dad-2cfe20d24437\",                        [{\"coloraxis\":\"coloraxis\",\"geo\":\"geo\",\"hovertemplate\":\"<b>%{hovertext}</b><br><br>Country of Origin=%{location}<br>Altitude=%{z}<extra></extra>\",\"hovertext\":[\"Brazil\",\"Colombia\",\"Costa Rica\",\"El Salvador\",\"Ethiopia\",\"Guatemala\",\"Honduras\",\"Indonesia\",\"Kenya\",\"Laos\",\"Madagascar\",\"Mexico\",\"Myanmar\",\"Nicaragua\",\"Panama\",\"Peru\",\"Philippines\",\"Taiwan\",\"Tanzania, United Republic Of\",\"Thailand\",\"Uganda\",\"United States (Hawaii)\",\"Vietnam\"],\"locationmode\":\"country names\",\"locations\":[\"Brazil\",\"Colombia\",\"Costa Rica\",\"El Salvador\",\"Ethiopia\",\"Guatemala\",\"Honduras\",\"Indonesia\",\"Kenya\",\"Laos\",\"Madagascar\",\"Mexico\",\"Myanmar\",\"Nicaragua\",\"Panama\",\"Peru\",\"Philippines\",\"Taiwan\",\"Tanzania, United Republic Of\",\"Thailand\",\"Uganda\",\"United States (Hawaii)\",\"Vietnam\"],\"name\":\"\",\"z\":[1075.0,1595.2777777777778,1687.5,1320.0,1941.3076923076924,2264.175,1448.7272727272727,1390.0,1737.5,1283.3333333333333,1500.0,1277.142857142857,1400.0,1155.0,1200.0,1650.0,1444.0,750.9473684210526,1594.0,1303.0,1783.2,1108.0,2140.0],\"type\":\"choropleth\"}],                        {\"template\":{\"data\":{\"histogram2dcontour\":[{\"type\":\"histogram2dcontour\",\"colorbar\":{\"outlinewidth\":0,\"ticks\":\"\"},\"colorscale\":[[0.0,\"#0d0887\"],[0.1111111111111111,\"#46039f\"],[0.2222222222222222,\"#7201a8\"],[0.3333333333333333,\"#9c179e\"],[0.4444444444444444,\"#bd3786\"],[0.5555555555555556,\"#d8576b\"],[0.6666666666666666,\"#ed7953\"],[0.7777777777777778,\"#fb9f3a\"],[0.8888888888888888,\"#fdca26\"],[1.0,\"#f0f921\"]]}],\"choropleth\":[{\"type\":\"choropleth\",\"colorbar\":{\"outlinewidth\":0,\"ticks\":\"\"}}],\"histogram2d\":[{\"type\":\"histogram2d\",\"colorbar\":{\"outlinewidth\":0,\"ticks\":\"\"},\"colorscale\":[[0.0,\"#0d0887\"],[0.1111111111111111,\"#46039f\"],[0.2222222222222222,\"#7201a8\"],[0.3333333333333333,\"#9c179e\"],[0.4444444444444444,\"#bd3786\"],[0.5555555555555556,\"#d8576b\"],[0.6666666666666666,\"#ed7953\"],[0.7777777777777778,\"#fb9f3a\"],[0.8888888888888888,\"#fdca26\"],[1.0,\"#f0f921\"]]}],\"heatmap\":[{\"type\":\"heatmap\",\"colorbar\":{\"outlinewidth\":0,\"ticks\":\"\"},\"colorscale\":[[0.0,\"#0d0887\"],[0.1111111111111111,\"#46039f\"],[0.2222222222222222,\"#7201a8\"],[0.3333333333333333,\"#9c179e\"],[0.4444444444444444,\"#bd3786\"],[0.5555555555555556,\"#d8576b\"],[0.6666666666666666,\"#ed7953\"],[0.7777777777777778,\"#fb9f3a\"],[0.8888888888888888,\"#fdca26\"],[1.0,\"#f0f921\"]]}],\"heatmapgl\":[{\"type\":\"heatmapgl\",\"colorbar\":{\"outlinewidth\":0,\"ticks\":\"\"},\"colorscale\":[[0.0,\"#0d0887\"],[0.1111111111111111,\"#46039f\"],[0.2222222222222222,\"#7201a8\"],[0.3333333333333333,\"#9c179e\"],[0.4444444444444444,\"#bd3786\"],[0.5555555555555556,\"#d8576b\"],[0.6666666666666666,\"#ed7953\"],[0.7777777777777778,\"#fb9f3a\"],[0.8888888888888888,\"#fdca26\"],[1.0,\"#f0f921\"]]}],\"contourcarpet\":[{\"type\":\"contourcarpet\",\"colorbar\":{\"outlinewidth\":0,\"ticks\":\"\"}}],\"contour\":[{\"type\":\"contour\",\"colorbar\":{\"outlinewidth\":0,\"ticks\":\"\"},\"colorscale\":[[0.0,\"#0d0887\"],[0.1111111111111111,\"#46039f\"],[0.2222222222222222,\"#7201a8\"],[0.3333333333333333,\"#9c179e\"],[0.4444444444444444,\"#bd3786\"],[0.5555555555555556,\"#d8576b\"],[0.6666666666666666,\"#ed7953\"],[0.7777777777777778,\"#fb9f3a\"],[0.8888888888888888,\"#fdca26\"],[1.0,\"#f0f921\"]]}],\"surface\":[{\"type\":\"surface\",\"colorbar\":{\"outlinewidth\":0,\"ticks\":\"\"},\"colorscale\":[[0.0,\"#0d0887\"],[0.1111111111111111,\"#46039f\"],[0.2222222222222222,\"#7201a8\"],[0.3333333333333333,\"#9c179e\"],[0.4444444444444444,\"#bd3786\"],[0.5555555555555556,\"#d8576b\"],[0.6666666666666666,\"#ed7953\"],[0.7777777777777778,\"#fb9f3a\"],[0.8888888888888888,\"#fdca26\"],[1.0,\"#f0f921\"]]}],\"mesh3d\":[{\"type\":\"mesh3d\",\"colorbar\":{\"outlinewidth\":0,\"ticks\":\"\"}}],\"scatter\":[{\"fillpattern\":{\"fillmode\":\"overlay\",\"size\":10,\"solidity\":0.2},\"type\":\"scatter\"}],\"parcoords\":[{\"type\":\"parcoords\",\"line\":{\"colorbar\":{\"outlinewidth\":0,\"ticks\":\"\"}}}],\"scatterpolargl\":[{\"type\":\"scatterpolargl\",\"marker\":{\"colorbar\":{\"outlinewidth\":0,\"ticks\":\"\"}}}],\"bar\":[{\"error_x\":{\"color\":\"#2a3f5f\"},\"error_y\":{\"color\":\"#2a3f5f\"},\"marker\":{\"line\":{\"color\":\"#E5ECF6\",\"width\":0.5},\"pattern\":{\"fillmode\":\"overlay\",\"size\":10,\"solidity\":0.2}},\"type\":\"bar\"}],\"scattergeo\":[{\"type\":\"scattergeo\",\"marker\":{\"colorbar\":{\"outlinewidth\":0,\"ticks\":\"\"}}}],\"scatterpolar\":[{\"type\":\"scatterpolar\",\"marker\":{\"colorbar\":{\"outlinewidth\":0,\"ticks\":\"\"}}}],\"histogram\":[{\"marker\":{\"pattern\":{\"fillmode\":\"overlay\",\"size\":10,\"solidity\":0.2}},\"type\":\"histogram\"}],\"scattergl\":[{\"type\":\"scattergl\",\"marker\":{\"colorbar\":{\"outlinewidth\":0,\"ticks\":\"\"}}}],\"scatter3d\":[{\"type\":\"scatter3d\",\"line\":{\"colorbar\":{\"outlinewidth\":0,\"ticks\":\"\"}},\"marker\":{\"colorbar\":{\"outlinewidth\":0,\"ticks\":\"\"}}}],\"scattermapbox\":[{\"type\":\"scattermapbox\",\"marker\":{\"colorbar\":{\"outlinewidth\":0,\"ticks\":\"\"}}}],\"scatterternary\":[{\"type\":\"scatterternary\",\"marker\":{\"colorbar\":{\"outlinewidth\":0,\"ticks\":\"\"}}}],\"scattercarpet\":[{\"type\":\"scattercarpet\",\"marker\":{\"colorbar\":{\"outlinewidth\":0,\"ticks\":\"\"}}}],\"carpet\":[{\"aaxis\":{\"endlinecolor\":\"#2a3f5f\",\"gridcolor\":\"white\",\"linecolor\":\"white\",\"minorgridcolor\":\"white\",\"startlinecolor\":\"#2a3f5f\"},\"baxis\":{\"endlinecolor\":\"#2a3f5f\",\"gridcolor\":\"white\",\"linecolor\":\"white\",\"minorgridcolor\":\"white\",\"startlinecolor\":\"#2a3f5f\"},\"type\":\"carpet\"}],\"table\":[{\"cells\":{\"fill\":{\"color\":\"#EBF0F8\"},\"line\":{\"color\":\"white\"}},\"header\":{\"fill\":{\"color\":\"#C8D4E3\"},\"line\":{\"color\":\"white\"}},\"type\":\"table\"}],\"barpolar\":[{\"marker\":{\"line\":{\"color\":\"#E5ECF6\",\"width\":0.5},\"pattern\":{\"fillmode\":\"overlay\",\"size\":10,\"solidity\":0.2}},\"type\":\"barpolar\"}],\"pie\":[{\"automargin\":true,\"type\":\"pie\"}]},\"layout\":{\"autotypenumbers\":\"strict\",\"colorway\":[\"#636efa\",\"#EF553B\",\"#00cc96\",\"#ab63fa\",\"#FFA15A\",\"#19d3f3\",\"#FF6692\",\"#B6E880\",\"#FF97FF\",\"#FECB52\"],\"font\":{\"color\":\"#2a3f5f\"},\"hovermode\":\"closest\",\"hoverlabel\":{\"align\":\"left\"},\"paper_bgcolor\":\"white\",\"plot_bgcolor\":\"#E5ECF6\",\"polar\":{\"bgcolor\":\"#E5ECF6\",\"angularaxis\":{\"gridcolor\":\"white\",\"linecolor\":\"white\",\"ticks\":\"\"},\"radialaxis\":{\"gridcolor\":\"white\",\"linecolor\":\"white\",\"ticks\":\"\"}},\"ternary\":{\"bgcolor\":\"#E5ECF6\",\"aaxis\":{\"gridcolor\":\"white\",\"linecolor\":\"white\",\"ticks\":\"\"},\"baxis\":{\"gridcolor\":\"white\",\"linecolor\":\"white\",\"ticks\":\"\"},\"caxis\":{\"gridcolor\":\"white\",\"linecolor\":\"white\",\"ticks\":\"\"}},\"coloraxis\":{\"colorbar\":{\"outlinewidth\":0,\"ticks\":\"\"}},\"colorscale\":{\"sequential\":[[0.0,\"#0d0887\"],[0.1111111111111111,\"#46039f\"],[0.2222222222222222,\"#7201a8\"],[0.3333333333333333,\"#9c179e\"],[0.4444444444444444,\"#bd3786\"],[0.5555555555555556,\"#d8576b\"],[0.6666666666666666,\"#ed7953\"],[0.7777777777777778,\"#fb9f3a\"],[0.8888888888888888,\"#fdca26\"],[1.0,\"#f0f921\"]],\"sequentialminus\":[[0.0,\"#0d0887\"],[0.1111111111111111,\"#46039f\"],[0.2222222222222222,\"#7201a8\"],[0.3333333333333333,\"#9c179e\"],[0.4444444444444444,\"#bd3786\"],[0.5555555555555556,\"#d8576b\"],[0.6666666666666666,\"#ed7953\"],[0.7777777777777778,\"#fb9f3a\"],[0.8888888888888888,\"#fdca26\"],[1.0,\"#f0f921\"]],\"diverging\":[[0,\"#8e0152\"],[0.1,\"#c51b7d\"],[0.2,\"#de77ae\"],[0.3,\"#f1b6da\"],[0.4,\"#fde0ef\"],[0.5,\"#f7f7f7\"],[0.6,\"#e6f5d0\"],[0.7,\"#b8e186\"],[0.8,\"#7fbc41\"],[0.9,\"#4d9221\"],[1,\"#276419\"]]},\"xaxis\":{\"gridcolor\":\"white\",\"linecolor\":\"white\",\"ticks\":\"\",\"title\":{\"standoff\":15},\"zerolinecolor\":\"white\",\"automargin\":true,\"zerolinewidth\":2},\"yaxis\":{\"gridcolor\":\"white\",\"linecolor\":\"white\",\"ticks\":\"\",\"title\":{\"standoff\":15},\"zerolinecolor\":\"white\",\"automargin\":true,\"zerolinewidth\":2},\"scene\":{\"xaxis\":{\"backgroundcolor\":\"#E5ECF6\",\"gridcolor\":\"white\",\"linecolor\":\"white\",\"showbackground\":true,\"ticks\":\"\",\"zerolinecolor\":\"white\",\"gridwidth\":2},\"yaxis\":{\"backgroundcolor\":\"#E5ECF6\",\"gridcolor\":\"white\",\"linecolor\":\"white\",\"showbackground\":true,\"ticks\":\"\",\"zerolinecolor\":\"white\",\"gridwidth\":2},\"zaxis\":{\"backgroundcolor\":\"#E5ECF6\",\"gridcolor\":\"white\",\"linecolor\":\"white\",\"showbackground\":true,\"ticks\":\"\",\"zerolinecolor\":\"white\",\"gridwidth\":2}},\"shapedefaults\":{\"line\":{\"color\":\"#2a3f5f\"}},\"annotationdefaults\":{\"arrowcolor\":\"#2a3f5f\",\"arrowhead\":0,\"arrowwidth\":1},\"geo\":{\"bgcolor\":\"white\",\"landcolor\":\"#E5ECF6\",\"subunitcolor\":\"white\",\"showland\":true,\"showlakes\":true,\"lakecolor\":\"white\"},\"title\":{\"x\":0.05},\"mapbox\":{\"style\":\"light\"}}},\"geo\":{\"domain\":{\"x\":[0.0,1.0],\"y\":[0.0,1.0]},\"center\":{}},\"coloraxis\":{\"colorbar\":{\"title\":{\"text\":\"Altitude\"}},\"colorscale\":[[0.0,\"#0d0887\"],[0.1111111111111111,\"#46039f\"],[0.2222222222222222,\"#7201a8\"],[0.3333333333333333,\"#9c179e\"],[0.4444444444444444,\"#bd3786\"],[0.5555555555555556,\"#d8576b\"],[0.6666666666666666,\"#ed7953\"],[0.7777777777777778,\"#fb9f3a\"],[0.8888888888888888,\"#fdca26\"],[1.0,\"#f0f921\"]]},\"legend\":{\"tracegroupgap\":0},\"title\":{\"text\":\"Average Altitude by Country\"}},                        {\"responsive\": true}                    ).then(function(){\n",
       "                            \n",
       "var gd = document.getElementById('88814d3e-f2db-4fae-8dad-2cfe20d24437');\n",
       "var x = new MutationObserver(function (mutations, observer) {{\n",
       "        var display = window.getComputedStyle(gd).display;\n",
       "        if (!display || display === 'none') {{\n",
       "            console.log([gd, 'removed!']);\n",
       "            Plotly.purge(gd);\n",
       "            observer.disconnect();\n",
       "        }}\n",
       "}});\n",
       "\n",
       "// Listen for the removal of the full notebook cells\n",
       "var notebookContainer = gd.closest('#notebook-container');\n",
       "if (notebookContainer) {{\n",
       "    x.observe(notebookContainer, {childList: true});\n",
       "}}\n",
       "\n",
       "// Listen for the clearing of the current output cell\n",
       "var outputEl = gd.closest('.output');\n",
       "if (outputEl) {{\n",
       "    x.observe(outputEl, {childList: true});\n",
       "}}\n",
       "\n",
       "                        })                };                });            </script>        </div>"
      ]
     },
     "metadata": {},
     "output_type": "display_data"
    },
    {
     "data": {
      "image/png": "[encoded data removed]",
      "text/plain": [
       "<Figure size 1000x500 with 1 Axes>"
      ]
     },
     "metadata": {},
     "output_type": "display_data"
    }
   ],
   "source": [
    "# Group the data by country and calculate the mean of Altitude\n",
    "df_grouped = df.groupby('Country of Origin')['Altitude'].mean().reset_index()\n",
    "\n",
    "# Create a Choropleth map\n",
    "fig = px.choropleth(df_grouped, \n",
    "                    locations='Country of Origin', \n",
    "                    locationmode='country names',\n",
    "                    color='Altitude',\n",
    "                    hover_name='Country of Origin',\n",
    "                    color_continuous_scale=px.colors.sequential.Plasma,\n",
    "                    title='Average Altitude by Country')\n",
    "\n",
    "fig.show()\n",
    "\n",
    "# Create a bar plot with gray color\n",
    "plt.figure(figsize=(10, 5))\n",
    "sns.barplot(x=df_grouped['Country of Origin'], y=df_grouped['Altitude'], color='gray')\n",
    "plt.title('Average Altitude by Country')\n",
    "plt.xlabel('Country of Origin')\n",
    "plt.ylabel('Average Altitude')\n",
    "plt.xticks(rotation=90)\n",
    "plt.show()\n"
   ]
  },
  {
   "cell_type": "code",
   "execution_count": null,
   "id": "fe2a8216",
   "metadata": {},
   "outputs": [
    {
     "data": {
      "application/vnd.plotly.v1+json": {
       "config": {
        "plotlyServerURL": "https://plot.ly"
       },
       "data": [
        {
         "coloraxis": "coloraxis",
         "geo": "geo",
         "hovertemplate": "<b>%{hovertext}</b><br><br>Country of Origin=%{location}<br>Count=%{z}<extra></extra>",
         "hovertext": [
          "Taiwan",
          "Guatemala",
          "Colombia",
          "Ethiopia",
          "Honduras",
          "El Salvador",
          "Thailand",
          "Brazil",
          "Costa Rica",
          "Mexico",
          "Tanzania, United Republic Of",
          "Uganda",
          "United States (Hawaii)",
          "Indonesia",
          "Vietnam",
          "Nicaragua",
          "Peru",
          "Laos",
          "Kenya",
          "Panama",
          "Madagascar",
          "Myanmar",
          "Philippines"
         ],
         "locationmode": "country names",
         "locations": [
          "Taiwan",
          "Guatemala",
          "Colombia",
          "Ethiopia",
          "Honduras",
          "El Salvador",
          "Thailand",
          "Brazil",
          "Costa Rica",
          "Mexico",
          "Tanzania, United Republic Of",
          "Uganda",
          "United States (Hawaii)",
          "Indonesia",
          "Vietnam",
          "Nicaragua",
          "Peru",
          "Laos",
          "Kenya",
          "Panama",
          "Madagascar",
          "Myanmar",
          "Philippines"
         ],
         "name": "",
         "type": "choropleth",
         "z": [
          57,
          20,
          18,
          13,
          11,
          10,
          10,
          9,
          8,
          7,
          6,
          5,
          5,
          5,
          5,
          5,
          3,
          3,
          2,
          1,
          1,
          1,
          1
         ]
        }
       ],
       "layout": {
        "coloraxis": {
         "colorbar": {
          "title": {
           "text": "Count"
          }
         },
         "colorscale": [
          [
           0,
           "#0d0887"
          ],
          [
           0.1111111111111111,
           "#46039f"
          ],
          [
           0.2222222222222222,
           "#7201a8"
          ],
          [
           0.3333333333333333,
           "#9c179e"
          ],
          [
           0.4444444444444444,
           "#bd3786"
          ],
          [
           0.5555555555555556,
           "#d8576b"
          ],
          [
           0.6666666666666666,
           "#ed7953"
          ],
          [
           0.7777777777777778,
           "#fb9f3a"
          ],
          [
           0.8888888888888888,
           "#fdca26"
          ],
          [
           1,
           "#f0f921"
          ]
         ]
        },
        "geo": {
         "center": {},
         "domain": {
          "x": [
           0,
           1
          ],
          "y": [
           0,
           1
          ]
         }
        },
        "legend": {
         "tracegroupgap": 0
        },
        "template": {
         "data": {
          "bar": [
           {
            "error_x": {
             "color": "#2a3f5f"
            },
            "error_y": {
             "color": "#2a3f5f"
            },
            "marker": {
             "line": {
              "color": "#E5ECF6",
              "width": 0.5
             },
             "pattern": {
              "fillmode": "overlay",
              "size": 10,
              "solidity": 0.2
             }
            },
            "type": "bar"
           }
          ],
          "barpolar": [
           {
            "marker": {
             "line": {
              "color": "#E5ECF6",
              "width": 0.5
             },
             "pattern": {
              "fillmode": "overlay",
              "size": 10,
              "solidity": 0.2
             }
            },
            "type": "barpolar"
           }
          ],
          "carpet": [
           {
            "aaxis": {
             "endlinecolor": "#2a3f5f",
             "gridcolor": "white",
             "linecolor": "white",
             "minorgridcolor": "white",
             "startlinecolor": "#2a3f5f"
            },
            "baxis": {
             "endlinecolor": "#2a3f5f",
             "gridcolor": "white",
             "linecolor": "white",
             "minorgridcolor": "white",
             "startlinecolor": "#2a3f5f"
            },
            "type": "carpet"
           }
          ],
          "choropleth": [
           {
            "colorbar": {
             "outlinewidth": 0,
             "ticks": ""
            },
            "type": "choropleth"
           }
          ],
          "contour": [
           {
            "colorbar": {
             "outlinewidth": 0,
             "ticks": ""
            },
            "colorscale": [
             [
              0,
              "#0d0887"
             ],
             [
              0.1111111111111111,
              "#46039f"
             ],
             [
              0.2222222222222222,
              "#7201a8"
             ],
             [
              0.3333333333333333,
              "#9c179e"
             ],
             [
              0.4444444444444444,
              "#bd3786"
             ],
             [
              0.5555555555555556,
              "#d8576b"
             ],
             [
              0.6666666666666666,
              "#ed7953"
             ],
             [
              0.7777777777777778,
              "#fb9f3a"
             ],
             [
              0.8888888888888888,
              "#fdca26"
             ],
             [
              1,
              "#f0f921"
             ]
            ],
            "type": "contour"
           }
          ],
          "contourcarpet": [
           {
            "colorbar": {
             "outlinewidth": 0,
             "ticks": ""
            },
            "type": "contourcarpet"
           }
          ],
          "heatmap": [
           {
            "colorbar": {
             "outlinewidth": 0,
             "ticks": ""
            },
            "colorscale": [
             [
              0,
              "#0d0887"
             ],
             [
              0.1111111111111111,
              "#46039f"
             ],
             [
              0.2222222222222222,
              "#7201a8"
             ],
             [
              0.3333333333333333,
              "#9c179e"
             ],
             [
              0.4444444444444444,
              "#bd3786"
             ],
             [
              0.5555555555555556,
              "#d8576b"
             ],
             [
              0.6666666666666666,
              "#ed7953"
             ],
             [
              0.7777777777777778,
              "#fb9f3a"
             ],
             [
              0.8888888888888888,
              "#fdca26"
             ],
             [
              1,
              "#f0f921"
             ]
            ],
            "type": "heatmap"
           }
          ],
          "heatmapgl": [
           {
            "colorbar": {
             "outlinewidth": 0,
             "ticks": ""
            },
            "colorscale": [
             [
              0,
              "#0d0887"
             ],
             [
              0.1111111111111111,
              "#46039f"
             ],
             [
              0.2222222222222222,
              "#7201a8"
             ],
             [
              0.3333333333333333,
              "#9c179e"
             ],
             [
              0.4444444444444444,
              "#bd3786"
             ],
             [
              0.5555555555555556,
              "#d8576b"
             ],
             [
              0.6666666666666666,
              "#ed7953"
             ],
             [
              0.7777777777777778,
              "#fb9f3a"
             ],
             [
              0.8888888888888888,
              "#fdca26"
             ],
             [
              1,
              "#f0f921"
             ]
            ],
            "type": "heatmapgl"
           }
          ],
          "histogram": [
           {
            "marker": {
             "pattern": {
              "fillmode": "overlay",
              "size": 10,
              "solidity": 0.2
             }
            },
            "type": "histogram"
           }
          ],
          "histogram2d": [
           {
            "colorbar": {
             "outlinewidth": 0,
             "ticks": ""
            },
            "colorscale": [
             [
              0,
              "#0d0887"
             ],
             [
              0.1111111111111111,
              "#46039f"
             ],
             [
              0.2222222222222222,
              "#7201a8"
             ],
             [
              0.3333333333333333,
              "#9c179e"
             ],
             [
              0.4444444444444444,
              "#bd3786"
             ],
             [
              0.5555555555555556,
              "#d8576b"
             ],
             [
              0.6666666666666666,
              "#ed7953"
             ],
             [
              0.7777777777777778,
              "#fb9f3a"
             ],
             [
              0.8888888888888888,
              "#fdca26"
             ],
             [
              1,
              "#f0f921"
             ]
            ],
            "type": "histogram2d"
           }
          ],
          "histogram2dcontour": [
           {
            "colorbar": {
             "outlinewidth": 0,
             "ticks": ""
            },
            "colorscale": [
             [
              0,
              "#0d0887"
             ],
             [
              0.1111111111111111,
              "#46039f"
             ],
             [
              0.2222222222222222,
              "#7201a8"
             ],
             [
              0.3333333333333333,
              "#9c179e"
             ],
             [
              0.4444444444444444,
              "#bd3786"
             ],
             [
              0.5555555555555556,
              "#d8576b"
             ],
             [
              0.6666666666666666,
              "#ed7953"
             ],
             [
              0.7777777777777778,
              "#fb9f3a"
             ],
             [
              0.8888888888888888,
              "#fdca26"
             ],
             [
              1,
              "#f0f921"
             ]
            ],
            "type": "histogram2dcontour"
           }
          ],
          "mesh3d": [
           {
            "colorbar": {
             "outlinewidth": 0,
             "ticks": ""
            },
            "type": "mesh3d"
           }
          ],
          "parcoords": [
           {
            "line": {
             "colorbar": {
              "outlinewidth": 0,
              "ticks": ""
             }
            },
            "type": "parcoords"
           }
          ],
          "pie": [
           {
            "automargin": true,
            "type": "pie"
           }
          ],
          "scatter": [
           {
            "fillpattern": {
             "fillmode": "overlay",
             "size": 10,
             "solidity": 0.2
            },
            "type": "scatter"
           }
          ],
          "scatter3d": [
           {
            "line": {
             "colorbar": {
              "outlinewidth": 0,
              "ticks": ""
             }
            },
            "marker": {
             "colorbar": {
              "outlinewidth": 0,
              "ticks": ""
             }
            },
            "type": "scatter3d"
           }
          ],
          "scattercarpet": [
           {
            "marker": {
             "colorbar": {
              "outlinewidth": 0,
              "ticks": ""
             }
            },
            "type": "scattercarpet"
           }
          ],
          "scattergeo": [
           {
            "marker": {
             "colorbar": {
              "outlinewidth": 0,
              "ticks": ""
             }
            },
            "type": "scattergeo"
           }
          ],
          "scattergl": [
           {
            "marker": {
             "colorbar": {
              "outlinewidth": 0,
              "ticks": ""
             }
            },
            "type": "scattergl"
           }
          ],
          "scattermapbox": [
           {
            "marker": {
             "colorbar": {
              "outlinewidth": 0,
              "ticks": ""
             }
            },
            "type": "scattermapbox"
           }
          ],
          "scatterpolar": [
           {
            "marker": {
             "colorbar": {
              "outlinewidth": 0,
              "ticks": ""
             }
            },
            "type": "scatterpolar"
           }
          ],
          "scatterpolargl": [
           {
            "marker": {
             "colorbar": {
              "outlinewidth": 0,
              "ticks": ""
             }
            },
            "type": "scatterpolargl"
           }
          ],
          "scatterternary": [
           {
            "marker": {
             "colorbar": {
              "outlinewidth": 0,
              "ticks": ""
             }
            },
            "type": "scatterternary"
           }
          ],
          "surface": [
           {
            "colorbar": {
             "outlinewidth": 0,
             "ticks": ""
            },
            "colorscale": [
             [
              0,
              "#0d0887"
             ],
             [
              0.1111111111111111,
              "#46039f"
             ],
             [
              0.2222222222222222,
              "#7201a8"
             ],
             [
              0.3333333333333333,
              "#9c179e"
             ],
             [
              0.4444444444444444,
              "#bd3786"
             ],
             [
              0.5555555555555556,
              "#d8576b"
             ],
             [
              0.6666666666666666,
              "#ed7953"
             ],
             [
              0.7777777777777778,
              "#fb9f3a"
             ],
             [
              0.8888888888888888,
              "#fdca26"
             ],
             [
              1,
              "#f0f921"
             ]
            ],
            "type": "surface"
           }
          ],
          "table": [
           {
            "cells": {
             "fill": {
              "color": "#EBF0F8"
             },
             "line": {
              "color": "white"
             }
            },
            "header": {
             "fill": {
              "color": "#C8D4E3"
             },
             "line": {
              "color": "white"
             }
            },
            "type": "table"
           }
          ]
         },
         "layout": {
          "annotationdefaults": {
           "arrowcolor": "#2a3f5f",
           "arrowhead": 0,
           "arrowwidth": 1
          },
          "autotypenumbers": "strict",
          "coloraxis": {
           "colorbar": {
            "outlinewidth": 0,
            "ticks": ""
           }
          },
          "colorscale": {
           "diverging": [
            [
             0,
             "#8e0152"
            ],
            [
             0.1,
             "#c51b7d"
            ],
            [
             0.2,
             "#de77ae"
            ],
            [
             0.3,
             "#f1b6da"
            ],
            [
             0.4,
             "#fde0ef"
            ],
            [
             0.5,
             "#f7f7f7"
            ],
            [
             0.6,
             "#e6f5d0"
            ],
            [
             0.7,
             "#b8e186"
            ],
            [
             0.8,
             "#7fbc41"
            ],
            [
             0.9,
             "#4d9221"
            ],
            [
             1,
             "#276419"
            ]
           ],
           "sequential": [
            [
             0,
             "#0d0887"
            ],
            [
             0.1111111111111111,
             "#46039f"
            ],
            [
             0.2222222222222222,
             "#7201a8"
            ],
            [
             0.3333333333333333,
             "#9c179e"
            ],
            [
             0.4444444444444444,
             "#bd3786"
            ],
            [
             0.5555555555555556,
             "#d8576b"
            ],
            [
             0.6666666666666666,
             "#ed7953"
            ],
            [
             0.7777777777777778,
             "#fb9f3a"
            ],
            [
             0.8888888888888888,
             "#fdca26"
            ],
            [
             1,
             "#f0f921"
            ]
           ],
           "sequentialminus": [
            [
             0,
             "#0d0887"
            ],
            [
             0.1111111111111111,
             "#46039f"
            ],
            [
             0.2222222222222222,
             "#7201a8"
            ],
            [
             0.3333333333333333,
             "#9c179e"
            ],
            [
             0.4444444444444444,
             "#bd3786"
            ],
            [
             0.5555555555555556,
             "#d8576b"
            ],
            [
             0.6666666666666666,
             "#ed7953"
            ],
            [
             0.7777777777777778,
             "#fb9f3a"
            ],
            [
             0.8888888888888888,
             "#fdca26"
            ],
            [
             1,
             "#f0f921"
            ]
           ]
          },
          "colorway": [
           "#636efa",
           "#EF553B",
           "#00cc96",
           "#ab63fa",
           "#FFA15A",
           "#19d3f3",
           "#FF6692",
           "#B6E880",
           "#FF97FF",
           "#FECB52"
          ],
          "font": {
           "color": "#2a3f5f"
          },
          "geo": {
           "bgcolor": "white",
           "lakecolor": "white",
           "landcolor": "#E5ECF6",
           "showlakes": true,
           "showland": true,
           "subunitcolor": "white"
          },
          "hoverlabel": {
           "align": "left"
          },
          "hovermode": "closest",
          "mapbox": {
           "style": "light"
          },
          "paper_bgcolor": "white",
          "plot_bgcolor": "#E5ECF6",
          "polar": {
           "angularaxis": {
            "gridcolor": "white",
            "linecolor": "white",
            "ticks": ""
           },
           "bgcolor": "#E5ECF6",
           "radialaxis": {
            "gridcolor": "white",
            "linecolor": "white",
            "ticks": ""
           }
          },
          "scene": {
           "xaxis": {
            "backgroundcolor": "#E5ECF6",
            "gridcolor": "white",
            "gridwidth": 2,
            "linecolor": "white",
            "showbackground": true,
            "ticks": "",
            "zerolinecolor": "white"
           },
           "yaxis": {
            "backgroundcolor": "#E5ECF6",
            "gridcolor": "white",
            "gridwidth": 2,
            "linecolor": "white",
            "showbackground": true,
            "ticks": "",
            "zerolinecolor": "white"
           },
           "zaxis": {
            "backgroundcolor": "#E5ECF6",
            "gridcolor": "white",
            "gridwidth": 2,
            "linecolor": "white",
            "showbackground": true,
            "ticks": "",
            "zerolinecolor": "white"
           }
          },
          "shapedefaults": {
           "line": {
            "color": "#2a3f5f"
           }
          },
          "ternary": {
           "aaxis": {
            "gridcolor": "white",
            "linecolor": "white",
            "ticks": ""
           },
           "baxis": {
            "gridcolor": "white",
            "linecolor": "white",
            "ticks": ""
           },
           "bgcolor": "#E5ECF6",
           "caxis": {
            "gridcolor": "white",
            "linecolor": "white",
            "ticks": ""
           }
          },
          "title": {
           "x": 0.05
          },
          "xaxis": {
           "automargin": true,
           "gridcolor": "white",
           "linecolor": "white",
           "ticks": "",
           "title": {
            "standoff": 15
           },
           "zerolinecolor": "white",
           "zerolinewidth": 2
          },
          "yaxis": {
           "automargin": true,
           "gridcolor": "white",
           "linecolor": "white",
           "ticks": "",
           "title": {
            "standoff": 15
           },
           "zerolinecolor": "white",
           "zerolinewidth": 2
          }
         }
        },
        "title": {
         "text": "Count of Unique Countries"
        }
       }
      },
      "text/html": [
       "<div>                            <div id=\"bba65165-a981-4eb5-8046-4bb2eb148234\" class=\"plotly-graph-div\" style=\"height:525px; width:100%;\"></div>            <script type=\"text/javascript\">                require([\"plotly\"], function(Plotly) {                    window.PLOTLYENV=window.PLOTLYENV || {};                                    if (document.getElementById(\"bba65165-a981-4eb5-8046-4bb2eb148234\")) {                    Plotly.newPlot(                        \"bba65165-a981-4eb5-8046-4bb2eb148234\",                        [{\"coloraxis\":\"coloraxis\",\"geo\":\"geo\",\"hovertemplate\":\"<b>%{hovertext}</b><br><br>Country of Origin=%{location}<br>Count=%{z}<extra></extra>\",\"hovertext\":[\"Taiwan\",\"Guatemala\",\"Colombia\",\"Ethiopia\",\"Honduras\",\"El Salvador\",\"Thailand\",\"Brazil\",\"Costa Rica\",\"Mexico\",\"Tanzania, United Republic Of\",\"Uganda\",\"United States (Hawaii)\",\"Indonesia\",\"Vietnam\",\"Nicaragua\",\"Peru\",\"Laos\",\"Kenya\",\"Panama\",\"Madagascar\",\"Myanmar\",\"Philippines\"],\"locationmode\":\"country names\",\"locations\":[\"Taiwan\",\"Guatemala\",\"Colombia\",\"Ethiopia\",\"Honduras\",\"El Salvador\",\"Thailand\",\"Brazil\",\"Costa Rica\",\"Mexico\",\"Tanzania, United Republic Of\",\"Uganda\",\"United States (Hawaii)\",\"Indonesia\",\"Vietnam\",\"Nicaragua\",\"Peru\",\"Laos\",\"Kenya\",\"Panama\",\"Madagascar\",\"Myanmar\",\"Philippines\"],\"name\":\"\",\"z\":[57,20,18,13,11,10,10,9,8,7,6,5,5,5,5,5,3,3,2,1,1,1,1],\"type\":\"choropleth\"}],                        {\"template\":{\"data\":{\"histogram2dcontour\":[{\"type\":\"histogram2dcontour\",\"colorbar\":{\"outlinewidth\":0,\"ticks\":\"\"},\"colorscale\":[[0.0,\"#0d0887\"],[0.1111111111111111,\"#46039f\"],[0.2222222222222222,\"#7201a8\"],[0.3333333333333333,\"#9c179e\"],[0.4444444444444444,\"#bd3786\"],[0.5555555555555556,\"#d8576b\"],[0.6666666666666666,\"#ed7953\"],[0.7777777777777778,\"#fb9f3a\"],[0.8888888888888888,\"#fdca26\"],[1.0,\"#f0f921\"]]}],\"choropleth\":[{\"type\":\"choropleth\",\"colorbar\":{\"outlinewidth\":0,\"ticks\":\"\"}}],\"histogram2d\":[{\"type\":\"histogram2d\",\"colorbar\":{\"outlinewidth\":0,\"ticks\":\"\"},\"colorscale\":[[0.0,\"#0d0887\"],[0.1111111111111111,\"#46039f\"],[0.2222222222222222,\"#7201a8\"],[0.3333333333333333,\"#9c179e\"],[0.4444444444444444,\"#bd3786\"],[0.5555555555555556,\"#d8576b\"],[0.6666666666666666,\"#ed7953\"],[0.7777777777777778,\"#fb9f3a\"],[0.8888888888888888,\"#fdca26\"],[1.0,\"#f0f921\"]]}],\"heatmap\":[{\"type\":\"heatmap\",\"colorbar\":{\"outlinewidth\":0,\"ticks\":\"\"},\"colorscale\":[[0.0,\"#0d0887\"],[0.1111111111111111,\"#46039f\"],[0.2222222222222222,\"#7201a8\"],[0.3333333333333333,\"#9c179e\"],[0.4444444444444444,\"#bd3786\"],[0.5555555555555556,\"#d8576b\"],[0.6666666666666666,\"#ed7953\"],[0.7777777777777778,\"#fb9f3a\"],[0.8888888888888888,\"#fdca26\"],[1.0,\"#f0f921\"]]}],\"heatmapgl\":[{\"type\":\"heatmapgl\",\"colorbar\":{\"outlinewidth\":0,\"ticks\":\"\"},\"colorscale\":[[0.0,\"#0d0887\"],[0.1111111111111111,\"#46039f\"],[0.2222222222222222,\"#7201a8\"],[0.3333333333333333,\"#9c179e\"],[0.4444444444444444,\"#bd3786\"],[0.5555555555555556,\"#d8576b\"],[0.6666666666666666,\"#ed7953\"],[0.7777777777777778,\"#fb9f3a\"],[0.8888888888888888,\"#fdca26\"],[1.0,\"#f0f921\"]]}],\"contourcarpet\":[{\"type\":\"contourcarpet\",\"colorbar\":{\"outlinewidth\":0,\"ticks\":\"\"}}],\"contour\":[{\"type\":\"contour\",\"colorbar\":{\"outlinewidth\":0,\"ticks\":\"\"},\"colorscale\":[[0.0,\"#0d0887\"],[0.1111111111111111,\"#46039f\"],[0.2222222222222222,\"#7201a8\"],[0.3333333333333333,\"#9c179e\"],[0.4444444444444444,\"#bd3786\"],[0.5555555555555556,\"#d8576b\"],[0.6666666666666666,\"#ed7953\"],[0.7777777777777778,\"#fb9f3a\"],[0.8888888888888888,\"#fdca26\"],[1.0,\"#f0f921\"]]}],\"surface\":[{\"type\":\"surface\",\"colorbar\":{\"outlinewidth\":0,\"ticks\":\"\"},\"colorscale\":[[0.0,\"#0d0887\"],[0.1111111111111111,\"#46039f\"],[0.2222222222222222,\"#7201a8\"],[0.3333333333333333,\"#9c179e\"],[0.4444444444444444,\"#bd3786\"],[0.5555555555555556,\"#d8576b\"],[0.6666666666666666,\"#ed7953\"],[0.7777777777777778,\"#fb9f3a\"],[0.8888888888888888,\"#fdca26\"],[1.0,\"#f0f921\"]]}],\"mesh3d\":[{\"type\":\"mesh3d\",\"colorbar\":{\"outlinewidth\":0,\"ticks\":\"\"}}],\"scatter\":[{\"fillpattern\":{\"fillmode\":\"overlay\",\"size\":10,\"solidity\":0.2},\"type\":\"scatter\"}],\"parcoords\":[{\"type\":\"parcoords\",\"line\":{\"colorbar\":{\"outlinewidth\":0,\"ticks\":\"\"}}}],\"scatterpolargl\":[{\"type\":\"scatterpolargl\",\"marker\":{\"colorbar\":{\"outlinewidth\":0,\"ticks\":\"\"}}}],\"bar\":[{\"error_x\":{\"color\":\"#2a3f5f\"},\"error_y\":{\"color\":\"#2a3f5f\"},\"marker\":{\"line\":{\"color\":\"#E5ECF6\",\"width\":0.5},\"pattern\":{\"fillmode\":\"overlay\",\"size\":10,\"solidity\":0.2}},\"type\":\"bar\"}],\"scattergeo\":[{\"type\":\"scattergeo\",\"marker\":{\"colorbar\":{\"outlinewidth\":0,\"ticks\":\"\"}}}],\"scatterpolar\":[{\"type\":\"scatterpolar\",\"marker\":{\"colorbar\":{\"outlinewidth\":0,\"ticks\":\"\"}}}],\"histogram\":[{\"marker\":{\"pattern\":{\"fillmode\":\"overlay\",\"size\":10,\"solidity\":0.2}},\"type\":\"histogram\"}],\"scattergl\":[{\"type\":\"scattergl\",\"marker\":{\"colorbar\":{\"outlinewidth\":0,\"ticks\":\"\"}}}],\"scatter3d\":[{\"type\":\"scatter3d\",\"line\":{\"colorbar\":{\"outlinewidth\":0,\"ticks\":\"\"}},\"marker\":{\"colorbar\":{\"outlinewidth\":0,\"ticks\":\"\"}}}],\"scattermapbox\":[{\"type\":\"scattermapbox\",\"marker\":{\"colorbar\":{\"outlinewidth\":0,\"ticks\":\"\"}}}],\"scatterternary\":[{\"type\":\"scatterternary\",\"marker\":{\"colorbar\":{\"outlinewidth\":0,\"ticks\":\"\"}}}],\"scattercarpet\":[{\"type\":\"scattercarpet\",\"marker\":{\"colorbar\":{\"outlinewidth\":0,\"ticks\":\"\"}}}],\"carpet\":[{\"aaxis\":{\"endlinecolor\":\"#2a3f5f\",\"gridcolor\":\"white\",\"linecolor\":\"white\",\"minorgridcolor\":\"white\",\"startlinecolor\":\"#2a3f5f\"},\"baxis\":{\"endlinecolor\":\"#2a3f5f\",\"gridcolor\":\"white\",\"linecolor\":\"white\",\"minorgridcolor\":\"white\",\"startlinecolor\":\"#2a3f5f\"},\"type\":\"carpet\"}],\"table\":[{\"cells\":{\"fill\":{\"color\":\"#EBF0F8\"},\"line\":{\"color\":\"white\"}},\"header\":{\"fill\":{\"color\":\"#C8D4E3\"},\"line\":{\"color\":\"white\"}},\"type\":\"table\"}],\"barpolar\":[{\"marker\":{\"line\":{\"color\":\"#E5ECF6\",\"width\":0.5},\"pattern\":{\"fillmode\":\"overlay\",\"size\":10,\"solidity\":0.2}},\"type\":\"barpolar\"}],\"pie\":[{\"automargin\":true,\"type\":\"pie\"}]},\"layout\":{\"autotypenumbers\":\"strict\",\"colorway\":[\"#636efa\",\"#EF553B\",\"#00cc96\",\"#ab63fa\",\"#FFA15A\",\"#19d3f3\",\"#FF6692\",\"#B6E880\",\"#FF97FF\",\"#FECB52\"],\"font\":{\"color\":\"#2a3f5f\"},\"hovermode\":\"closest\",\"hoverlabel\":{\"align\":\"left\"},\"paper_bgcolor\":\"white\",\"plot_bgcolor\":\"#E5ECF6\",\"polar\":{\"bgcolor\":\"#E5ECF6\",\"angularaxis\":{\"gridcolor\":\"white\",\"linecolor\":\"white\",\"ticks\":\"\"},\"radialaxis\":{\"gridcolor\":\"white\",\"linecolor\":\"white\",\"ticks\":\"\"}},\"ternary\":{\"bgcolor\":\"#E5ECF6\",\"aaxis\":{\"gridcolor\":\"white\",\"linecolor\":\"white\",\"ticks\":\"\"},\"baxis\":{\"gridcolor\":\"white\",\"linecolor\":\"white\",\"ticks\":\"\"},\"caxis\":{\"gridcolor\":\"white\",\"linecolor\":\"white\",\"ticks\":\"\"}},\"coloraxis\":{\"colorbar\":{\"outlinewidth\":0,\"ticks\":\"\"}},\"colorscale\":{\"sequential\":[[0.0,\"#0d0887\"],[0.1111111111111111,\"#46039f\"],[0.2222222222222222,\"#7201a8\"],[0.3333333333333333,\"#9c179e\"],[0.4444444444444444,\"#bd3786\"],[0.5555555555555556,\"#d8576b\"],[0.6666666666666666,\"#ed7953\"],[0.7777777777777778,\"#fb9f3a\"],[0.8888888888888888,\"#fdca26\"],[1.0,\"#f0f921\"]],\"sequentialminus\":[[0.0,\"#0d0887\"],[0.1111111111111111,\"#46039f\"],[0.2222222222222222,\"#7201a8\"],[0.3333333333333333,\"#9c179e\"],[0.4444444444444444,\"#bd3786\"],[0.5555555555555556,\"#d8576b\"],[0.6666666666666666,\"#ed7953\"],[0.7777777777777778,\"#fb9f3a\"],[0.8888888888888888,\"#fdca26\"],[1.0,\"#f0f921\"]],\"diverging\":[[0,\"#8e0152\"],[0.1,\"#c51b7d\"],[0.2,\"#de77ae\"],[0.3,\"#f1b6da\"],[0.4,\"#fde0ef\"],[0.5,\"#f7f7f7\"],[0.6,\"#e6f5d0\"],[0.7,\"#b8e186\"],[0.8,\"#7fbc41\"],[0.9,\"#4d9221\"],[1,\"#276419\"]]},\"xaxis\":{\"gridcolor\":\"white\",\"linecolor\":\"white\",\"ticks\":\"\",\"title\":{\"standoff\":15},\"zerolinecolor\":\"white\",\"automargin\":true,\"zerolinewidth\":2},\"yaxis\":{\"gridcolor\":\"white\",\"linecolor\":\"white\",\"ticks\":\"\",\"title\":{\"standoff\":15},\"zerolinecolor\":\"white\",\"automargin\":true,\"zerolinewidth\":2},\"scene\":{\"xaxis\":{\"backgroundcolor\":\"#E5ECF6\",\"gridcolor\":\"white\",\"linecolor\":\"white\",\"showbackground\":true,\"ticks\":\"\",\"zerolinecolor\":\"white\",\"gridwidth\":2},\"yaxis\":{\"backgroundcolor\":\"#E5ECF6\",\"gridcolor\":\"white\",\"linecolor\":\"white\",\"showbackground\":true,\"ticks\":\"\",\"zerolinecolor\":\"white\",\"gridwidth\":2},\"zaxis\":{\"backgroundcolor\":\"#E5ECF6\",\"gridcolor\":\"white\",\"linecolor\":\"white\",\"showbackground\":true,\"ticks\":\"\",\"zerolinecolor\":\"white\",\"gridwidth\":2}},\"shapedefaults\":{\"line\":{\"color\":\"#2a3f5f\"}},\"annotationdefaults\":{\"arrowcolor\":\"#2a3f5f\",\"arrowhead\":0,\"arrowwidth\":1},\"geo\":{\"bgcolor\":\"white\",\"landcolor\":\"#E5ECF6\",\"subunitcolor\":\"white\",\"showland\":true,\"showlakes\":true,\"lakecolor\":\"white\"},\"title\":{\"x\":0.05},\"mapbox\":{\"style\":\"light\"}}},\"geo\":{\"domain\":{\"x\":[0.0,1.0],\"y\":[0.0,1.0]},\"center\":{}},\"coloraxis\":{\"colorbar\":{\"title\":{\"text\":\"Count\"}},\"colorscale\":[[0.0,\"#0d0887\"],[0.1111111111111111,\"#46039f\"],[0.2222222222222222,\"#7201a8\"],[0.3333333333333333,\"#9c179e\"],[0.4444444444444444,\"#bd3786\"],[0.5555555555555556,\"#d8576b\"],[0.6666666666666666,\"#ed7953\"],[0.7777777777777778,\"#fb9f3a\"],[0.8888888888888888,\"#fdca26\"],[1.0,\"#f0f921\"]]},\"legend\":{\"tracegroupgap\":0},\"title\":{\"text\":\"Count of Unique Countries\"}},                        {\"responsive\": true}                    ).then(function(){\n",
       "                            \n",
       "var gd = document.getElementById('bba65165-a981-4eb5-8046-4bb2eb148234');\n",
       "var x = new MutationObserver(function (mutations, observer) {{\n",
       "        var display = window.getComputedStyle(gd).display;\n",
       "        if (!display || display === 'none') {{\n",
       "            console.log([gd, 'removed!']);\n",
       "            Plotly.purge(gd);\n",
       "            observer.disconnect();\n",
       "        }}\n",
       "}});\n",
       "\n",
       "// Listen for the removal of the full notebook cells\n",
       "var notebookContainer = gd.closest('#notebook-container');\n",
       "if (notebookContainer) {{\n",
       "    x.observe(notebookContainer, {childList: true});\n",
       "}}\n",
       "\n",
       "// Listen for the clearing of the current output cell\n",
       "var outputEl = gd.closest('.output');\n",
       "if (outputEl) {{\n",
       "    x.observe(outputEl, {childList: true});\n",
       "}}\n",
       "\n",
       "                        })                };                });            </script>        </div>"
      ]
     },
     "metadata": {},
     "output_type": "display_data"
    },
    {
     "data": {
      "image/png": "[encoded data removed]",
      "text/plain": [
       "<Figure size 1000x500 with 1 Axes>"
      ]
     },
     "metadata": {},
     "output_type": "display_data"
    }
   ],
   "source": [
    "# Count the unique occurrences of each country\n",
    "df_count = df['Country of Origin'].value_counts().reset_index()\n",
    "df_count.columns = ['Country of Origin', 'Count']\n",
    "\n",
    "# Create a choropleth map\n",
    "fig = px.choropleth(df_count, \n",
    "                    locations='Country of Origin', \n",
    "                    locationmode='country names',\n",
    "                    color='Count',\n",
    "                    hover_name='Country of Origin',\n",
    "                    color_continuous_scale=px.colors.sequential.Plasma,\n",
    "                    title='Count of Unique Countries')\n",
    "\n",
    "fig.show()\n",
    "\n",
    "# Create a bar plot\n",
    "plt.figure(figsize=(10, 5))\n",
    "sns.barplot(x=df_count['Country of Origin'], y=df_count['Count'], color='gray')\n",
    "plt.title('Count of Unique Countries')\n",
    "plt.xlabel('Country of Origin')\n",
    "plt.ylabel('Count')\n",
    "plt.xticks(rotation=90)\n",
    "plt.show()"
   ]
  },
  {
   "cell_type": "markdown",
   "id": "a619f432",
   "metadata": {},
   "source": [
    "# <span style=\"color:#E888BB; font-size: 1%;\">3 | CORRELATION </span>\n",
    "<div style=\"padding: 30px;color:white;margin:10;font-size:150%;text-align:left;display:fill;border-radius:10px;background-color:#F1C40F;overflow:hidden;background-image: url(https://images.pexels.com/photos/942802/pexels-photo-942802.jpeg?auto=compress&cs=tinysrgb&w=1260&h=750&dpr=1)\"><b><span style='color:white'>3 | CORRELATION </span></b> </div>\n",
    "\n",
    "## <div style=\"padding: 20px;color:white;margin:10;font-size:90%;text-align:left;display:fill;border-radius:10px;overflow:hidden;background-image: url(https://w0.peakpx.com/wallpaper/957/661/HD-wallpaper-white-marble-white-stone-texture-marble-stone-background-white-stone.jpg)\"><b><span style='color:black'> 1.Dealing with categorical and numerical column</span></b> </div>\n",
    "    \n",
    "### <b>I <span style='color:#85BB65'>|</span> Select Columns</b> "
   ]
  },
  {
   "cell_type": "code",
   "execution_count": null,
   "id": "8b933ab4",
   "metadata": {},
   "outputs": [],
   "source": [
    "data = df.copy()\n",
    "categorical_columns = ['Processing Method']\n",
    "numerical_columns = ['Altitude', 'Aroma', 'Flavor', 'Aftertaste', 'Acidity', 'Body', 'Balance', 'Overall', 'Total Cup Points', 'Moisture Percentage', 'Category One Defects', 'Quakers', 'Category Two Defects', 'Coffee Age']\n",
    "columns_to_drop = ['Country of Origin', 'Color']\n",
    "data.drop(columns_to_drop, axis=1, inplace=True)\n",
    "dummy_variables = pd.get_dummies(data, columns=categorical_columns, drop_first=False)"
   ]
  },
  {
   "cell_type": "code",
   "execution_count": null,
   "id": "7e734752",
   "metadata": {},
   "outputs": [
    {
     "data": {
      "text/html": [
       "<div>\n",
       "<style scoped>\n",
       "    .dataframe tbody tr th:only-of-type {\n",
       "        vertical-align: middle;\n",
       "    }\n",
       "\n",
       "    .dataframe tbody tr th {\n",
       "        vertical-align: top;\n",
       "    }\n",
       "\n",
       "    .dataframe thead th {\n",
       "        text-align: right;\n",
       "    }\n",
       "</style>\n",
       "<table border=\"1\" class=\"dataframe\">\n",
       "  <thead>\n",
       "    <tr style=\"text-align: right;\">\n",
       "      <th></th>\n",
       "      <th>Altitude</th>\n",
       "      <th>Aroma</th>\n",
       "      <th>Flavor</th>\n",
       "      <th>Aftertaste</th>\n",
       "      <th>Acidity</th>\n",
       "      <th>Body</th>\n",
       "      <th>Balance</th>\n",
       "      <th>Overall</th>\n",
       "      <th>Total Cup Points</th>\n",
       "      <th>Moisture Percentage</th>\n",
       "      <th>Category One Defects</th>\n",
       "      <th>Quakers</th>\n",
       "      <th>Category Two Defects</th>\n",
       "      <th>Coffee Age</th>\n",
       "      <th>Processing Method_Natural / Dry</th>\n",
       "      <th>Processing Method_Pulped natural / honey</th>\n",
       "      <th>Processing Method_Washed / Wet</th>\n",
       "    </tr>\n",
       "  </thead>\n",
       "  <tbody>\n",
       "    <tr>\n",
       "      <th>0</th>\n",
       "      <td>1815.0</td>\n",
       "      <td>8.58</td>\n",
       "      <td>8.50</td>\n",
       "      <td>8.42</td>\n",
       "      <td>8.58</td>\n",
       "      <td>8.25</td>\n",
       "      <td>8.42</td>\n",
       "      <td>8.58</td>\n",
       "      <td>89.33</td>\n",
       "      <td>11.8</td>\n",
       "      <td>0</td>\n",
       "      <td>0</td>\n",
       "      <td>3</td>\n",
       "      <td>993</td>\n",
       "      <td>0</td>\n",
       "      <td>0</td>\n",
       "      <td>1</td>\n",
       "    </tr>\n",
       "    <tr>\n",
       "      <th>1</th>\n",
       "      <td>1200.0</td>\n",
       "      <td>8.50</td>\n",
       "      <td>8.50</td>\n",
       "      <td>7.92</td>\n",
       "      <td>8.00</td>\n",
       "      <td>7.92</td>\n",
       "      <td>8.25</td>\n",
       "      <td>8.50</td>\n",
       "      <td>87.58</td>\n",
       "      <td>10.5</td>\n",
       "      <td>0</td>\n",
       "      <td>0</td>\n",
       "      <td>0</td>\n",
       "      <td>1048</td>\n",
       "      <td>0</td>\n",
       "      <td>0</td>\n",
       "      <td>1</td>\n",
       "    </tr>\n",
       "    <tr>\n",
       "      <th>2</th>\n",
       "      <td>1300.0</td>\n",
       "      <td>8.33</td>\n",
       "      <td>8.42</td>\n",
       "      <td>8.08</td>\n",
       "      <td>8.17</td>\n",
       "      <td>7.92</td>\n",
       "      <td>8.17</td>\n",
       "      <td>8.33</td>\n",
       "      <td>87.42</td>\n",
       "      <td>10.4</td>\n",
       "      <td>0</td>\n",
       "      <td>0</td>\n",
       "      <td>2</td>\n",
       "      <td>1048</td>\n",
       "      <td>0</td>\n",
       "      <td>0</td>\n",
       "      <td>1</td>\n",
       "    </tr>\n",
       "    <tr>\n",
       "      <th>3</th>\n",
       "      <td>1719.0</td>\n",
       "      <td>8.00</td>\n",
       "      <td>8.25</td>\n",
       "      <td>8.00</td>\n",
       "      <td>8.42</td>\n",
       "      <td>8.25</td>\n",
       "      <td>8.08</td>\n",
       "      <td>8.42</td>\n",
       "      <td>87.42</td>\n",
       "      <td>10.5</td>\n",
       "      <td>0</td>\n",
       "      <td>3</td>\n",
       "      <td>5</td>\n",
       "      <td>2348</td>\n",
       "      <td>0</td>\n",
       "      <td>0</td>\n",
       "      <td>1</td>\n",
       "    </tr>\n",
       "    <tr>\n",
       "      <th>4</th>\n",
       "      <td>1975.0</td>\n",
       "      <td>8.17</td>\n",
       "      <td>8.08</td>\n",
       "      <td>8.00</td>\n",
       "      <td>8.50</td>\n",
       "      <td>8.17</td>\n",
       "      <td>8.08</td>\n",
       "      <td>8.25</td>\n",
       "      <td>87.25</td>\n",
       "      <td>10.2</td>\n",
       "      <td>0</td>\n",
       "      <td>3</td>\n",
       "      <td>10</td>\n",
       "      <td>895</td>\n",
       "      <td>0</td>\n",
       "      <td>0</td>\n",
       "      <td>1</td>\n",
       "    </tr>\n",
       "    <tr>\n",
       "      <th>...</th>\n",
       "      <td>...</td>\n",
       "      <td>...</td>\n",
       "      <td>...</td>\n",
       "      <td>...</td>\n",
       "      <td>...</td>\n",
       "      <td>...</td>\n",
       "      <td>...</td>\n",
       "      <td>...</td>\n",
       "      <td>...</td>\n",
       "      <td>...</td>\n",
       "      <td>...</td>\n",
       "      <td>...</td>\n",
       "      <td>...</td>\n",
       "      <td>...</td>\n",
       "      <td>...</td>\n",
       "      <td>...</td>\n",
       "      <td>...</td>\n",
       "    </tr>\n",
       "    <tr>\n",
       "      <th>201</th>\n",
       "      <td>1200.0</td>\n",
       "      <td>7.33</td>\n",
       "      <td>7.08</td>\n",
       "      <td>6.75</td>\n",
       "      <td>7.17</td>\n",
       "      <td>7.42</td>\n",
       "      <td>7.17</td>\n",
       "      <td>7.08</td>\n",
       "      <td>80.00</td>\n",
       "      <td>10.4</td>\n",
       "      <td>0</td>\n",
       "      <td>2</td>\n",
       "      <td>12</td>\n",
       "      <td>791</td>\n",
       "      <td>0</td>\n",
       "      <td>0</td>\n",
       "      <td>1</td>\n",
       "    </tr>\n",
       "    <tr>\n",
       "      <th>202</th>\n",
       "      <td>1300.0</td>\n",
       "      <td>7.25</td>\n",
       "      <td>7.17</td>\n",
       "      <td>7.08</td>\n",
       "      <td>7.00</td>\n",
       "      <td>7.08</td>\n",
       "      <td>7.08</td>\n",
       "      <td>7.00</td>\n",
       "      <td>79.67</td>\n",
       "      <td>11.6</td>\n",
       "      <td>0</td>\n",
       "      <td>9</td>\n",
       "      <td>11</td>\n",
       "      <td>1044</td>\n",
       "      <td>0</td>\n",
       "      <td>0</td>\n",
       "      <td>1</td>\n",
       "    </tr>\n",
       "    <tr>\n",
       "      <th>203</th>\n",
       "      <td>1200.0</td>\n",
       "      <td>6.50</td>\n",
       "      <td>6.75</td>\n",
       "      <td>6.75</td>\n",
       "      <td>7.17</td>\n",
       "      <td>7.08</td>\n",
       "      <td>7.00</td>\n",
       "      <td>6.83</td>\n",
       "      <td>78.08</td>\n",
       "      <td>11.0</td>\n",
       "      <td>0</td>\n",
       "      <td>12</td>\n",
       "      <td>13</td>\n",
       "      <td>431</td>\n",
       "      <td>0</td>\n",
       "      <td>0</td>\n",
       "      <td>1</td>\n",
       "    </tr>\n",
       "    <tr>\n",
       "      <th>204</th>\n",
       "      <td>975.0</td>\n",
       "      <td>7.25</td>\n",
       "      <td>7.08</td>\n",
       "      <td>6.67</td>\n",
       "      <td>6.83</td>\n",
       "      <td>6.83</td>\n",
       "      <td>6.67</td>\n",
       "      <td>6.67</td>\n",
       "      <td>78.00</td>\n",
       "      <td>11.3</td>\n",
       "      <td>0</td>\n",
       "      <td>0</td>\n",
       "      <td>1</td>\n",
       "      <td>1051</td>\n",
       "      <td>1</td>\n",
       "      <td>0</td>\n",
       "      <td>0</td>\n",
       "    </tr>\n",
       "    <tr>\n",
       "      <th>205</th>\n",
       "      <td>1200.0</td>\n",
       "      <td>7.42</td>\n",
       "      <td>7.50</td>\n",
       "      <td>7.33</td>\n",
       "      <td>7.50</td>\n",
       "      <td>7.50</td>\n",
       "      <td>7.25</td>\n",
       "      <td>7.50</td>\n",
       "      <td>74.00</td>\n",
       "      <td>11.8</td>\n",
       "      <td>0</td>\n",
       "      <td>0</td>\n",
       "      <td>1</td>\n",
       "      <td>892</td>\n",
       "      <td>0</td>\n",
       "      <td>0</td>\n",
       "      <td>1</td>\n",
       "    </tr>\n",
       "  </tbody>\n",
       "</table>\n",
       "<p>206 rows × 17 columns</p>\n",
       "</div>"
      ],
      "text/plain": [
       "     Altitude  Aroma  Flavor  Aftertaste  Acidity  Body  Balance  Overall  \\\n",
       "0      1815.0   8.58    8.50        8.42     8.58  8.25     8.42     8.58   \n",
       "1      1200.0   8.50    8.50        7.92     8.00  7.92     8.25     8.50   \n",
       "2      1300.0   8.33    8.42        8.08     8.17  7.92     8.17     8.33   \n",
       "3      1719.0   8.00    8.25        8.00     8.42  8.25     8.08     8.42   \n",
       "4      1975.0   8.17    8.08        8.00     8.50  8.17     8.08     8.25   \n",
       "..        ...    ...     ...         ...      ...   ...      ...      ...   \n",
       "201    1200.0   7.33    7.08        6.75     7.17  7.42     7.17     7.08   \n",
       "202    1300.0   7.25    7.17        7.08     7.00  7.08     7.08     7.00   \n",
       "203    1200.0   6.50    6.75        6.75     7.17  7.08     7.00     6.83   \n",
       "204     975.0   7.25    7.08        6.67     6.83  6.83     6.67     6.67   \n",
       "205    1200.0   7.42    7.50        7.33     7.50  7.50     7.25     7.50   \n",
       "\n",
       "     Total Cup Points  Moisture Percentage  Category One Defects  Quakers  \\\n",
       "0               89.33                 11.8                     0        0   \n",
       "1               87.58                 10.5                     0        0   \n",
       "2               87.42                 10.4                     0        0   \n",
       "3               87.42                 10.5                     0        3   \n",
       "4               87.25                 10.2                     0        3   \n",
       "..                ...                  ...                   ...      ...   \n",
       "201             80.00                 10.4                     0        2   \n",
       "202             79.67                 11.6                     0        9   \n",
       "203             78.08                 11.0                     0       12   \n",
       "204             78.00                 11.3                     0        0   \n",
       "205             74.00                 11.8                     0        0   \n",
       "\n",
       "     Category Two Defects  Coffee Age  Processing Method_Natural / Dry  \\\n",
       "0                       3         993                                0   \n",
       "1                       0        1048                                0   \n",
       "2                       2        1048                                0   \n",
       "3                       5        2348                                0   \n",
       "4                      10         895                                0   \n",
       "..                    ...         ...                              ...   \n",
       "201                    12         791                                0   \n",
       "202                    11        1044                                0   \n",
       "203                    13         431                                0   \n",
       "204                     1        1051                                1   \n",
       "205                     1         892                                0   \n",
       "\n",
       "     Processing Method_Pulped natural / honey  Processing Method_Washed / Wet  \n",
       "0                                           0                               1  \n",
       "1                                           0                               1  \n",
       "2                                           0                               1  \n",
       "3                                           0                               1  \n",
       "4                                           0                               1  \n",
       "..                                        ...                             ...  \n",
       "201                                         0                               1  \n",
       "202                                         0                               1  \n",
       "203                                         0                               1  \n",
       "204                                         0                               0  \n",
       "205                                         0                               1  \n",
       "\n",
       "[206 rows x 17 columns]"
      ]
     },
     "execution_count": null,
     "metadata": {},
     "output_type": "execute_result"
    }
   ],
   "source": [
    "dummy_variables"
   ]
  },
  {
   "cell_type": "markdown",
   "id": "d7a56d94",
   "metadata": {},
   "source": [
    "### <b>II <span style='color:#85BB65'>|</span> Preprocessing and Scaling the data</b> "
   ]
  },
  {
   "cell_type": "code",
   "execution_count": null,
   "id": "ee3be34e",
   "metadata": {},
   "outputs": [],
   "source": [
    "scaler = StandardScaler()\n",
    "\n",
    "# # Scale the numerical columns\n",
    "scaled_numerical = scaler.fit_transform(data[numerical_columns])\n",
    "\n",
    "# # Convert the scaled numerical columns\n",
    "scaled_numerical_df = pd.DataFrame(scaled_numerical, columns=numerical_columns)"
   ]
  },
  {
   "cell_type": "code",
   "execution_count": null,
   "id": "2d6a9223",
   "metadata": {},
   "outputs": [
    {
     "data": {
      "text/html": [
       "<div>\n",
       "<style scoped>\n",
       "    .dataframe tbody tr th:only-of-type {\n",
       "        vertical-align: middle;\n",
       "    }\n",
       "\n",
       "    .dataframe tbody tr th {\n",
       "        vertical-align: top;\n",
       "    }\n",
       "\n",
       "    .dataframe thead th {\n",
       "        text-align: right;\n",
       "    }\n",
       "</style>\n",
       "<table border=\"1\" class=\"dataframe\">\n",
       "  <thead>\n",
       "    <tr style=\"text-align: right;\">\n",
       "      <th></th>\n",
       "      <th>Altitude</th>\n",
       "      <th>Aroma</th>\n",
       "      <th>Flavor</th>\n",
       "      <th>Aftertaste</th>\n",
       "      <th>Acidity</th>\n",
       "      <th>Body</th>\n",
       "      <th>Balance</th>\n",
       "      <th>Overall</th>\n",
       "      <th>Total Cup Points</th>\n",
       "      <th>Moisture Percentage</th>\n",
       "      <th>Category One Defects</th>\n",
       "      <th>Quakers</th>\n",
       "      <th>Category Two Defects</th>\n",
       "      <th>Coffee Age</th>\n",
       "    </tr>\n",
       "  </thead>\n",
       "  <tbody>\n",
       "    <tr>\n",
       "      <th>0</th>\n",
       "      <td>0.595701</td>\n",
       "      <td>2.953040</td>\n",
       "      <td>2.678879</td>\n",
       "      <td>2.884563</td>\n",
       "      <td>3.145552</td>\n",
       "      <td>2.446142</td>\n",
       "      <td>2.858171</td>\n",
       "      <td>2.823696</td>\n",
       "      <td>2.929512</td>\n",
       "      <td>0.809504</td>\n",
       "      <td>-0.229601</td>\n",
       "      <td>-0.427581</td>\n",
       "      <td>0.257456</td>\n",
       "      <td>0.342680</td>\n",
       "    </tr>\n",
       "    <tr>\n",
       "      <th>1</th>\n",
       "      <td>-0.221903</td>\n",
       "      <td>2.678122</td>\n",
       "      <td>2.678879</td>\n",
       "      <td>1.111090</td>\n",
       "      <td>1.046057</td>\n",
       "      <td>1.086796</td>\n",
       "      <td>2.221203</td>\n",
       "      <td>2.570406</td>\n",
       "      <td>2.012664</td>\n",
       "      <td>-0.215970</td>\n",
       "      <td>-0.229601</td>\n",
       "      <td>-0.427581</td>\n",
       "      <td>-0.775712</td>\n",
       "      <td>0.561565</td>\n",
       "    </tr>\n",
       "    <tr>\n",
       "      <th>2</th>\n",
       "      <td>-0.088959</td>\n",
       "      <td>2.093919</td>\n",
       "      <td>2.393759</td>\n",
       "      <td>1.678601</td>\n",
       "      <td>1.661426</td>\n",
       "      <td>1.086796</td>\n",
       "      <td>1.921454</td>\n",
       "      <td>2.032164</td>\n",
       "      <td>1.928838</td>\n",
       "      <td>-0.294852</td>\n",
       "      <td>-0.229601</td>\n",
       "      <td>-0.427581</td>\n",
       "      <td>-0.086933</td>\n",
       "      <td>0.561565</td>\n",
       "    </tr>\n",
       "    <tr>\n",
       "      <th>3</th>\n",
       "      <td>0.468075</td>\n",
       "      <td>0.959880</td>\n",
       "      <td>1.787880</td>\n",
       "      <td>1.394845</td>\n",
       "      <td>2.566381</td>\n",
       "      <td>2.446142</td>\n",
       "      <td>1.584235</td>\n",
       "      <td>2.317115</td>\n",
       "      <td>1.928838</td>\n",
       "      <td>-0.215970</td>\n",
       "      <td>-0.229601</td>\n",
       "      <td>1.223952</td>\n",
       "      <td>0.946234</td>\n",
       "      <td>5.735193</td>\n",
       "    </tr>\n",
       "    <tr>\n",
       "      <th>4</th>\n",
       "      <td>0.808411</td>\n",
       "      <td>1.544082</td>\n",
       "      <td>1.182001</td>\n",
       "      <td>1.394845</td>\n",
       "      <td>2.855967</td>\n",
       "      <td>2.116603</td>\n",
       "      <td>1.584235</td>\n",
       "      <td>1.778873</td>\n",
       "      <td>1.839773</td>\n",
       "      <td>-0.452618</td>\n",
       "      <td>-0.229601</td>\n",
       "      <td>1.223952</td>\n",
       "      <td>2.668180</td>\n",
       "      <td>-0.047332</td>\n",
       "    </tr>\n",
       "    <tr>\n",
       "      <th>...</th>\n",
       "      <td>...</td>\n",
       "      <td>...</td>\n",
       "      <td>...</td>\n",
       "      <td>...</td>\n",
       "      <td>...</td>\n",
       "      <td>...</td>\n",
       "      <td>...</td>\n",
       "      <td>...</td>\n",
       "      <td>...</td>\n",
       "      <td>...</td>\n",
       "      <td>...</td>\n",
       "      <td>...</td>\n",
       "      <td>...</td>\n",
       "      <td>...</td>\n",
       "    </tr>\n",
       "    <tr>\n",
       "      <th>201</th>\n",
       "      <td>-0.221903</td>\n",
       "      <td>-1.342564</td>\n",
       "      <td>-2.381995</td>\n",
       "      <td>-3.038838</td>\n",
       "      <td>-1.958392</td>\n",
       "      <td>-0.972818</td>\n",
       "      <td>-1.825417</td>\n",
       "      <td>-1.925499</td>\n",
       "      <td>-1.958594</td>\n",
       "      <td>-0.294852</td>\n",
       "      <td>-0.229601</td>\n",
       "      <td>0.673441</td>\n",
       "      <td>3.356958</td>\n",
       "      <td>-0.461222</td>\n",
       "    </tr>\n",
       "    <tr>\n",
       "      <th>202</th>\n",
       "      <td>-0.088959</td>\n",
       "      <td>-1.617483</td>\n",
       "      <td>-2.061235</td>\n",
       "      <td>-1.868345</td>\n",
       "      <td>-2.573761</td>\n",
       "      <td>-2.373355</td>\n",
       "      <td>-2.162636</td>\n",
       "      <td>-2.178789</td>\n",
       "      <td>-2.131486</td>\n",
       "      <td>0.651739</td>\n",
       "      <td>-0.229601</td>\n",
       "      <td>4.527017</td>\n",
       "      <td>3.012569</td>\n",
       "      <td>0.545646</td>\n",
       "    </tr>\n",
       "    <tr>\n",
       "      <th>203</th>\n",
       "      <td>-0.221903</td>\n",
       "      <td>-4.194845</td>\n",
       "      <td>-3.558113</td>\n",
       "      <td>-3.038838</td>\n",
       "      <td>-1.958392</td>\n",
       "      <td>-2.373355</td>\n",
       "      <td>-2.462385</td>\n",
       "      <td>-2.717031</td>\n",
       "      <td>-2.964507</td>\n",
       "      <td>0.178443</td>\n",
       "      <td>-0.229601</td>\n",
       "      <td>6.178550</td>\n",
       "      <td>3.701348</td>\n",
       "      <td>-1.893919</td>\n",
       "    </tr>\n",
       "    <tr>\n",
       "      <th>204</th>\n",
       "      <td>-0.521027</td>\n",
       "      <td>-1.617483</td>\n",
       "      <td>-2.381995</td>\n",
       "      <td>-3.322593</td>\n",
       "      <td>-3.189131</td>\n",
       "      <td>-3.403162</td>\n",
       "      <td>-3.698853</td>\n",
       "      <td>-3.223612</td>\n",
       "      <td>-3.006420</td>\n",
       "      <td>0.415091</td>\n",
       "      <td>-0.229601</td>\n",
       "      <td>-0.427581</td>\n",
       "      <td>-0.431322</td>\n",
       "      <td>0.573504</td>\n",
       "    </tr>\n",
       "    <tr>\n",
       "      <th>205</th>\n",
       "      <td>-0.221903</td>\n",
       "      <td>-1.033280</td>\n",
       "      <td>-0.885116</td>\n",
       "      <td>-0.981609</td>\n",
       "      <td>-0.763852</td>\n",
       "      <td>-0.643279</td>\n",
       "      <td>-1.525668</td>\n",
       "      <td>-0.595724</td>\n",
       "      <td>-5.102071</td>\n",
       "      <td>0.809504</td>\n",
       "      <td>-0.229601</td>\n",
       "      <td>-0.427581</td>\n",
       "      <td>-0.431322</td>\n",
       "      <td>-0.059271</td>\n",
       "    </tr>\n",
       "  </tbody>\n",
       "</table>\n",
       "<p>206 rows × 14 columns</p>\n",
       "</div>"
      ],
      "text/plain": [
       "     Altitude     Aroma    Flavor  Aftertaste   Acidity      Body   Balance  \\\n",
       "0    0.595701  2.953040  2.678879    2.884563  3.145552  2.446142  2.858171   \n",
       "1   -0.221903  2.678122  2.678879    1.111090  1.046057  1.086796  2.221203   \n",
       "2   -0.088959  2.093919  2.393759    1.678601  1.661426  1.086796  1.921454   \n",
       "3    0.468075  0.959880  1.787880    1.394845  2.566381  2.446142  1.584235   \n",
       "4    0.808411  1.544082  1.182001    1.394845  2.855967  2.116603  1.584235   \n",
       "..        ...       ...       ...         ...       ...       ...       ...   \n",
       "201 -0.221903 -1.342564 -2.381995   -3.038838 -1.958392 -0.972818 -1.825417   \n",
       "202 -0.088959 -1.617483 -2.061235   -1.868345 -2.573761 -2.373355 -2.162636   \n",
       "203 -0.221903 -4.194845 -3.558113   -3.038838 -1.958392 -2.373355 -2.462385   \n",
       "204 -0.521027 -1.617483 -2.381995   -3.322593 -3.189131 -3.403162 -3.698853   \n",
       "205 -0.221903 -1.033280 -0.885116   -0.981609 -0.763852 -0.643279 -1.525668   \n",
       "\n",
       "      Overall  Total Cup Points  Moisture Percentage  Category One Defects  \\\n",
       "0    2.823696          2.929512             0.809504             -0.229601   \n",
       "1    2.570406          2.012664            -0.215970             -0.229601   \n",
       "2    2.032164          1.928838            -0.294852             -0.229601   \n",
       "3    2.317115          1.928838            -0.215970             -0.229601   \n",
       "4    1.778873          1.839773            -0.452618             -0.229601   \n",
       "..        ...               ...                  ...                   ...   \n",
       "201 -1.925499         -1.958594            -0.294852             -0.229601   \n",
       "202 -2.178789         -2.131486             0.651739             -0.229601   \n",
       "203 -2.717031         -2.964507             0.178443             -0.229601   \n",
       "204 -3.223612         -3.006420             0.415091             -0.229601   \n",
       "205 -0.595724         -5.102071             0.809504             -0.229601   \n",
       "\n",
       "      Quakers  Category Two Defects  Coffee Age  \n",
       "0   -0.427581              0.257456    0.342680  \n",
       "1   -0.427581             -0.775712    0.561565  \n",
       "2   -0.427581             -0.086933    0.561565  \n",
       "3    1.223952              0.946234    5.735193  \n",
       "4    1.223952              2.668180   -0.047332  \n",
       "..        ...                   ...         ...  \n",
       "201  0.673441              3.356958   -0.461222  \n",
       "202  4.527017              3.012569    0.545646  \n",
       "203  6.178550              3.701348   -1.893919  \n",
       "204 -0.427581             -0.431322    0.573504  \n",
       "205 -0.427581             -0.431322   -0.059271  \n",
       "\n",
       "[206 rows x 14 columns]"
      ]
     },
     "execution_count": null,
     "metadata": {},
     "output_type": "execute_result"
    }
   ],
   "source": [
    "scaled_numerical_df"
   ]
  },
  {
   "cell_type": "markdown",
   "id": "fa896956",
   "metadata": {},
   "source": [
    "## <div style=\"padding: 20px;color:white;margin:10;font-size:90%;text-align:left;display:fill;border-radius:10px;overflow:hidden;background-image: url(https://w0.peakpx.com/wallpaper/957/661/HD-wallpaper-white-marble-white-stone-texture-marble-stone-background-white-stone.jpg)\"><b><span style='color:black'> 2.Dealing with categorical variables</span></b> </div>\n",
    "\n",
    "### <b>III <span style='color:#85BB65'>|</span> Create Dummy Variables</b> "
   ]
  },
  {
   "cell_type": "code",
   "execution_count": null,
   "id": "fe934ed4",
   "metadata": {},
   "outputs": [],
   "source": [
    "# Drop the original numerical columns\n",
    "dummy_variables = dummy_variables.drop(numerical_columns, axis=1)\n",
    "\n",
    "# Concatenate the dummy variables and scaled numerical columns\n",
    "processed_df = pd.concat([dummy_variables, scaled_numerical_df], axis=1)"
   ]
  },
  {
   "cell_type": "markdown",
   "id": "3b4d59ec",
   "metadata": {},
   "source": [
    "### <b>IV <span style='color:#85BB65'>|</span> Corelation Matrix with dummy variables</b> "
   ]
  },
  {
   "cell_type": "code",
   "execution_count": null,
   "id": "5b810974",
   "metadata": {},
   "outputs": [
    {
     "data": {
      "image/png": "[encoded data removed]",
      "text/plain": [
       "<Figure size 1500x1000 with 2 Axes>"
      ]
     },
     "metadata": {},
     "output_type": "display_data"
    },
    {
     "data": {
      "image/png": "[encoded data removed]",
      "text/plain": [
       "<Figure size 640x480 with 2 Axes>"
      ]
     },
     "metadata": {},
     "output_type": "display_data"
    }
   ],
   "source": [
    "correlation_matrix = processed_df.corr()\n",
    "\n",
    "#Graph I.\n",
    "plt.figure(figsize=(15, 10))\n",
    "sns.heatmap(correlation_matrix, annot=True, cmap='coolwarm', linewidths=0.5, fmt='.2f')\n",
    "plt.title(\"Correlation Matrix Heatmap\")\n",
    "plt.show()\n",
    "\n",
    "corr = processed_df.corr()\n",
    "target_corr = corr['Total Cup Points'].drop('Total Cup Points')\n",
    "\n",
    "# Sort correlation values in descending order\n",
    "target_corr_sorted = target_corr.sort_values(ascending=False)\n",
    "\n",
    "#Graph II\n",
    "# Create a heatmap of the correlations with the target column\n",
    "sns.set(font_scale=0.8)\n",
    "sns.set_style(\"white\")\n",
    "sns.set_palette(\"PuBuGn_d\")\n",
    "sns.heatmap(target_corr_sorted.to_frame(), cmap=\"coolwarm\", annot=True, fmt='.2f')\n",
    "plt.title('Correlation with Total Cup Points')\n",
    "plt.show()"
   ]
  },
  {
   "cell_type": "markdown",
   "id": "c7c5390b",
   "metadata": {},
   "source": [
    "**Intepret the Result:**\n",
    "\n",
    "1. Overall, `Flavor`, `Aftertaste`, `Balance`, `Acidity`, `Aroma`, `Body`: These variables have strong positive correlations with 'Total Cup Points'. This means that as these variables increase, the 'Total Cup Points' also tend to increase. For example, a higher `'Overall'` rating or 'Flavor' rating is associated with a higher 'Total Cup Points' score.\n",
    "\n",
    "2. `Processing Method_Pulped natural / honey, Altitude, Coffee Age, Processing Method_Washed / Wet`: These variables have weak positive correlations with 'Total Cup Points'. This suggests that these variables might have a slight positive effect on 'Total Cup Points', but the relationship is not as strong as the previous variables.\n",
    "\n",
    "3. `Moisture Percentage`, `Category One Defects`: These variables have weak negative correlations with 'Total Cup Points'. This means that as these variables increase, the 'Total Cup Points' tend to decrease slightly. However, the correlation is weak, so these variables might not have a significant impact on 'Total Cup Points'.\n",
    "\n",
    "4. `Processing Method_Natural / Dry`, `Category Two Defects`, `Quakers`: These variables have moderate negative correlations with 'Total Cup Points'. This suggests that as these variables increase, the 'Total Cup Points' tend to decrease. For example, a higher number of 'Category Two Defects' or 'Quakers' is associated with a lower 'Total Cup Points' score.\n",
    "\n",
    "\n",
    "# <span style=\"color:#E888BB; font-size: 1%;\">4 | PREDICTIVE ANALYSIS</span>\n",
    "<div style=\"padding: 30px;color:white;margin:10;font-size:150%;text-align:left;display:fill;border-radius:10px;background-color:#F1C40F;overflow:hidden;background-image: url(https://images.pexels.com/photos/942802/pexels-photo-942802.jpeg?auto=compress&cs=tinysrgb&w=1260&h=750&dpr=1)\"><b><span style='color:white'>4 | PREDICTIVE ANALYSIS</span></b> </div>\n",
    "\n",
    "## <div style=\"padding: 20px;color:white;margin:10;font-size:90%;text-align:left;display:fill;border-radius:10px;overflow:hidden;background-image: url(https://w0.peakpx.com/wallpaper/957/661/HD-wallpaper-white-marble-white-stone-texture-marble-stone-background-white-stone.jpg)\"><b><span style='color:black'> 1. Clustering Analysis </span></b> </div>\n",
    "\n",
    "### <b><span style='color:#85BB65'>|</span> Preprocessing</b> \n",
    "\n",
    "<br>\n",
    "\n",
    "The preprocessing step involved encoding of categorical variables and MinMax scaling for numerical variables:\n",
    "\n",
    "#### **<span style='color:#85BB65'>Label encoding:</span>** \n",
    " Label encoding was applied to the categorical features. The categories of each feature were assigned a unique numerical label.\n",
    "\n",
    "#### **<span style='color:#85BB65'>MinMax scaling:</span>** \n",
    " MinMax scaling was applied to the numerical features. This scaling method transforms the data to fit within a specific range, typically (0, 1). In this case, numerical_features were scaled."
   ]
  },
  {
   "cell_type": "code",
   "execution_count": null,
   "id": "5203b7c9",
   "metadata": {},
   "outputs": [
    {
     "data": {
      "application/vnd.plotly.v1+json": {
       "config": {
        "plotlyServerURL": "https://plot.ly"
       },
       "data": [
        {
         "hovertemplate": "Dim_1=%{x}<br>Dim_2=%{y}<br>Total Cup Points=%{marker.color}<extra></extra>",
         "legendgroup": "",
         "marker": {
          "color": [
           89.33,
           87.58,
           87.42,
           87.42,
           87.25,
           87.17,
           87.08,
           87,
           86.92,
           86.75,
           86.67,
           86.58,
           86.5,
           86.33,
           86.25,
           86.25,
           86.17,
           86.17,
           86.17,
           86.08,
           86.08,
           86.08,
           85.92,
           85.83,
           85.75,
           85.75,
           85.67,
           85.67,
           85.67,
           85.58,
           85.5,
           85.5,
           85.5,
           85.5,
           85.42,
           85.42,
           85.33,
           85.33,
           85.25,
           85.25,
           85.25,
           85.25,
           85.17,
           85.08,
           85.08,
           85.08,
           85,
           85,
           85,
           85,
           85,
           84.92,
           84.83,
           84.83,
           84.83,
           84.83,
           84.83,
           84.75,
           84.75,
           84.75,
           84.75,
           84.67,
           84.67,
           84.67,
           84.58,
           84.58,
           84.58,
           84.58,
           84.5,
           84.5,
           84.5,
           84.5,
           84.5,
           84.42,
           84.33,
           84.33,
           84.33,
           84.33,
           84.33,
           84.33,
           84.25,
           84.25,
           84.25,
           84.25,
           84.25,
           84.25,
           84.17,
           84.08,
           84.08,
           84.08,
           84.08,
           84.08,
           84,
           84,
           84,
           84,
           84,
           84,
           83.92,
           83.92,
           83.92,
           83.92,
           83.83,
           83.83,
           83.83,
           83.83,
           83.75,
           83.75,
           83.67,
           83.67,
           83.67,
           83.67,
           83.67,
           83.67,
           83.58,
           83.58,
           83.58,
           83.5,
           83.5,
           83.5,
           83.5,
           83.5,
           83.42,
           83.42,
           83.33,
           83.33,
           83.33,
           83.33,
           83.33,
           83.33,
           83.33,
           83.33,
           83.25,
           83.25,
           83.25,
           83.25,
           83.25,
           83.25,
           83.25,
           83.17,
           83.17,
           83.17,
           83.08,
           83.08,
           83,
           82.92,
           82.92,
           82.92,
           82.83,
           82.83,
           82.75,
           82.75,
           82.67,
           82.67,
           82.67,
           82.58,
           82.58,
           82.5,
           82.5,
           82.5,
           82.5,
           82.5,
           82.42,
           82.33,
           82.33,
           82.33,
           82.25,
           82.17,
           82.17,
           82.08,
           82.08,
           82,
           82,
           82,
           82,
           82,
           81.92,
           81.92,
           81.83,
           81.83,
           81.83,
           81.75,
           81.75,
           81.67,
           81.58,
           81.58,
           81.5,
           81.42,
           81.33,
           81.17,
           81.17,
           81,
           80.83,
           80.58,
           80.5,
           80.42,
           80.42,
           80.33,
           80.17,
           80.08,
           80,
           80,
           79.67,
           78.08,
           78,
           74
          ],
          "coloraxis": "coloraxis",
          "symbol": "circle"
         },
         "mode": "markers",
         "name": "",
         "orientation": "v",
         "showlegend": false,
         "type": "scatter",
         "x": [
          -7.0322585,
          1.9063529,
          0.69391286,
          -3.0211632,
          -3.025853,
          -6.237013,
          -3.6736343,
          -4.2000384,
          4.104602,
          6.0369196,
          4.812904,
          -3.0300078,
          5.3140426,
          -3.0334206,
          -4.415158,
          4.1834555,
          -2.9995017,
          -6.7961025,
          -6.9175735,
          6.5687103,
          -4.6041527,
          4.0901575,
          3.24429,
          5.3078284,
          -2.69639,
          6.693322,
          3.716881,
          -7.0785413,
          4.144271,
          2.2410312,
          3.924079,
          -7.220079,
          1.836138,
          4.1673656,
          2.2083714,
          6.25497,
          -3.0378249,
          4.1151752,
          -4.1486363,
          2.213052,
          -2.9470372,
          -2.3292603,
          2.2584143,
          3.2114534,
          4.7165103,
          5.1829042,
          3.7122457,
          -4.1959424,
          -4.0522656,
          6.044178,
          5.9173007,
          4.108278,
          -4.1669283,
          3.0482342,
          3.1889253,
          4.70692,
          5.288556,
          -7.503462,
          4.1447773,
          1.8079755,
          1.1061095,
          -6.109522,
          0.86083573,
          -3.7866838,
          4.1001835,
          6.2295985,
          3.7829175,
          4.6550612,
          3.585752,
          -4.60846,
          2.1609168,
          -6.1077576,
          -3.4756076,
          2.1570475,
          7.1284666,
          -4.01075,
          0.45924252,
          -5.7874203,
          -3.7963238,
          -3.041443,
          5.9189467,
          -3.8006868,
          -3.094319,
          6.681006,
          -3.7358925,
          -4.379937,
          -3.45926,
          4.5988,
          -3.7474213,
          -4.177936,
          -6.6948686,
          5.609003,
          5.29356,
          -3.4660182,
          -6.7023387,
          -4.5945697,
          -3.7221644,
          5.295544,
          -6.08164,
          -4.188283,
          6.9237294,
          -3.370986,
          -4.6220345,
          -6.6852255,
          -6.7230806,
          6.2533374,
          -6.2382913,
          0.36035052,
          0.8037464,
          4.5240555,
          -5.0232897,
          -2.6219754,
          2.072431,
          -6.239862,
          3.8507829,
          3.8761442,
          -3.6870754,
          -7.3691525,
          -3.4219656,
          -4.183061,
          6.6774945,
          5.479662,
          1.8091094,
          5.917422,
          -6.23557,
          5.9201336,
          -3.6380715,
          6.889927,
          4.479696,
          3.5253935,
          -6.0507183,
          -4.165218,
          -4.5784574,
          -3.1703124,
          5.3517694,
          -7.06184,
          -3.1741438,
          -7.123047,
          3.7830162,
          1.7483622,
          4.461819,
          3.779258,
          -3.155345,
          -2.4312053,
          -7.3729043,
          1.7249025,
          0.37947088,
          6.588395,
          -3.139734,
          6.874056,
          -5.3919706,
          1.0332737,
          5.8277864,
          -6.665103,
          -3.129107,
          3.476282,
          1.71012,
          -5.37201,
          0.52815855,
          -7.5945706,
          3.8934276,
          3.6749096,
          0.86779463,
          3.4813282,
          -5.377095,
          -6.8492837,
          2.968301,
          -2.59673,
          6.2464156,
          1.9852759,
          4.372627,
          5.495241,
          -5.98112,
          -4.1671944,
          -5.600255,
          3.5137703,
          -3.317269,
          2.9664059,
          6.493558,
          5.925914,
          3.5780425,
          -3.7118244,
          -3.8867772,
          0.38515988,
          6.592486,
          -6.011995,
          3.4798746,
          5.517636,
          6.9302816,
          -6.2303596,
          5.505041,
          -6.705554,
          -6.8568993,
          -2.8589272,
          1.1187476,
          1.0575624,
          -6.238974,
          -6.8618894,
          -6.7058506,
          -7.070835,
          0.8666188,
          1.0580986,
          -2.0796947,
          -6.8750677,
          -7.420606,
          -5.0273695
         ],
         "xaxis": "x",
         "y": [
          2.0718591,
          -10.942159,
          -2.4730468,
          2.6198068,
          2.617611,
          1.7150482,
          3.4494803,
          -0.4301217,
          -9.0136,
          -6.504216,
          -7.8902364,
          2.6171455,
          -8.454691,
          2.6188483,
          -0.8196137,
          -8.898178,
          2.7831984,
          2.1576498,
          -0.34150916,
          -6.3316436,
          0.43688807,
          -8.90785,
          -9.316825,
          -8.467375,
          2.9075239,
          -10.706862,
          -10.834104,
          1.7445519,
          -8.833073,
          -10.607208,
          -8.838476,
          2.4969923,
          -10.8240795,
          -8.749487,
          -10.560582,
          -10.692195,
          2.6178186,
          -8.765943,
          0.9374698,
          -10.568718,
          -1.3659179,
          -1.6276644,
          -10.679541,
          -9.264205,
          -7.8505163,
          -7.2196236,
          -8.699954,
          -0.39526322,
          -0.25745213,
          -6.5028696,
          -10.320613,
          -8.549899,
          -2.2367115,
          -6.7078404,
          -9.226664,
          -7.8402743,
          -8.498493,
          2.8132608,
          -8.581724,
          -10.788891,
          -9.212562,
          1.8207017,
          -2.6325002,
          -0.044294473,
          -8.506276,
          -11.084826,
          -8.660242,
          -7.7981133,
          -8.582063,
          0.4827879,
          -10.50383,
          1.8299211,
          -0.9216094,
          -10.501121,
          -6.703799,
          -0.18724358,
          -4.927311,
          0.8336233,
          -0.037016395,
          2.6145253,
          -10.304073,
          -0.04506203,
          -3.2616427,
          -10.705958,
          -0.034321934,
          -2.3418088,
          -0.9135922,
          -7.7226815,
          -0.026413139,
          -0.3912265,
          2.2584233,
          -6.7886586,
          -8.502578,
          -0.9190008,
          2.2655387,
          0.48432446,
          -0.0254869,
          -8.506161,
          1.852147,
          -0.4162724,
          -6.461345,
          0.42817637,
          0.49918264,
          2.2671163,
          2.2778087,
          -10.6720295,
          2.7646005,
          -4.9920506,
          -5.094941,
          -7.656653,
          1.6381748,
          0.20369363,
          -10.411788,
          2.7908921,
          -8.223973,
          -8.221318,
          -0.014638969,
          0.71207654,
          -0.91137296,
          0.96935445,
          -10.703215,
          -9.767226,
          -10.788062,
          -10.300628,
          2.7858713,
          -10.303172,
          0.01058835,
          -6.491519,
          -7.601759,
          -8.368945,
          1.873079,
          -0.4124896,
          -1.9783201,
          -0.71047986,
          -8.492586,
          1.7481594,
          -0.6961664,
          2.6240523,
          -8.168572,
          -10.72001,
          -7.579209,
          -7.0822253,
          -0.68912435,
          -2.5414968,
          0.7083491,
          -10.698525,
          -4.9991446,
          -6.3207946,
          -0.6856206,
          -6.4884553,
          2.730531,
          -5.64161,
          -9.318873,
          2.339019,
          -0.6773398,
          -8.237803,
          -10.686308,
          1.257995,
          -4.828533,
          1.0299951,
          -11.517721,
          -8.041687,
          -8.648961,
          -8.153867,
          1.2309057,
          -0.16179597,
          -6.6749935,
          -1.8533986,
          -10.669415,
          -10.366088,
          -7.469005,
          -9.775945,
          1.9541789,
          -2.2445066,
          -1.560329,
          -8.054417,
          0.41859478,
          -6.676536,
          -10.90717,
          -10.282749,
          -7.9984756,
          3.4629533,
          3.5631468,
          -5.005533,
          -6.3233657,
          1.921598,
          -8.007308,
          -9.781989,
          -6.4624963,
          2.8561244,
          -9.784635,
          3.1297889,
          -0.19334522,
          -1.417172,
          -5.5278945,
          -5.6475,
          2.901104,
          -0.20119584,
          3.154182,
          2.8153212,
          -2.6424456,
          -5.653039,
          -2.4451811,
          -0.23523057,
          3.1179223,
          1.7059058
         ],
         "yaxis": "y"
        }
       ],
       "layout": {
        "coloraxis": {
         "colorbar": {
          "title": {
           "text": "Total Cup Points"
          }
         },
         "colorscale": [
          [
           0,
           "#0d0887"
          ],
          [
           0.1111111111111111,
           "#46039f"
          ],
          [
           0.2222222222222222,
           "#7201a8"
          ],
          [
           0.3333333333333333,
           "#9c179e"
          ],
          [
           0.4444444444444444,
           "#bd3786"
          ],
          [
           0.5555555555555556,
           "#d8576b"
          ],
          [
           0.6666666666666666,
           "#ed7953"
          ],
          [
           0.7777777777777778,
           "#fb9f3a"
          ],
          [
           0.8888888888888888,
           "#fdca26"
          ],
          [
           1,
           "#f0f921"
          ]
         ]
        },
        "legend": {
         "tracegroupgap": 0
        },
        "template": {
         "data": {
          "bar": [
           {
            "error_x": {
             "color": "#2a3f5f"
            },
            "error_y": {
             "color": "#2a3f5f"
            },
            "marker": {
             "line": {
              "color": "#E5ECF6",
              "width": 0.5
             },
             "pattern": {
              "fillmode": "overlay",
              "size": 10,
              "solidity": 0.2
             }
            },
            "type": "bar"
           }
          ],
          "barpolar": [
           {
            "marker": {
             "line": {
              "color": "#E5ECF6",
              "width": 0.5
             },
             "pattern": {
              "fillmode": "overlay",
              "size": 10,
              "solidity": 0.2
             }
            },
            "type": "barpolar"
           }
          ],
          "carpet": [
           {
            "aaxis": {
             "endlinecolor": "#2a3f5f",
             "gridcolor": "white",
             "linecolor": "white",
             "minorgridcolor": "white",
             "startlinecolor": "#2a3f5f"
            },
            "baxis": {
             "endlinecolor": "#2a3f5f",
             "gridcolor": "white",
             "linecolor": "white",
             "minorgridcolor": "white",
             "startlinecolor": "#2a3f5f"
            },
            "type": "carpet"
           }
          ],
          "choropleth": [
           {
            "colorbar": {
             "outlinewidth": 0,
             "ticks": ""
            },
            "type": "choropleth"
           }
          ],
          "contour": [
           {
            "colorbar": {
             "outlinewidth": 0,
             "ticks": ""
            },
            "colorscale": [
             [
              0,
              "#0d0887"
             ],
             [
              0.1111111111111111,
              "#46039f"
             ],
             [
              0.2222222222222222,
              "#7201a8"
             ],
             [
              0.3333333333333333,
              "#9c179e"
             ],
             [
              0.4444444444444444,
              "#bd3786"
             ],
             [
              0.5555555555555556,
              "#d8576b"
             ],
             [
              0.6666666666666666,
              "#ed7953"
             ],
             [
              0.7777777777777778,
              "#fb9f3a"
             ],
             [
              0.8888888888888888,
              "#fdca26"
             ],
             [
              1,
              "#f0f921"
             ]
            ],
            "type": "contour"
           }
          ],
          "contourcarpet": [
           {
            "colorbar": {
             "outlinewidth": 0,
             "ticks": ""
            },
            "type": "contourcarpet"
           }
          ],
          "heatmap": [
           {
            "colorbar": {
             "outlinewidth": 0,
             "ticks": ""
            },
            "colorscale": [
             [
              0,
              "#0d0887"
             ],
             [
              0.1111111111111111,
              "#46039f"
             ],
             [
              0.2222222222222222,
              "#7201a8"
             ],
             [
              0.3333333333333333,
              "#9c179e"
             ],
             [
              0.4444444444444444,
              "#bd3786"
             ],
             [
              0.5555555555555556,
              "#d8576b"
             ],
             [
              0.6666666666666666,
              "#ed7953"
             ],
             [
              0.7777777777777778,
              "#fb9f3a"
             ],
             [
              0.8888888888888888,
              "#fdca26"
             ],
             [
              1,
              "#f0f921"
             ]
            ],
            "type": "heatmap"
           }
          ],
          "heatmapgl": [
           {
            "colorbar": {
             "outlinewidth": 0,
             "ticks": ""
            },
            "colorscale": [
             [
              0,
              "#0d0887"
             ],
             [
              0.1111111111111111,
              "#46039f"
             ],
             [
              0.2222222222222222,
              "#7201a8"
             ],
             [
              0.3333333333333333,
              "#9c179e"
             ],
             [
              0.4444444444444444,
              "#bd3786"
             ],
             [
              0.5555555555555556,
              "#d8576b"
             ],
             [
              0.6666666666666666,
              "#ed7953"
             ],
             [
              0.7777777777777778,
              "#fb9f3a"
             ],
             [
              0.8888888888888888,
              "#fdca26"
             ],
             [
              1,
              "#f0f921"
             ]
            ],
            "type": "heatmapgl"
           }
          ],
          "histogram": [
           {
            "marker": {
             "pattern": {
              "fillmode": "overlay",
              "size": 10,
              "solidity": 0.2
             }
            },
            "type": "histogram"
           }
          ],
          "histogram2d": [
           {
            "colorbar": {
             "outlinewidth": 0,
             "ticks": ""
            },
            "colorscale": [
             [
              0,
              "#0d0887"
             ],
             [
              0.1111111111111111,
              "#46039f"
             ],
             [
              0.2222222222222222,
              "#7201a8"
             ],
             [
              0.3333333333333333,
              "#9c179e"
             ],
             [
              0.4444444444444444,
              "#bd3786"
             ],
             [
              0.5555555555555556,
              "#d8576b"
             ],
             [
              0.6666666666666666,
              "#ed7953"
             ],
             [
              0.7777777777777778,
              "#fb9f3a"
             ],
             [
              0.8888888888888888,
              "#fdca26"
             ],
             [
              1,
              "#f0f921"
             ]
            ],
            "type": "histogram2d"
           }
          ],
          "histogram2dcontour": [
           {
            "colorbar": {
             "outlinewidth": 0,
             "ticks": ""
            },
            "colorscale": [
             [
              0,
              "#0d0887"
             ],
             [
              0.1111111111111111,
              "#46039f"
             ],
             [
              0.2222222222222222,
              "#7201a8"
             ],
             [
              0.3333333333333333,
              "#9c179e"
             ],
             [
              0.4444444444444444,
              "#bd3786"
             ],
             [
              0.5555555555555556,
              "#d8576b"
             ],
             [
              0.6666666666666666,
              "#ed7953"
             ],
             [
              0.7777777777777778,
              "#fb9f3a"
             ],
             [
              0.8888888888888888,
              "#fdca26"
             ],
             [
              1,
              "#f0f921"
             ]
            ],
            "type": "histogram2dcontour"
           }
          ],
          "mesh3d": [
           {
            "colorbar": {
             "outlinewidth": 0,
             "ticks": ""
            },
            "type": "mesh3d"
           }
          ],
          "parcoords": [
           {
            "line": {
             "colorbar": {
              "outlinewidth": 0,
              "ticks": ""
             }
            },
            "type": "parcoords"
           }
          ],
          "pie": [
           {
            "automargin": true,
            "type": "pie"
           }
          ],
          "scatter": [
           {
            "fillpattern": {
             "fillmode": "overlay",
             "size": 10,
             "solidity": 0.2
            },
            "type": "scatter"
           }
          ],
          "scatter3d": [
           {
            "line": {
             "colorbar": {
              "outlinewidth": 0,
              "ticks": ""
             }
            },
            "marker": {
             "colorbar": {
              "outlinewidth": 0,
              "ticks": ""
             }
            },
            "type": "scatter3d"
           }
          ],
          "scattercarpet": [
           {
            "marker": {
             "colorbar": {
              "outlinewidth": 0,
              "ticks": ""
             }
            },
            "type": "scattercarpet"
           }
          ],
          "scattergeo": [
           {
            "marker": {
             "colorbar": {
              "outlinewidth": 0,
              "ticks": ""
             }
            },
            "type": "scattergeo"
           }
          ],
          "scattergl": [
           {
            "marker": {
             "colorbar": {
              "outlinewidth": 0,
              "ticks": ""
             }
            },
            "type": "scattergl"
           }
          ],
          "scattermapbox": [
           {
            "marker": {
             "colorbar": {
              "outlinewidth": 0,
              "ticks": ""
             }
            },
            "type": "scattermapbox"
           }
          ],
          "scatterpolar": [
           {
            "marker": {
             "colorbar": {
              "outlinewidth": 0,
              "ticks": ""
             }
            },
            "type": "scatterpolar"
           }
          ],
          "scatterpolargl": [
           {
            "marker": {
             "colorbar": {
              "outlinewidth": 0,
              "ticks": ""
             }
            },
            "type": "scatterpolargl"
           }
          ],
          "scatterternary": [
           {
            "marker": {
             "colorbar": {
              "outlinewidth": 0,
              "ticks": ""
             }
            },
            "type": "scatterternary"
           }
          ],
          "surface": [
           {
            "colorbar": {
             "outlinewidth": 0,
             "ticks": ""
            },
            "colorscale": [
             [
              0,
              "#0d0887"
             ],
             [
              0.1111111111111111,
              "#46039f"
             ],
             [
              0.2222222222222222,
              "#7201a8"
             ],
             [
              0.3333333333333333,
              "#9c179e"
             ],
             [
              0.4444444444444444,
              "#bd3786"
             ],
             [
              0.5555555555555556,
              "#d8576b"
             ],
             [
              0.6666666666666666,
              "#ed7953"
             ],
             [
              0.7777777777777778,
              "#fb9f3a"
             ],
             [
              0.8888888888888888,
              "#fdca26"
             ],
             [
              1,
              "#f0f921"
             ]
            ],
            "type": "surface"
           }
          ],
          "table": [
           {
            "cells": {
             "fill": {
              "color": "#EBF0F8"
             },
             "line": {
              "color": "white"
             }
            },
            "header": {
             "fill": {
              "color": "#C8D4E3"
             },
             "line": {
              "color": "white"
             }
            },
            "type": "table"
           }
          ]
         },
         "layout": {
          "annotationdefaults": {
           "arrowcolor": "#2a3f5f",
           "arrowhead": 0,
           "arrowwidth": 1
          },
          "autotypenumbers": "strict",
          "coloraxis": {
           "colorbar": {
            "outlinewidth": 0,
            "ticks": ""
           }
          },
          "colorscale": {
           "diverging": [
            [
             0,
             "#8e0152"
            ],
            [
             0.1,
             "#c51b7d"
            ],
            [
             0.2,
             "#de77ae"
            ],
            [
             0.3,
             "#f1b6da"
            ],
            [
             0.4,
             "#fde0ef"
            ],
            [
             0.5,
             "#f7f7f7"
            ],
            [
             0.6,
             "#e6f5d0"
            ],
            [
             0.7,
             "#b8e186"
            ],
            [
             0.8,
             "#7fbc41"
            ],
            [
             0.9,
             "#4d9221"
            ],
            [
             1,
             "#276419"
            ]
           ],
           "sequential": [
            [
             0,
             "#0d0887"
            ],
            [
             0.1111111111111111,
             "#46039f"
            ],
            [
             0.2222222222222222,
             "#7201a8"
            ],
            [
             0.3333333333333333,
             "#9c179e"
            ],
            [
             0.4444444444444444,
             "#bd3786"
            ],
            [
             0.5555555555555556,
             "#d8576b"
            ],
            [
             0.6666666666666666,
             "#ed7953"
            ],
            [
             0.7777777777777778,
             "#fb9f3a"
            ],
            [
             0.8888888888888888,
             "#fdca26"
            ],
            [
             1,
             "#f0f921"
            ]
           ],
           "sequentialminus": [
            [
             0,
             "#0d0887"
            ],
            [
             0.1111111111111111,
             "#46039f"
            ],
            [
             0.2222222222222222,
             "#7201a8"
            ],
            [
             0.3333333333333333,
             "#9c179e"
            ],
            [
             0.4444444444444444,
             "#bd3786"
            ],
            [
             0.5555555555555556,
             "#d8576b"
            ],
            [
             0.6666666666666666,
             "#ed7953"
            ],
            [
             0.7777777777777778,
             "#fb9f3a"
            ],
            [
             0.8888888888888888,
             "#fdca26"
            ],
            [
             1,
             "#f0f921"
            ]
           ]
          },
          "colorway": [
           "#636efa",
           "#EF553B",
           "#00cc96",
           "#ab63fa",
           "#FFA15A",
           "#19d3f3",
           "#FF6692",
           "#B6E880",
           "#FF97FF",
           "#FECB52"
          ],
          "font": {
           "color": "#2a3f5f"
          },
          "geo": {
           "bgcolor": "white",
           "lakecolor": "white",
           "landcolor": "#E5ECF6",
           "showlakes": true,
           "showland": true,
           "subunitcolor": "white"
          },
          "hoverlabel": {
           "align": "left"
          },
          "hovermode": "closest",
          "mapbox": {
           "style": "light"
          },
          "paper_bgcolor": "white",
          "plot_bgcolor": "#E5ECF6",
          "polar": {
           "angularaxis": {
            "gridcolor": "white",
            "linecolor": "white",
            "ticks": ""
           },
           "bgcolor": "#E5ECF6",
           "radialaxis": {
            "gridcolor": "white",
            "linecolor": "white",
            "ticks": ""
           }
          },
          "scene": {
           "xaxis": {
            "backgroundcolor": "#E5ECF6",
            "gridcolor": "white",
            "gridwidth": 2,
            "linecolor": "white",
            "showbackground": true,
            "ticks": "",
            "zerolinecolor": "white"
           },
           "yaxis": {
            "backgroundcolor": "#E5ECF6",
            "gridcolor": "white",
            "gridwidth": 2,
            "linecolor": "white",
            "showbackground": true,
            "ticks": "",
            "zerolinecolor": "white"
           },
           "zaxis": {
            "backgroundcolor": "#E5ECF6",
            "gridcolor": "white",
            "gridwidth": 2,
            "linecolor": "white",
            "showbackground": true,
            "ticks": "",
            "zerolinecolor": "white"
           }
          },
          "shapedefaults": {
           "line": {
            "color": "#2a3f5f"
           }
          },
          "ternary": {
           "aaxis": {
            "gridcolor": "white",
            "linecolor": "white",
            "ticks": ""
           },
           "baxis": {
            "gridcolor": "white",
            "linecolor": "white",
            "ticks": ""
           },
           "bgcolor": "#E5ECF6",
           "caxis": {
            "gridcolor": "white",
            "linecolor": "white",
            "ticks": ""
           }
          },
          "title": {
           "x": 0.05
          },
          "xaxis": {
           "automargin": true,
           "gridcolor": "white",
           "linecolor": "white",
           "ticks": "",
           "title": {
            "standoff": 15
           },
           "zerolinecolor": "white",
           "zerolinewidth": 2
          },
          "yaxis": {
           "automargin": true,
           "gridcolor": "white",
           "linecolor": "white",
           "ticks": "",
           "title": {
            "standoff": 15
           },
           "zerolinecolor": "white",
           "zerolinewidth": 2
          }
         }
        },
        "title": {
         "text": "t-SNE plot colored by Total Cup Points"
        },
        "xaxis": {
         "anchor": "y",
         "domain": [
          0,
          1
         ],
         "title": {
          "text": "Dim_1"
         }
        },
        "yaxis": {
         "anchor": "x",
         "domain": [
          0,
          1
         ],
         "title": {
          "text": "Dim_2"
         }
        }
       }
      },
      "text/html": [
       "<div>                            <div id=\"2ad99f76-bcb7-48be-b6dd-3aa0da3b4655\" class=\"plotly-graph-div\" style=\"height:525px; width:100%;\"></div>            <script type=\"text/javascript\">                require([\"plotly\"], function(Plotly) {                    window.PLOTLYENV=window.PLOTLYENV || {};                                    if (document.getElementById(\"2ad99f76-bcb7-48be-b6dd-3aa0da3b4655\")) {                    Plotly.newPlot(                        \"2ad99f76-bcb7-48be-b6dd-3aa0da3b4655\",                        [{\"hovertemplate\":\"Dim_1=%{x}<br>Dim_2=%{y}<br>Total Cup Points=%{marker.color}<extra></extra>\",\"legendgroup\":\"\",\"marker\":{\"color\":[89.33,87.58,87.42,87.42,87.25,87.17,87.08,87.0,86.92,86.75,86.67,86.58,86.5,86.33,86.25,86.25,86.17,86.17,86.17,86.08,86.08,86.08,85.92,85.83,85.75,85.75,85.67,85.67,85.67,85.58,85.5,85.5,85.5,85.5,85.42,85.42,85.33,85.33,85.25,85.25,85.25,85.25,85.17,85.08,85.08,85.08,85.0,85.0,85.0,85.0,85.0,84.92,84.83,84.83,84.83,84.83,84.83,84.75,84.75,84.75,84.75,84.67,84.67,84.67,84.58,84.58,84.58,84.58,84.5,84.5,84.5,84.5,84.5,84.42,84.33,84.33,84.33,84.33,84.33,84.33,84.25,84.25,84.25,84.25,84.25,84.25,84.17,84.08,84.08,84.08,84.08,84.08,84.0,84.0,84.0,84.0,84.0,84.0,83.92,83.92,83.92,83.92,83.83,83.83,83.83,83.83,83.75,83.75,83.67,83.67,83.67,83.67,83.67,83.67,83.58,83.58,83.58,83.5,83.5,83.5,83.5,83.5,83.42,83.42,83.33,83.33,83.33,83.33,83.33,83.33,83.33,83.33,83.25,83.25,83.25,83.25,83.25,83.25,83.25,83.17,83.17,83.17,83.08,83.08,83.0,82.92,82.92,82.92,82.83,82.83,82.75,82.75,82.67,82.67,82.67,82.58,82.58,82.5,82.5,82.5,82.5,82.5,82.42,82.33,82.33,82.33,82.25,82.17,82.17,82.08,82.08,82.0,82.0,82.0,82.0,82.0,81.92,81.92,81.83,81.83,81.83,81.75,81.75,81.67,81.58,81.58,81.5,81.42,81.33,81.17,81.17,81.0,80.83,80.58,80.5,80.42,80.42,80.33,80.17,80.08,80.0,80.0,79.67,78.08,78.0,74.0],\"coloraxis\":\"coloraxis\",\"symbol\":\"circle\"},\"mode\":\"markers\",\"name\":\"\",\"orientation\":\"v\",\"showlegend\":false,\"x\":[-7.0322585,1.9063529,0.69391286,-3.0211632,-3.025853,-6.237013,-3.6736343,-4.2000384,4.104602,6.0369196,4.812904,-3.0300078,5.3140426,-3.0334206,-4.415158,4.1834555,-2.9995017,-6.7961025,-6.9175735,6.5687103,-4.6041527,4.0901575,3.24429,5.3078284,-2.69639,6.693322,3.716881,-7.0785413,4.144271,2.2410312,3.924079,-7.220079,1.836138,4.1673656,2.2083714,6.25497,-3.0378249,4.1151752,-4.1486363,2.213052,-2.9470372,-2.3292603,2.2584143,3.2114534,4.7165103,5.1829042,3.7122457,-4.1959424,-4.0522656,6.044178,5.9173007,4.108278,-4.1669283,3.0482342,3.1889253,4.70692,5.288556,-7.503462,4.1447773,1.8079755,1.1061095,-6.109522,0.86083573,-3.7866838,4.1001835,6.2295985,3.7829175,4.6550612,3.585752,-4.60846,2.1609168,-6.1077576,-3.4756076,2.1570475,7.1284666,-4.01075,0.45924252,-5.7874203,-3.7963238,-3.041443,5.9189467,-3.8006868,-3.094319,6.681006,-3.7358925,-4.379937,-3.45926,4.5988,-3.7474213,-4.177936,-6.6948686,5.609003,5.29356,-3.4660182,-6.7023387,-4.5945697,-3.7221644,5.295544,-6.08164,-4.188283,6.9237294,-3.370986,-4.6220345,-6.6852255,-6.7230806,6.2533374,-6.2382913,0.36035052,0.8037464,4.5240555,-5.0232897,-2.6219754,2.072431,-6.239862,3.8507829,3.8761442,-3.6870754,-7.3691525,-3.4219656,-4.183061,6.6774945,5.479662,1.8091094,5.917422,-6.23557,5.9201336,-3.6380715,6.889927,4.479696,3.5253935,-6.0507183,-4.165218,-4.5784574,-3.1703124,5.3517694,-7.06184,-3.1741438,-7.123047,3.7830162,1.7483622,4.461819,3.779258,-3.155345,-2.4312053,-7.3729043,1.7249025,0.37947088,6.588395,-3.139734,6.874056,-5.3919706,1.0332737,5.8277864,-6.665103,-3.129107,3.476282,1.71012,-5.37201,0.52815855,-7.5945706,3.8934276,3.6749096,0.86779463,3.4813282,-5.377095,-6.8492837,2.968301,-2.59673,6.2464156,1.9852759,4.372627,5.495241,-5.98112,-4.1671944,-5.600255,3.5137703,-3.317269,2.9664059,6.493558,5.925914,3.5780425,-3.7118244,-3.8867772,0.38515988,6.592486,-6.011995,3.4798746,5.517636,6.9302816,-6.2303596,5.505041,-6.705554,-6.8568993,-2.8589272,1.1187476,1.0575624,-6.238974,-6.8618894,-6.7058506,-7.070835,0.8666188,1.0580986,-2.0796947,-6.8750677,-7.420606,-5.0273695],\"xaxis\":\"x\",\"y\":[2.0718591,-10.942159,-2.4730468,2.6198068,2.617611,1.7150482,3.4494803,-0.4301217,-9.0136,-6.504216,-7.8902364,2.6171455,-8.454691,2.6188483,-0.8196137,-8.898178,2.7831984,2.1576498,-0.34150916,-6.3316436,0.43688807,-8.90785,-9.316825,-8.467375,2.9075239,-10.706862,-10.834104,1.7445519,-8.833073,-10.607208,-8.838476,2.4969923,-10.8240795,-8.749487,-10.560582,-10.692195,2.6178186,-8.765943,0.9374698,-10.568718,-1.3659179,-1.6276644,-10.679541,-9.264205,-7.8505163,-7.2196236,-8.699954,-0.39526322,-0.25745213,-6.5028696,-10.320613,-8.549899,-2.2367115,-6.7078404,-9.226664,-7.8402743,-8.498493,2.8132608,-8.581724,-10.788891,-9.212562,1.8207017,-2.6325002,-0.044294473,-8.506276,-11.084826,-8.660242,-7.7981133,-8.582063,0.4827879,-10.50383,1.8299211,-0.9216094,-10.501121,-6.703799,-0.18724358,-4.927311,0.8336233,-0.037016395,2.6145253,-10.304073,-0.04506203,-3.2616427,-10.705958,-0.034321934,-2.3418088,-0.9135922,-7.7226815,-0.026413139,-0.3912265,2.2584233,-6.7886586,-8.502578,-0.9190008,2.2655387,0.48432446,-0.0254869,-8.506161,1.852147,-0.4162724,-6.461345,0.42817637,0.49918264,2.2671163,2.2778087,-10.6720295,2.7646005,-4.9920506,-5.094941,-7.656653,1.6381748,0.20369363,-10.411788,2.7908921,-8.223973,-8.221318,-0.014638969,0.71207654,-0.91137296,0.96935445,-10.703215,-9.767226,-10.788062,-10.300628,2.7858713,-10.303172,0.01058835,-6.491519,-7.601759,-8.368945,1.873079,-0.4124896,-1.9783201,-0.71047986,-8.492586,1.7481594,-0.6961664,2.6240523,-8.168572,-10.72001,-7.579209,-7.0822253,-0.68912435,-2.5414968,0.7083491,-10.698525,-4.9991446,-6.3207946,-0.6856206,-6.4884553,2.730531,-5.64161,-9.318873,2.339019,-0.6773398,-8.237803,-10.686308,1.257995,-4.828533,1.0299951,-11.517721,-8.041687,-8.648961,-8.153867,1.2309057,-0.16179597,-6.6749935,-1.8533986,-10.669415,-10.366088,-7.469005,-9.775945,1.9541789,-2.2445066,-1.560329,-8.054417,0.41859478,-6.676536,-10.90717,-10.282749,-7.9984756,3.4629533,3.5631468,-5.005533,-6.3233657,1.921598,-8.007308,-9.781989,-6.4624963,2.8561244,-9.784635,3.1297889,-0.19334522,-1.417172,-5.5278945,-5.6475,2.901104,-0.20119584,3.154182,2.8153212,-2.6424456,-5.653039,-2.4451811,-0.23523057,3.1179223,1.7059058],\"yaxis\":\"y\",\"type\":\"scatter\"}],                        {\"template\":{\"data\":{\"histogram2dcontour\":[{\"type\":\"histogram2dcontour\",\"colorbar\":{\"outlinewidth\":0,\"ticks\":\"\"},\"colorscale\":[[0.0,\"#0d0887\"],[0.1111111111111111,\"#46039f\"],[0.2222222222222222,\"#7201a8\"],[0.3333333333333333,\"#9c179e\"],[0.4444444444444444,\"#bd3786\"],[0.5555555555555556,\"#d8576b\"],[0.6666666666666666,\"#ed7953\"],[0.7777777777777778,\"#fb9f3a\"],[0.8888888888888888,\"#fdca26\"],[1.0,\"#f0f921\"]]}],\"choropleth\":[{\"type\":\"choropleth\",\"colorbar\":{\"outlinewidth\":0,\"ticks\":\"\"}}],\"histogram2d\":[{\"type\":\"histogram2d\",\"colorbar\":{\"outlinewidth\":0,\"ticks\":\"\"},\"colorscale\":[[0.0,\"#0d0887\"],[0.1111111111111111,\"#46039f\"],[0.2222222222222222,\"#7201a8\"],[0.3333333333333333,\"#9c179e\"],[0.4444444444444444,\"#bd3786\"],[0.5555555555555556,\"#d8576b\"],[0.6666666666666666,\"#ed7953\"],[0.7777777777777778,\"#fb9f3a\"],[0.8888888888888888,\"#fdca26\"],[1.0,\"#f0f921\"]]}],\"heatmap\":[{\"type\":\"heatmap\",\"colorbar\":{\"outlinewidth\":0,\"ticks\":\"\"},\"colorscale\":[[0.0,\"#0d0887\"],[0.1111111111111111,\"#46039f\"],[0.2222222222222222,\"#7201a8\"],[0.3333333333333333,\"#9c179e\"],[0.4444444444444444,\"#bd3786\"],[0.5555555555555556,\"#d8576b\"],[0.6666666666666666,\"#ed7953\"],[0.7777777777777778,\"#fb9f3a\"],[0.8888888888888888,\"#fdca26\"],[1.0,\"#f0f921\"]]}],\"heatmapgl\":[{\"type\":\"heatmapgl\",\"colorbar\":{\"outlinewidth\":0,\"ticks\":\"\"},\"colorscale\":[[0.0,\"#0d0887\"],[0.1111111111111111,\"#46039f\"],[0.2222222222222222,\"#7201a8\"],[0.3333333333333333,\"#9c179e\"],[0.4444444444444444,\"#bd3786\"],[0.5555555555555556,\"#d8576b\"],[0.6666666666666666,\"#ed7953\"],[0.7777777777777778,\"#fb9f3a\"],[0.8888888888888888,\"#fdca26\"],[1.0,\"#f0f921\"]]}],\"contourcarpet\":[{\"type\":\"contourcarpet\",\"colorbar\":{\"outlinewidth\":0,\"ticks\":\"\"}}],\"contour\":[{\"type\":\"contour\",\"colorbar\":{\"outlinewidth\":0,\"ticks\":\"\"},\"colorscale\":[[0.0,\"#0d0887\"],[0.1111111111111111,\"#46039f\"],[0.2222222222222222,\"#7201a8\"],[0.3333333333333333,\"#9c179e\"],[0.4444444444444444,\"#bd3786\"],[0.5555555555555556,\"#d8576b\"],[0.6666666666666666,\"#ed7953\"],[0.7777777777777778,\"#fb9f3a\"],[0.8888888888888888,\"#fdca26\"],[1.0,\"#f0f921\"]]}],\"surface\":[{\"type\":\"surface\",\"colorbar\":{\"outlinewidth\":0,\"ticks\":\"\"},\"colorscale\":[[0.0,\"#0d0887\"],[0.1111111111111111,\"#46039f\"],[0.2222222222222222,\"#7201a8\"],[0.3333333333333333,\"#9c179e\"],[0.4444444444444444,\"#bd3786\"],[0.5555555555555556,\"#d8576b\"],[0.6666666666666666,\"#ed7953\"],[0.7777777777777778,\"#fb9f3a\"],[0.8888888888888888,\"#fdca26\"],[1.0,\"#f0f921\"]]}],\"mesh3d\":[{\"type\":\"mesh3d\",\"colorbar\":{\"outlinewidth\":0,\"ticks\":\"\"}}],\"scatter\":[{\"fillpattern\":{\"fillmode\":\"overlay\",\"size\":10,\"solidity\":0.2},\"type\":\"scatter\"}],\"parcoords\":[{\"type\":\"parcoords\",\"line\":{\"colorbar\":{\"outlinewidth\":0,\"ticks\":\"\"}}}],\"scatterpolargl\":[{\"type\":\"scatterpolargl\",\"marker\":{\"colorbar\":{\"outlinewidth\":0,\"ticks\":\"\"}}}],\"bar\":[{\"error_x\":{\"color\":\"#2a3f5f\"},\"error_y\":{\"color\":\"#2a3f5f\"},\"marker\":{\"line\":{\"color\":\"#E5ECF6\",\"width\":0.5},\"pattern\":{\"fillmode\":\"overlay\",\"size\":10,\"solidity\":0.2}},\"type\":\"bar\"}],\"scattergeo\":[{\"type\":\"scattergeo\",\"marker\":{\"colorbar\":{\"outlinewidth\":0,\"ticks\":\"\"}}}],\"scatterpolar\":[{\"type\":\"scatterpolar\",\"marker\":{\"colorbar\":{\"outlinewidth\":0,\"ticks\":\"\"}}}],\"histogram\":[{\"marker\":{\"pattern\":{\"fillmode\":\"overlay\",\"size\":10,\"solidity\":0.2}},\"type\":\"histogram\"}],\"scattergl\":[{\"type\":\"scattergl\",\"marker\":{\"colorbar\":{\"outlinewidth\":0,\"ticks\":\"\"}}}],\"scatter3d\":[{\"type\":\"scatter3d\",\"line\":{\"colorbar\":{\"outlinewidth\":0,\"ticks\":\"\"}},\"marker\":{\"colorbar\":{\"outlinewidth\":0,\"ticks\":\"\"}}}],\"scattermapbox\":[{\"type\":\"scattermapbox\",\"marker\":{\"colorbar\":{\"outlinewidth\":0,\"ticks\":\"\"}}}],\"scatterternary\":[{\"type\":\"scatterternary\",\"marker\":{\"colorbar\":{\"outlinewidth\":0,\"ticks\":\"\"}}}],\"scattercarpet\":[{\"type\":\"scattercarpet\",\"marker\":{\"colorbar\":{\"outlinewidth\":0,\"ticks\":\"\"}}}],\"carpet\":[{\"aaxis\":{\"endlinecolor\":\"#2a3f5f\",\"gridcolor\":\"white\",\"linecolor\":\"white\",\"minorgridcolor\":\"white\",\"startlinecolor\":\"#2a3f5f\"},\"baxis\":{\"endlinecolor\":\"#2a3f5f\",\"gridcolor\":\"white\",\"linecolor\":\"white\",\"minorgridcolor\":\"white\",\"startlinecolor\":\"#2a3f5f\"},\"type\":\"carpet\"}],\"table\":[{\"cells\":{\"fill\":{\"color\":\"#EBF0F8\"},\"line\":{\"color\":\"white\"}},\"header\":{\"fill\":{\"color\":\"#C8D4E3\"},\"line\":{\"color\":\"white\"}},\"type\":\"table\"}],\"barpolar\":[{\"marker\":{\"line\":{\"color\":\"#E5ECF6\",\"width\":0.5},\"pattern\":{\"fillmode\":\"overlay\",\"size\":10,\"solidity\":0.2}},\"type\":\"barpolar\"}],\"pie\":[{\"automargin\":true,\"type\":\"pie\"}]},\"layout\":{\"autotypenumbers\":\"strict\",\"colorway\":[\"#636efa\",\"#EF553B\",\"#00cc96\",\"#ab63fa\",\"#FFA15A\",\"#19d3f3\",\"#FF6692\",\"#B6E880\",\"#FF97FF\",\"#FECB52\"],\"font\":{\"color\":\"#2a3f5f\"},\"hovermode\":\"closest\",\"hoverlabel\":{\"align\":\"left\"},\"paper_bgcolor\":\"white\",\"plot_bgcolor\":\"#E5ECF6\",\"polar\":{\"bgcolor\":\"#E5ECF6\",\"angularaxis\":{\"gridcolor\":\"white\",\"linecolor\":\"white\",\"ticks\":\"\"},\"radialaxis\":{\"gridcolor\":\"white\",\"linecolor\":\"white\",\"ticks\":\"\"}},\"ternary\":{\"bgcolor\":\"#E5ECF6\",\"aaxis\":{\"gridcolor\":\"white\",\"linecolor\":\"white\",\"ticks\":\"\"},\"baxis\":{\"gridcolor\":\"white\",\"linecolor\":\"white\",\"ticks\":\"\"},\"caxis\":{\"gridcolor\":\"white\",\"linecolor\":\"white\",\"ticks\":\"\"}},\"coloraxis\":{\"colorbar\":{\"outlinewidth\":0,\"ticks\":\"\"}},\"colorscale\":{\"sequential\":[[0.0,\"#0d0887\"],[0.1111111111111111,\"#46039f\"],[0.2222222222222222,\"#7201a8\"],[0.3333333333333333,\"#9c179e\"],[0.4444444444444444,\"#bd3786\"],[0.5555555555555556,\"#d8576b\"],[0.6666666666666666,\"#ed7953\"],[0.7777777777777778,\"#fb9f3a\"],[0.8888888888888888,\"#fdca26\"],[1.0,\"#f0f921\"]],\"sequentialminus\":[[0.0,\"#0d0887\"],[0.1111111111111111,\"#46039f\"],[0.2222222222222222,\"#7201a8\"],[0.3333333333333333,\"#9c179e\"],[0.4444444444444444,\"#bd3786\"],[0.5555555555555556,\"#d8576b\"],[0.6666666666666666,\"#ed7953\"],[0.7777777777777778,\"#fb9f3a\"],[0.8888888888888888,\"#fdca26\"],[1.0,\"#f0f921\"]],\"diverging\":[[0,\"#8e0152\"],[0.1,\"#c51b7d\"],[0.2,\"#de77ae\"],[0.3,\"#f1b6da\"],[0.4,\"#fde0ef\"],[0.5,\"#f7f7f7\"],[0.6,\"#e6f5d0\"],[0.7,\"#b8e186\"],[0.8,\"#7fbc41\"],[0.9,\"#4d9221\"],[1,\"#276419\"]]},\"xaxis\":{\"gridcolor\":\"white\",\"linecolor\":\"white\",\"ticks\":\"\",\"title\":{\"standoff\":15},\"zerolinecolor\":\"white\",\"automargin\":true,\"zerolinewidth\":2},\"yaxis\":{\"gridcolor\":\"white\",\"linecolor\":\"white\",\"ticks\":\"\",\"title\":{\"standoff\":15},\"zerolinecolor\":\"white\",\"automargin\":true,\"zerolinewidth\":2},\"scene\":{\"xaxis\":{\"backgroundcolor\":\"#E5ECF6\",\"gridcolor\":\"white\",\"linecolor\":\"white\",\"showbackground\":true,\"ticks\":\"\",\"zerolinecolor\":\"white\",\"gridwidth\":2},\"yaxis\":{\"backgroundcolor\":\"#E5ECF6\",\"gridcolor\":\"white\",\"linecolor\":\"white\",\"showbackground\":true,\"ticks\":\"\",\"zerolinecolor\":\"white\",\"gridwidth\":2},\"zaxis\":{\"backgroundcolor\":\"#E5ECF6\",\"gridcolor\":\"white\",\"linecolor\":\"white\",\"showbackground\":true,\"ticks\":\"\",\"zerolinecolor\":\"white\",\"gridwidth\":2}},\"shapedefaults\":{\"line\":{\"color\":\"#2a3f5f\"}},\"annotationdefaults\":{\"arrowcolor\":\"#2a3f5f\",\"arrowhead\":0,\"arrowwidth\":1},\"geo\":{\"bgcolor\":\"white\",\"landcolor\":\"#E5ECF6\",\"subunitcolor\":\"white\",\"showland\":true,\"showlakes\":true,\"lakecolor\":\"white\"},\"title\":{\"x\":0.05},\"mapbox\":{\"style\":\"light\"}}},\"xaxis\":{\"anchor\":\"y\",\"domain\":[0.0,1.0],\"title\":{\"text\":\"Dim_1\"}},\"yaxis\":{\"anchor\":\"x\",\"domain\":[0.0,1.0],\"title\":{\"text\":\"Dim_2\"}},\"coloraxis\":{\"colorbar\":{\"title\":{\"text\":\"Total Cup Points\"}},\"colorscale\":[[0.0,\"#0d0887\"],[0.1111111111111111,\"#46039f\"],[0.2222222222222222,\"#7201a8\"],[0.3333333333333333,\"#9c179e\"],[0.4444444444444444,\"#bd3786\"],[0.5555555555555556,\"#d8576b\"],[0.6666666666666666,\"#ed7953\"],[0.7777777777777778,\"#fb9f3a\"],[0.8888888888888888,\"#fdca26\"],[1.0,\"#f0f921\"]]},\"legend\":{\"tracegroupgap\":0},\"title\":{\"text\":\"t-SNE plot colored by Total Cup Points\"}},                        {\"responsive\": true}                    ).then(function(){\n",
       "                            \n",
       "var gd = document.getElementById('2ad99f76-bcb7-48be-b6dd-3aa0da3b4655');\n",
       "var x = new MutationObserver(function (mutations, observer) {{\n",
       "        var display = window.getComputedStyle(gd).display;\n",
       "        if (!display || display === 'none') {{\n",
       "            console.log([gd, 'removed!']);\n",
       "            Plotly.purge(gd);\n",
       "            observer.disconnect();\n",
       "        }}\n",
       "}});\n",
       "\n",
       "// Listen for the removal of the full notebook cells\n",
       "var notebookContainer = gd.closest('#notebook-container');\n",
       "if (notebookContainer) {{\n",
       "    x.observe(notebookContainer, {childList: true});\n",
       "}}\n",
       "\n",
       "// Listen for the clearing of the current output cell\n",
       "var outputEl = gd.closest('.output');\n",
       "if (outputEl) {{\n",
       "    x.observe(outputEl, {childList: true});\n",
       "}}\n",
       "\n",
       "                        })                };                });            </script>        </div>"
      ]
     },
     "metadata": {},
     "output_type": "display_data"
    }
   ],
   "source": [
    "# Create a copy of the dataframe to not alter the original\n",
    "df_preprocessed = df.copy()\n",
    "\n",
    "# Preprocessing: Label encoding for categorical variables\n",
    "le = LabelEncoder()\n",
    "categorical_features = ['Country of Origin', 'Processing Method', 'Color']\n",
    "for feature in categorical_features:\n",
    "    df_preprocessed[feature] = le.fit_transform(df[feature])\n",
    "\n",
    "# Preprocessing: MinMax scaling for numerical/ratio variables\n",
    "mm = MinMaxScaler()\n",
    "numerical_features = ['Altitude', 'Aroma', 'Flavor', 'Aftertaste', 'Acidity', 'Body', 'Balance', 'Overall', 'Total Cup Points', 'Moisture Percentage', 'Category One Defects', 'Quakers', 'Category Two Defects', 'Coffee Age']\n",
    "for feature in numerical_features:\n",
    "    df_preprocessed[feature] = mm.fit_transform(df[feature].values.reshape(-1,1))\n",
    "    \n",
    "# Apply t-SNE with different perplexity and learning rate\n",
    "tsne = TSNE(n_components=2, random_state=42, perplexity=50, learning_rate=200)\n",
    "tsne_results = tsne.fit_transform(df_preprocessed)\n",
    "\n",
    "# Plotly Interactive plot\n",
    "df_tsne = pd.DataFrame(data = tsne_results, columns = ['Dim_1', 'Dim_2'])\n",
    "df_tsne['Total Cup Points'] = df['Total Cup Points']\n",
    "fig = px.scatter(df_tsne, x='Dim_1', y='Dim_2', color='Total Cup Points', title='t-SNE plot colored by Total Cup Points')\n",
    "fig.show()    "
   ]
  },
  {
   "cell_type": "markdown",
   "id": "4874e709",
   "metadata": {},
   "source": [
    "From the plot, we can observe the following:\n",
    "\n",
    "Clusters: The points on the plot seem to form clusters, which could suggest that there are groups of coffee samples with similar characteristics in your dataset.\n",
    "Color Gradient: The color gradient, which represents the 'Total Cup Points', shows a clear pattern across the clusters. This suggests that the coffee quality varies within each cluster.\n",
    "Outliers: There don't appear to be any clear outliers in the plot, suggesting that most of the coffee samples have similar characteristics.\n",
    "\n",
    "## <div style=\"padding: 20px;color:white;margin:10;font-size:90%;text-align:left;display:fill;border-radius:10px;overflow:hidden;background-image: url(https://w0.peakpx.com/wallpaper/957/661/HD-wallpaper-white-marble-white-stone-texture-marble-stone-background-white-stone.jpg)\"><b><span style='color:black'> 2. Score Prediction</span></b> </div>"
   ]
  },
  {
   "cell_type": "code",
   "execution_count": null,
   "id": "5acb298f",
   "metadata": {},
   "outputs": [],
   "source": [
    "df.head()\n",
    "df.drop(columns_to_drop, axis=1, inplace=True)"
   ]
  },
  {
   "cell_type": "code",
   "execution_count": null,
   "id": "1e9705ea",
   "metadata": {},
   "outputs": [],
   "source": [
    "categorical_columns = ['Processing Method']\n",
    "numerical_columns = ['Altitude', 'Aroma', 'Flavor', 'Aftertaste', 'Acidity', 'Body', 'Balance', 'Overall', 'Total Cup Points', 'Moisture Percentage', 'Category One Defects', 'Quakers', 'Category Two Defects', 'Coffee Age']\n",
    "\n",
    "# Define preprocessor\n",
    "preprocessor = ColumnTransformer(\n",
    "    transformers=[\n",
    "        ('num', MinMaxScaler(), [col for col in numerical_columns if col != 'Total Cup Points']),\n",
    "        ('cat', OneHotEncoder(), categorical_columns)])"
   ]
  },
  {
   "cell_type": "code",
   "execution_count": null,
   "id": "9965f7dc",
   "metadata": {},
   "outputs": [],
   "source": [
    "# preprocessor"
   ]
  },
  {
   "cell_type": "code",
   "execution_count": null,
   "id": "b5f3ca4b",
   "metadata": {},
   "outputs": [],
   "source": [
    "# Append classifier to preprocessing pipeline.\n",
    "clf = Pipeline(steps=[('preprocessor', preprocessor),\n",
    "                      ('classifier', RandomForestRegressor(n_estimators=100, random_state=42))])\n",
    "\n",
    "# Split the data into train and test sets\n",
    "X = df.drop('Total Cup Points', axis=1)\n",
    "y = df['Total Cup Points']\n",
    "X_train, X_test, y_train, y_test = train_test_split(X, y, test_size=0.2, random_state=42)"
   ]
  },
  {
   "cell_type": "code",
   "execution_count": null,
   "id": "56771a8b",
   "metadata": {},
   "outputs": [
    {
     "data": {
      "text/html": [
       "<style>#sk-container-id-7 {color: black;background-color: white;}#sk-container-id-7 pre{padding: 0;}#sk-container-id-7 div.sk-toggleable {background-color: white;}#sk-container-id-7 label.sk-toggleable__label {cursor: pointer;display: block;width: 100%;margin-bottom: 0;padding: 0.3em;box-sizing: border-box;text-align: center;}#sk-container-id-7 label.sk-toggleable__label-arrow:before {content: \"▸\";float: left;margin-right: 0.25em;color: #696969;}#sk-container-id-7 label.sk-toggleable__label-arrow:hover:before {color: black;}#sk-container-id-7 div.sk-estimator:hover label.sk-toggleable__label-arrow:before {color: black;}#sk-container-id-7 div.sk-toggleable__content {max-height: 0;max-width: 0;overflow: hidden;text-align: left;background-color: #f0f8ff;}#sk-container-id-7 div.sk-toggleable__content pre {margin: 0.2em;color: black;border-radius: 0.25em;background-color: #f0f8ff;}#sk-container-id-7 input.sk-toggleable__control:checked~div.sk-toggleable__content {max-height: 200px;max-width: 100%;overflow: auto;}#sk-container-id-7 input.sk-toggleable__control:checked~label.sk-toggleable__label-arrow:before {content: \"▾\";}#sk-container-id-7 div.sk-estimator input.sk-toggleable__control:checked~label.sk-toggleable__label {background-color: #d4ebff;}#sk-container-id-7 div.sk-label input.sk-toggleable__control:checked~label.sk-toggleable__label {background-color: #d4ebff;}#sk-container-id-7 input.sk-hidden--visually {border: 0;clip: rect(1px 1px 1px 1px);clip: rect(1px, 1px, 1px, 1px);height: 1px;margin: -1px;overflow: hidden;padding: 0;position: absolute;width: 1px;}#sk-container-id-7 div.sk-estimator {font-family: monospace;background-color: #f0f8ff;border: 1px dotted black;border-radius: 0.25em;box-sizing: border-box;margin-bottom: 0.5em;}#sk-container-id-7 div.sk-estimator:hover {background-color: #d4ebff;}#sk-container-id-7 div.sk-parallel-item::after {content: \"\";width: 100%;border-bottom: 1px solid gray;flex-grow: 1;}#sk-container-id-7 div.sk-label:hover label.sk-toggleable__label {background-color: #d4ebff;}#sk-container-id-7 div.sk-serial::before {content: \"\";position: absolute;border-left: 1px solid gray;box-sizing: border-box;top: 0;bottom: 0;left: 50%;z-index: 0;}#sk-container-id-7 div.sk-serial {display: flex;flex-direction: column;align-items: center;background-color: white;padding-right: 0.2em;padding-left: 0.2em;position: relative;}#sk-container-id-7 div.sk-item {position: relative;z-index: 1;}#sk-container-id-7 div.sk-parallel {display: flex;align-items: stretch;justify-content: center;background-color: white;position: relative;}#sk-container-id-7 div.sk-item::before, #sk-container-id-7 div.sk-parallel-item::before {content: \"\";position: absolute;border-left: 1px solid gray;box-sizing: border-box;top: 0;bottom: 0;left: 50%;z-index: -1;}#sk-container-id-7 div.sk-parallel-item {display: flex;flex-direction: column;z-index: 1;position: relative;background-color: white;}#sk-container-id-7 div.sk-parallel-item:first-child::after {align-self: flex-end;width: 50%;}#sk-container-id-7 div.sk-parallel-item:last-child::after {align-self: flex-start;width: 50%;}#sk-container-id-7 div.sk-parallel-item:only-child::after {width: 0;}#sk-container-id-7 div.sk-dashed-wrapped {border: 1px dashed gray;margin: 0 0.4em 0.5em 0.4em;box-sizing: border-box;padding-bottom: 0.4em;background-color: white;}#sk-container-id-7 div.sk-label label {font-family: monospace;font-weight: bold;display: inline-block;line-height: 1.2em;}#sk-container-id-7 div.sk-label-container {text-align: center;}#sk-container-id-7 div.sk-container {/* jupyter's `normalize.less` sets `[hidden] { display: none; }` but bootstrap.min.css set `[hidden] { display: none !important; }` so we also need the `!important` here to be able to override the default hidden behavior on the sphinx rendered scikit-learn.org. See: https://github.com/scikit-learn/scikit-learn/issues/21755 */display: inline-block !important;position: relative;}#sk-container-id-7 div.sk-text-repr-fallback {display: none;}</style><div id=\"sk-container-id-7\" class=\"sk-top-container\"><div class=\"sk-text-repr-fallback\"><pre>Pipeline(steps=[(&#x27;preprocessor&#x27;,\n",
       "                 ColumnTransformer(transformers=[(&#x27;num&#x27;, MinMaxScaler(),\n",
       "                                                  [&#x27;Altitude&#x27;, &#x27;Aroma&#x27;,\n",
       "                                                   &#x27;Flavor&#x27;, &#x27;Aftertaste&#x27;,\n",
       "                                                   &#x27;Acidity&#x27;, &#x27;Body&#x27;, &#x27;Balance&#x27;,\n",
       "                                                   &#x27;Overall&#x27;,\n",
       "                                                   &#x27;Moisture Percentage&#x27;,\n",
       "                                                   &#x27;Category One Defects&#x27;,\n",
       "                                                   &#x27;Quakers&#x27;,\n",
       "                                                   &#x27;Category Two Defects&#x27;,\n",
       "                                                   &#x27;Coffee Age&#x27;]),\n",
       "                                                 (&#x27;cat&#x27;, OneHotEncoder(),\n",
       "                                                  [&#x27;Processing Method&#x27;])])),\n",
       "                (&#x27;classifier&#x27;, RandomForestRegressor(random_state=42))])</pre><b>In a Jupyter environment, please rerun this cell to show the HTML representation or trust the notebook. <br />On GitHub, the HTML representation is unable to render, please try loading this page with nbviewer.org.</b></div><div class=\"sk-container\" hidden><div class=\"sk-item sk-dashed-wrapped\"><div class=\"sk-label-container\"><div class=\"sk-label sk-toggleable\"><input class=\"sk-toggleable__control sk-hidden--visually\" id=\"sk-estimator-id-35\" type=\"checkbox\" ><label for=\"sk-estimator-id-35\" class=\"sk-toggleable__label sk-toggleable__label-arrow\">Pipeline</label><div class=\"sk-toggleable__content\"><pre>Pipeline(steps=[(&#x27;preprocessor&#x27;,\n",
       "                 ColumnTransformer(transformers=[(&#x27;num&#x27;, MinMaxScaler(),\n",
       "                                                  [&#x27;Altitude&#x27;, &#x27;Aroma&#x27;,\n",
       "                                                   &#x27;Flavor&#x27;, &#x27;Aftertaste&#x27;,\n",
       "                                                   &#x27;Acidity&#x27;, &#x27;Body&#x27;, &#x27;Balance&#x27;,\n",
       "                                                   &#x27;Overall&#x27;,\n",
       "                                                   &#x27;Moisture Percentage&#x27;,\n",
       "                                                   &#x27;Category One Defects&#x27;,\n",
       "                                                   &#x27;Quakers&#x27;,\n",
       "                                                   &#x27;Category Two Defects&#x27;,\n",
       "                                                   &#x27;Coffee Age&#x27;]),\n",
       "                                                 (&#x27;cat&#x27;, OneHotEncoder(),\n",
       "                                                  [&#x27;Processing Method&#x27;])])),\n",
       "                (&#x27;classifier&#x27;, RandomForestRegressor(random_state=42))])</pre></div></div></div><div class=\"sk-serial\"><div class=\"sk-item sk-dashed-wrapped\"><div class=\"sk-label-container\"><div class=\"sk-label sk-toggleable\"><input class=\"sk-toggleable__control sk-hidden--visually\" id=\"sk-estimator-id-36\" type=\"checkbox\" ><label for=\"sk-estimator-id-36\" class=\"sk-toggleable__label sk-toggleable__label-arrow\">preprocessor: ColumnTransformer</label><div class=\"sk-toggleable__content\"><pre>ColumnTransformer(transformers=[(&#x27;num&#x27;, MinMaxScaler(),\n",
       "                                 [&#x27;Altitude&#x27;, &#x27;Aroma&#x27;, &#x27;Flavor&#x27;, &#x27;Aftertaste&#x27;,\n",
       "                                  &#x27;Acidity&#x27;, &#x27;Body&#x27;, &#x27;Balance&#x27;, &#x27;Overall&#x27;,\n",
       "                                  &#x27;Moisture Percentage&#x27;, &#x27;Category One Defects&#x27;,\n",
       "                                  &#x27;Quakers&#x27;, &#x27;Category Two Defects&#x27;,\n",
       "                                  &#x27;Coffee Age&#x27;]),\n",
       "                                (&#x27;cat&#x27;, OneHotEncoder(),\n",
       "                                 [&#x27;Processing Method&#x27;])])</pre></div></div></div><div class=\"sk-parallel\"><div class=\"sk-parallel-item\"><div class=\"sk-item\"><div class=\"sk-label-container\"><div class=\"sk-label sk-toggleable\"><input class=\"sk-toggleable__control sk-hidden--visually\" id=\"sk-estimator-id-37\" type=\"checkbox\" ><label for=\"sk-estimator-id-37\" class=\"sk-toggleable__label sk-toggleable__label-arrow\">num</label><div class=\"sk-toggleable__content\"><pre>[&#x27;Altitude&#x27;, &#x27;Aroma&#x27;, &#x27;Flavor&#x27;, &#x27;Aftertaste&#x27;, &#x27;Acidity&#x27;, &#x27;Body&#x27;, &#x27;Balance&#x27;, &#x27;Overall&#x27;, &#x27;Moisture Percentage&#x27;, &#x27;Category One Defects&#x27;, &#x27;Quakers&#x27;, &#x27;Category Two Defects&#x27;, &#x27;Coffee Age&#x27;]</pre></div></div></div><div class=\"sk-serial\"><div class=\"sk-item\"><div class=\"sk-estimator sk-toggleable\"><input class=\"sk-toggleable__control sk-hidden--visually\" id=\"sk-estimator-id-38\" type=\"checkbox\" ><label for=\"sk-estimator-id-38\" class=\"sk-toggleable__label sk-toggleable__label-arrow\">MinMaxScaler</label><div class=\"sk-toggleable__content\"><pre>MinMaxScaler()</pre></div></div></div></div></div></div><div class=\"sk-parallel-item\"><div class=\"sk-item\"><div class=\"sk-label-container\"><div class=\"sk-label sk-toggleable\"><input class=\"sk-toggleable__control sk-hidden--visually\" id=\"sk-estimator-id-39\" type=\"checkbox\" ><label for=\"sk-estimator-id-39\" class=\"sk-toggleable__label sk-toggleable__label-arrow\">cat</label><div class=\"sk-toggleable__content\"><pre>[&#x27;Processing Method&#x27;]</pre></div></div></div><div class=\"sk-serial\"><div class=\"sk-item\"><div class=\"sk-estimator sk-toggleable\"><input class=\"sk-toggleable__control sk-hidden--visually\" id=\"sk-estimator-id-40\" type=\"checkbox\" ><label for=\"sk-estimator-id-40\" class=\"sk-toggleable__label sk-toggleable__label-arrow\">OneHotEncoder</label><div class=\"sk-toggleable__content\"><pre>OneHotEncoder()</pre></div></div></div></div></div></div></div></div><div class=\"sk-item\"><div class=\"sk-estimator sk-toggleable\"><input class=\"sk-toggleable__control sk-hidden--visually\" id=\"sk-estimator-id-41\" type=\"checkbox\" ><label for=\"sk-estimator-id-41\" class=\"sk-toggleable__label sk-toggleable__label-arrow\">RandomForestRegressor</label><div class=\"sk-toggleable__content\"><pre>RandomForestRegressor(random_state=42)</pre></div></div></div></div></div></div></div>"
      ],
      "text/plain": [
       "Pipeline(steps=[('preprocessor',\n",
       "                 ColumnTransformer(transformers=[('num', MinMaxScaler(),\n",
       "                                                  ['Altitude', 'Aroma',\n",
       "                                                   'Flavor', 'Aftertaste',\n",
       "                                                   'Acidity', 'Body', 'Balance',\n",
       "                                                   'Overall',\n",
       "                                                   'Moisture Percentage',\n",
       "                                                   'Category One Defects',\n",
       "                                                   'Quakers',\n",
       "                                                   'Category Two Defects',\n",
       "                                                   'Coffee Age']),\n",
       "                                                 ('cat', OneHotEncoder(),\n",
       "                                                  ['Processing Method'])])),\n",
       "                ('classifier', RandomForestRegressor(random_state=42))])"
      ]
     },
     "execution_count": null,
     "metadata": {},
     "output_type": "execute_result"
    }
   ],
   "source": [
    "# Train the model\n",
    "clf.fit(X_train, y_train)"
   ]
  },
  {
   "cell_type": "code",
   "execution_count": null,
   "id": "c1aea4e4",
   "metadata": {},
   "outputs": [],
   "source": [
    "# Predict on the test set\n",
    "y_pred = clf.predict(X_test)"
   ]
  },
  {
   "cell_type": "code",
   "execution_count": null,
   "id": "a9171c89",
   "metadata": {},
   "outputs": [
    {
     "name": "stdout",
     "output_type": "stream",
     "text": [
      "Mean Squared Error: 0.10131552999999942\n"
     ]
    }
   ],
   "source": [
    "# Evaluate the model\n",
    "mse = mean_squared_error(y_test, y_pred)\n",
    "print('Mean Squared Error:', mse)"
   ]
  },
  {
   "cell_type": "code",
   "execution_count": null,
   "id": "c6be0630",
   "metadata": {},
   "outputs": [
    {
     "data": {
      "image/png": "[encoded data removed]",
      "text/plain": [
       "<Figure size 1000x600 with 1 Axes>"
      ]
     },
     "metadata": {},
     "output_type": "display_data"
    }
   ],
   "source": [
    "# Plot residuals\n",
    "plt.figure(figsize=(10, 6))\n",
    "residuals = y_test - y_pred\n",
    "sns.scatterplot(x=y_test, y=residuals)\n",
    "plt.title('Residuals Plot')\n",
    "plt.xlabel('Actual Values')\n",
    "plt.ylabel('Residuals')\n",
    "plt.show()"
   ]
  },
  {
   "cell_type": "markdown",
   "id": "18481d2b",
   "metadata": {},
   "source": [
    "In this type of plot, we can visualize the discrepancy between the actual values and the predicted values in a regression model.\n",
    "\n",
    "Let's break down the plot:\n",
    "\n",
    "- On the x-axis, we have the actual values of the variable called 'Total Cup Points'.\n",
    "- The y-axis represents the residuals, which are calculated as the differences between the actual values and the predicted values of 'Total Cup Points'.\n",
    "\n",
    "Ideally, in a perfect model, all the points would align along the horizontal line at y=0. This line represents the instances where the predicted value matches exactly with the actual value.\n",
    "\n",
    "When examining the plot, we observe that the residuals are spread around the y=0 line, which is a positive indication. This implies that the model's errors appear to be randomly scattered without any discernible pattern.\n",
    "\n",
    "Nevertheless, there are certain points that deviate from the y=0 line, indicating areas where the model's predictions were inaccurate.\n",
    "\n",
    "Keep in mind that the proximity of the points to the y=0 line is an indicator of prediction quality. Points that are far from the line indicate predictions that significantly differ from the actual values.\n",
    "\n",
    "Additionally, the density of points can provide insights into the distribution of errors. If you notice a high density of points far from the y=0 line, it might suggest systematic errors present in the model."
   ]
  },
  {
   "cell_type": "code",
   "execution_count": null,
   "id": "f3110b5c",
   "metadata": {},
   "outputs": [
    {
     "data": {
      "image/png": "[encoded data removed]",
      "text/plain": [
       "<Figure size 1000x600 with 1 Axes>"
      ]
     },
     "metadata": {},
     "output_type": "display_data"
    }
   ],
   "source": [
    "# Plot prediction error\n",
    "plt.figure(figsize=(10, 6))\n",
    "sns.scatterplot(x=y_test, y=y_pred)\n",
    "plt.title('Prediction Error Plot')\n",
    "plt.xlabel('Actual Values')\n",
    "plt.ylabel('Predicted Values')\n",
    "plt.show()"
   ]
  },
  {
   "cell_type": "markdown",
   "id": "287f3777",
   "metadata": {},
   "source": [
    "In this type of plot, we can examine the disparities between the actual values and the predicted values in a regression model. It's commonly known as the Prediction Error Plot.\n",
    "\n",
    "Let's break down the plot:\n",
    "\n",
    "- The x-axis represents the actual values of the variable called 'Total Cup Points'.\n",
    "- On the y-axis, we have the predicted values of 'Total Cup Points'.\n",
    "\n",
    "In an ideal scenario with perfect predictions, all the points would align along the diagonal line. This line represents instances where the predicted value matches exactly with the actual value.\n",
    "\n",
    "When analyzing the plot, we can observe that most of the points are relatively close to the diagonal line, indicating reasonably accurate predictions by the model. However, there are certain points that deviate from the line, highlighting areas where the model's predictions were inaccurate.\n",
    "\n",
    "Remember, the proximity of the points to the diagonal line indicates the quality of predictions. Points that are far from the line suggest predictions that significantly differ from the actual values.\n",
    "\n",
    "Additionally, the density of points can provide insights into the distribution of errors. If you notice a high density of points far from the diagonal line, it could indicate systematic errors present in the model.\n",
    "\n",
    "In summary, this plot offers a visual means to assess the performance of a regression model. It serves as a valuable tool for understanding the areas where the model makes errors and the magnitude of those errors.\n",
    "\n",
    "***\n",
    "\n",
    "<br>\n",
    "\n",
    "<div style=\"text-align: center;\">\n",
    "   <span style=\"font-size: 4.5em; font-weight: bold; font-family: Arial;\">THANK YOU!</span>\n",
    "</div>\n",
    "\n",
    "<div style=\"text-align: center;\">\n",
    "    <span style=\"font-size: 5em;\">✔️</span>\n",
    "</div>\n",
    "\n",
    "<br>\n",
    "\n",
    "<div style=\"text-align: center;\">\n",
    "   <span style=\"font-size: 1.4em; font-weight: bold; font-family: Arial; max-width:1200px; display: inline-block;\">\n",
    "       If you discovered this notebook to be useful or enjoyable, I'd greatly appreciate any upvotes! Your support motivates me to regularly update and improve it. :-)\n",
    "   </span>\n",
    "</div>\n",
    "\n",
    "<br>\n",
    "\n",
    "<br>\n",
    "\n",
    "<div style=\"text-align: center;\">\n",
    "   <span style=\"font-size: 1.2em; font-weight: bold;font-family: Arial;\">@stehrt</span>\n",
    "</div>"
   ]
  },
  {
   "cell_type": "code",
   "execution_count": null,
   "id": "1c5efffa",
   "metadata": {},
   "outputs": [],
   "source": []
  }
 ],
 "metadata": {
  "kernelspec": {
   "display_name": "python3",
   "language": "python",
   "name": "python3"
  }
 },
 "nbformat": 4,
 "nbformat_minor": 5
}
